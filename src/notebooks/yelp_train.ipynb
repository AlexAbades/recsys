{
 "cells": [
  {
   "cell_type": "code",
   "execution_count": 1,
   "metadata": {},
   "outputs": [],
   "source": [
    "import pandas as pd\n",
    "\n",
    "# Load preprocessed Data\n",
    "import sys\n",
    "\n",
    "sys.path.append(\"/home/alexabades/recsys\")\n",
    "from src.data.PreProcessDataContext import PreProcessDataNCFContextual"
   ]
  },
  {
   "cell_type": "code",
   "execution_count": 2,
   "metadata": {},
   "outputs": [],
   "source": [
    "N_users = 528685\n",
    "N_items = 143711\n",
    "N_interactions = 5197755"
   ]
  },
  {
   "cell_type": "code",
   "execution_count": 3,
   "metadata": {},
   "outputs": [],
   "source": [
    "# path = \"../data/raw/YELP/yelp.csv\"\n",
    "path = \"../data/processed/YELP/CNCF/yelp_2_ctx/yelp_2_ctx.train.rating\"\n",
    "data = pd.read_csv(path, sep=\"\\t\", index_col=False)"
   ]
  },
  {
   "cell_type": "code",
   "execution_count": 4,
   "metadata": {},
   "outputs": [],
   "source": [
    "s0 = sys.getsizeof(data[: int(data.shape[0] / 4)]) / 1000000000\n",
    "s1 = sys.getsizeof(data[: int(data.shape[0] / 3)]) / 1000000000\n",
    "s2 = sys.getsizeof(data[: int(data.shape[0] / 2)]) / 1000000000\n",
    "s3 = sys.getsizeof(data) / 1000000000\n",
    "s5 = sys.getsizeof(pd.concat([data, data[: int(data.shape[0] / 4)]])) / 1000000000\n",
    "s6 = sys.getsizeof(pd.concat([data, data[: int(data.shape[0] / 3)]])) / 1000000000\n",
    "s7 = sys.getsizeof(pd.concat([data, data[: int(data.shape[0] / 2)]])) / 1000000000\n",
    "s8 = sys.getsizeof(pd.concat([data, data])) / 1000000000\n",
    "s9 = sys.getsizeof(pd.concat([data, data, data])) / 1000000000\n",
    "N = data.shape[0]\n",
    "size = [s0, s1, s2, s3, s5, s6, s7, s8, s9]\n",
    "rows = [N // 4, N // 3, N // 2, N, N + N // 4, N + N // 3, N + N // 2, N * 2, N*3]"
   ]
  },
  {
   "cell_type": "code",
   "execution_count": 32,
   "metadata": {},
   "outputs": [
    {
     "data": {
      "text/plain": [
       "<matplotlib.collections.PathCollection at 0x7f75891a4490>"
      ]
     },
     "execution_count": 32,
     "metadata": {},
     "output_type": "execute_result"
    },
    {
     "data": {
      "image/png": "[encoded data removed]",
      "text/plain": [
       "<Figure size 640x480 with 1 Axes>"
      ]
     },
     "metadata": {},
     "output_type": "display_data"
    }
   ],
   "source": [
    "import matplotlib.pyplot as plt \n",
    "\n",
    "fig, ax = plt.subplots()\n",
    "ax.scatter(size, rows)"
   ]
  },
  {
   "cell_type": "code",
   "execution_count": 35,
   "metadata": {},
   "outputs": [
    {
     "data": {
      "text/plain": [
       "3044"
      ]
     },
     "execution_count": 35,
     "metadata": {},
     "output_type": "execute_result"
    }
   ],
   "source": [
    "data.groupby(['0'])['0.1'].count().max()\n",
    "# 550000 rows; 3044 columns"
   ]
  },
  {
   "cell_type": "code",
   "execution_count": 30,
   "metadata": {},
   "outputs": [],
   "source": [
    "interacted_items = data.groupby(['0'])['0.1'].apply(set).to_dict()\n",
    "total_items = set(range(data['businessId'].max()))\n",
    "non_interacted_items = {user_id: total_items - interacted_set for user_id, interacted_set in interacted_items.items()}"
   ]
  },
  {
   "cell_type": "code",
   "execution_count": 36,
   "metadata": {},
   "outputs": [
    {
     "data": {
      "text/plain": [
       "143711"
      ]
     },
     "execution_count": 36,
     "metadata": {},
     "output_type": "execute_result"
    }
   ],
   "source": [
    "N_items"
   ]
  },
  {
   "cell_type": "code",
   "execution_count": 38,
   "metadata": {},
   "outputs": [
    {
     "data": {
      "text/plain": [
       "{1, 2, 3, 4}"
      ]
     },
     "execution_count": 38,
     "metadata": {},
     "output_type": "execute_result"
    }
   ],
   "source": [
    "set([1, 2, 3, 4])"
   ]
  },
  {
   "cell_type": "code",
   "execution_count": null,
   "metadata": {},
   "outputs": [
    {
     "ename": "",
     "evalue": "",
     "output_type": "error",
     "traceback": [
      "\u001b[1;31mThe Kernel crashed while executing code in the current cell or a previous cell. \n",
      "\u001b[1;31mPlease review the code in the cell(s) to identify a possible cause of the failure. \n",
      "\u001b[1;31mClick <a href='https://aka.ms/vscodeJupyterKernelCrash'>here</a> for more info. \n",
      "\u001b[1;31mView Jupyter <a href='command:jupyter.viewOutput'>log</a> for further details."
     ]
    }
   ],
   "source": [
    "import matplotlib.pyplot as plt \n",
    "N_items = 143711\n",
    "test_dic = dict()\n",
    "dict_sizes = []\n",
    "N = 5000\n",
    "for i in range(N):\n",
    "  test_dic[i] = set(range(N_items//2))\n",
    "  if not i % 10 :\n",
    "    dict_sizes.append(sys.getsizeof(test_dic) / 1000000)\n",
    "\n"
   ]
  },
  {
   "cell_type": "code",
   "execution_count": 9,
   "metadata": {},
   "outputs": [
    {
     "data": {
      "text/plain": [
       "<matplotlib.collections.PathCollection at 0x7fd1ccddbb20>"
      ]
     },
     "execution_count": 9,
     "metadata": {},
     "output_type": "execute_result"
    },
    {
     "data": {
      "image/png": "[encoded data removed]",
      "text/plain": [
       "<Figure size 640x480 with 1 Axes>"
      ]
     },
     "metadata": {},
     "output_type": "display_data"
    }
   ],
   "source": [
    "fig, ax = plt.subplots()\n",
    "ax.scatter(range(10,1001,10), dict_sizes)"
   ]
  },
  {
   "cell_type": "code",
   "execution_count": null,
   "metadata": {},
   "outputs": [],
   "source": [
    "import sys\n",
    "import matplotlib.pyplot as plt\n",
    "\n",
    "N_items = 100  # Assuming a value for N_items; adjust as needed\n",
    "test_dic = {}\n",
    "dict_sizes = []\n",
    "\n",
    "for i in range(1, 1000):  # Start from 1 to avoid division by zero\n",
    "    test_dic[i] = set(range(N_items//2))\n",
    "    if i % 100 == 0:  # Collect sizes at every 100th iteration\n",
    "        dict_sizes.append(sys.getsizeof(test_dic) / 1000000000)\n",
    "\n",
    "# Correct the range to match the intervals where sizes were collected\n",
    "y_ticks = range(100, 1001, 100)\n",
    "\n",
    "fig, ax = plt.subplots()\n",
    "ax.scatter(dict_sizes, y_ticks)  # Ensure x and y data lengths match\n",
    "plt.show()\n"
   ]
  },
  {
   "cell_type": "code",
   "execution_count": 6,
   "metadata": {},
   "outputs": [
    {
     "data": {
      "text/plain": [
       "1.852e-05"
      ]
     },
     "execution_count": 6,
     "metadata": {},
     "output_type": "execute_result"
    }
   ],
   "source": [
    "sys.getsizeof(test_dic) / 1000000000"
   ]
  },
  {
   "cell_type": "code",
   "execution_count": 7,
   "metadata": {},
   "outputs": [],
   "source": [
    "# data.to_csv('../data/processed/Yelp/yelp.csv', sep='\\t', index=False)"
   ]
  },
  {
   "cell_type": "code",
   "execution_count": 9,
   "metadata": {},
   "outputs": [],
   "source": [
    "columns = [\n",
    "    \"userId\",\n",
    "    \"businessId\",\n",
    "    \"stars\",\n",
    "    \"latitude\",\n",
    "    \"longitude\",\n",
    "    \"isweekend\",\n",
    "    \"daytime\",\n",
    "    \"week_number\",\n",
    "    \"season\",\n",
    "    \"isHoliday\",\n",
    "    \"num_firends\",\n",
    "    \"num_elite\",\n",
    "    \"seniority\",\n",
    "]"
   ]
  },
  {
   "cell_type": "code",
   "execution_count": 14,
   "metadata": {},
   "outputs": [],
   "source": [
    "# data.to_csv('../data/processed/Yelp/yelp.csv')"
   ]
  },
  {
   "cell_type": "markdown",
   "metadata": {},
   "source": [
    "YELP\n"
   ]
  },
  {
   "cell_type": "code",
   "execution_count": 1,
   "metadata": {},
   "outputs": [],
   "source": [
    "import pandas as pd\n",
    "\n",
    "# Load preprocessed Data\n",
    "import sys\n",
    "\n",
    "sys.path.append(\"/home/alexabades/recsys\")\n",
    "from src.data.PreProcessDataContext import PreProcessDataNCFContextual"
   ]
  },
  {
   "cell_type": "code",
   "execution_count": 5,
   "metadata": {},
   "outputs": [],
   "source": [
    "path = \"../data/raw/YELP/\"\n",
    "data_file = \"yelp.csv\"\n",
    "user_column = \"userId\"\n",
    "item_column = \"businessId\"\n",
    "ratings_column = \"stars\"\n",
    "ctx_categorical_columns = [\"isweekend\", \"season\", \"isHoliday\", \"daytime\"]\n",
    "ctx_numerical_columns = [\n",
    "    \"latitude\",\n",
    "    \"longitude\",\n",
    "    \"week_number\",\n",
    "    \"num_firends\",\n",
    "    \"num_elite\",\n",
    "    \"seniority\",\n",
    "]\n",
    "columns_to_transform = {\"cyclical\": [\"week_number\"]}\n",
    "min_interactions = 1"
   ]
  },
  {
   "cell_type": "code",
   "execution_count": 6,
   "metadata": {},
   "outputs": [
    {
     "name": "stdout",
     "output_type": "stream",
     "text": [
      "cyclical transformation performed on ['week_number'] \n"
     ]
    },
    {
     "name": "stderr",
     "output_type": "stream",
     "text": [
      "/home/alexabades/recsys/src/data/PreProcessDataContext.py:130: UserWarning: \n",
      "No Columns specified to normalize: Normalizing all Numerical Columns\n",
      "  warnings.warn(\n"
     ]
    },
    {
     "name": "stdout",
     "output_type": "stream",
     "text": [
      "Iteration 0\n",
      "Iteration 1\n",
      "Iteration 2\n",
      "K-core cleaning performed with k: 1\n"
     ]
    },
    {
     "ename": "KeyboardInterrupt",
     "evalue": "",
     "output_type": "error",
     "traceback": [
      "\u001b[0;31m---------------------------------------------------------------------------\u001b[0m",
      "\u001b[0;31mKeyboardInterrupt\u001b[0m                         Traceback (most recent call last)",
      "Cell \u001b[0;32mIn[6], line 1\u001b[0m\n\u001b[0;32m----> 1\u001b[0m data \u001b[38;5;241m=\u001b[39m \u001b[43mPreProcessDataNCFContextual\u001b[49m\u001b[43m(\u001b[49m\n\u001b[1;32m      2\u001b[0m \u001b[43m    \u001b[49m\u001b[43mpath\u001b[49m\u001b[38;5;241;43m=\u001b[39;49m\u001b[43mpath\u001b[49m\u001b[43m,\u001b[49m\n\u001b[1;32m      3\u001b[0m \u001b[43m    \u001b[49m\u001b[43mdata_file\u001b[49m\u001b[38;5;241;43m=\u001b[39;49m\u001b[43mdata_file\u001b[49m\u001b[43m,\u001b[49m\n\u001b[1;32m      4\u001b[0m \u001b[43m    \u001b[49m\u001b[43muser_column\u001b[49m\u001b[38;5;241;43m=\u001b[39;49m\u001b[43muser_column\u001b[49m\u001b[43m,\u001b[49m\n\u001b[1;32m      5\u001b[0m \u001b[43m    \u001b[49m\u001b[43mitem_column\u001b[49m\u001b[38;5;241;43m=\u001b[39;49m\u001b[43mitem_column\u001b[49m\u001b[43m,\u001b[49m\n\u001b[1;32m      6\u001b[0m \u001b[43m    \u001b[49m\u001b[43mratings_column\u001b[49m\u001b[38;5;241;43m=\u001b[39;49m\u001b[43mratings_column\u001b[49m\u001b[43m,\u001b[49m\n\u001b[1;32m      7\u001b[0m \u001b[43m    \u001b[49m\u001b[43mctx_categorical_columns\u001b[49m\u001b[38;5;241;43m=\u001b[39;49m\u001b[43mctx_categorical_columns\u001b[49m\u001b[43m,\u001b[49m\n\u001b[1;32m      8\u001b[0m \u001b[43m    \u001b[49m\u001b[43mctx_numerical_columns\u001b[49m\u001b[38;5;241;43m=\u001b[39;49m\u001b[43mctx_numerical_columns\u001b[49m\u001b[43m,\u001b[49m\n\u001b[1;32m      9\u001b[0m \u001b[43m    \u001b[49m\u001b[43mcolumns_to_transform\u001b[49m\u001b[38;5;241;43m=\u001b[39;49m\u001b[43mcolumns_to_transform\u001b[49m\u001b[43m,\u001b[49m\n\u001b[1;32m     10\u001b[0m \u001b[43m    \u001b[49m\u001b[43mmin_interactions\u001b[49m\u001b[38;5;241;43m=\u001b[39;49m\u001b[43mmin_interactions\u001b[49m\u001b[43m,\u001b[49m\n\u001b[1;32m     11\u001b[0m \u001b[43m)\u001b[49m\n",
      "File \u001b[0;32m~/recsys/src/data/PreProcessDataContext.py:91\u001b[0m, in \u001b[0;36mPreProcessDataNCFContextual.__init__\u001b[0;34m(self, path, data_file, meta_file, key_column, user_column, item_column, ratings_column, ctx_categorical_columns, ctx_numerical_columns, columns_to_transform, columns_to_normalize, folder_name, min_interactions, min_samples_per_user_test_set, is_binary_classification, train_test_split, sep, test_size)\u001b[0m\n\u001b[1;32m     78\u001b[0m \u001b[38;5;28mself\u001b[39m\u001b[38;5;241m.\u001b[39mcolumns \u001b[38;5;241m=\u001b[39m \u001b[38;5;28mself\u001b[39m\u001b[38;5;241m.\u001b[39m_clean_columns(\n\u001b[1;32m     79\u001b[0m     user_column,\n\u001b[1;32m     80\u001b[0m     item_column,\n\u001b[0;32m   (...)\u001b[0m\n\u001b[1;32m     83\u001b[0m     ctx_numerical_columns,\n\u001b[1;32m     84\u001b[0m )\n\u001b[1;32m     85\u001b[0m \u001b[38;5;28mself\u001b[39m\u001b[38;5;241m.\u001b[39m_load_datasets(\n\u001b[1;32m     86\u001b[0m     path\u001b[38;5;241m=\u001b[39mpath,\n\u001b[1;32m     87\u001b[0m     meta_file\u001b[38;5;241m=\u001b[39mmeta_file,\n\u001b[1;32m     88\u001b[0m     data_file\u001b[38;5;241m=\u001b[39mdata_file,\n\u001b[1;32m     89\u001b[0m     sep\u001b[38;5;241m=\u001b[39m\u001b[38;5;28mself\u001b[39m\u001b[38;5;241m.\u001b[39msep,\n\u001b[1;32m     90\u001b[0m )\n\u001b[0;32m---> 91\u001b[0m \u001b[38;5;28mself\u001b[39m\u001b[38;5;241m.\u001b[39mdata \u001b[38;5;241m=\u001b[39m \u001b[38;5;28;43mself\u001b[39;49m\u001b[38;5;241;43m.\u001b[39;49m\u001b[43mcreate_data\u001b[49m\u001b[43m(\u001b[49m\n\u001b[1;32m     92\u001b[0m \u001b[43m    \u001b[49m\u001b[43muser_column\u001b[49m\u001b[38;5;241;43m=\u001b[39;49m\u001b[43muser_column\u001b[49m\u001b[43m,\u001b[49m\n\u001b[1;32m     93\u001b[0m \u001b[43m    \u001b[49m\u001b[43mitem_column\u001b[49m\u001b[38;5;241;43m=\u001b[39;49m\u001b[43mitem_column\u001b[49m\u001b[43m,\u001b[49m\n\u001b[1;32m     94\u001b[0m \u001b[43m    \u001b[49m\u001b[43mratings_colum\u001b[49m\u001b[38;5;241;43m=\u001b[39;49m\u001b[43mratings_column\u001b[49m\u001b[43m,\u001b[49m\n\u001b[1;32m     95\u001b[0m \u001b[43m    \u001b[49m\u001b[43mmin_interactions\u001b[49m\u001b[38;5;241;43m=\u001b[39;49m\u001b[43mmin_interactions\u001b[49m\u001b[43m,\u001b[49m\n\u001b[1;32m     96\u001b[0m \u001b[43m    \u001b[49m\u001b[43mctx_categorical_columns\u001b[49m\u001b[38;5;241;43m=\u001b[39;49m\u001b[43mctx_categorical_columns\u001b[49m\u001b[43m,\u001b[49m\n\u001b[1;32m     97\u001b[0m \u001b[43m    \u001b[49m\u001b[43mctx_numerical_columns\u001b[49m\u001b[38;5;241;43m=\u001b[39;49m\u001b[43mctx_numerical_columns\u001b[49m\u001b[43m,\u001b[49m\n\u001b[1;32m     98\u001b[0m \u001b[43m    \u001b[49m\u001b[43mcolumns_to_transform\u001b[49m\u001b[38;5;241;43m=\u001b[39;49m\u001b[43mcolumns_to_transform\u001b[49m\u001b[43m,\u001b[49m\n\u001b[1;32m     99\u001b[0m \u001b[43m    \u001b[49m\u001b[43mcolumns_to_normalize\u001b[49m\u001b[38;5;241;43m=\u001b[39;49m\u001b[43mcolumns_to_normalize\u001b[49m\u001b[43m,\u001b[49m\n\u001b[1;32m    100\u001b[0m \u001b[43m    \u001b[49m\u001b[43mmin_samples_per_user_test_set\u001b[49m\u001b[38;5;241;43m=\u001b[39;49m\u001b[43mmin_samples_per_user_test_set\u001b[49m\u001b[43m,\u001b[49m\n\u001b[1;32m    101\u001b[0m \u001b[43m\u001b[49m\u001b[43m)\u001b[49m\n",
      "File \u001b[0;32m~/recsys/src/data/PreProcessDataContext.py:162\u001b[0m, in \u001b[0;36mPreProcessDataNCFContextual.create_data\u001b[0;34m(self, user_column, item_column, ratings_colum, min_interactions, ctx_categorical_columns, ctx_numerical_columns, columns_to_transform, columns_to_normalize, min_samples_per_user_test_set)\u001b[0m\n\u001b[1;32m    159\u001b[0m \u001b[38;5;66;03m# Train Test Split\u001b[39;00m\n\u001b[1;32m    160\u001b[0m \u001b[38;5;28;01mif\u001b[39;00m \u001b[38;5;28mself\u001b[39m\u001b[38;5;241m.\u001b[39mtrain_test_split \u001b[38;5;241m==\u001b[39m \u001b[38;5;124m\"\u001b[39m\u001b[38;5;124mloo\u001b[39m\u001b[38;5;124m\"\u001b[39m:\n\u001b[1;32m    161\u001b[0m     \u001b[38;5;28mself\u001b[39m\u001b[38;5;241m.\u001b[39mtrain_ratings, \u001b[38;5;28mself\u001b[39m\u001b[38;5;241m.\u001b[39mtest_ratings \u001b[38;5;241m=\u001b[39m (\n\u001b[0;32m--> 162\u001b[0m         \u001b[38;5;28;43mself\u001b[39;49m\u001b[38;5;241;43m.\u001b[39;49m\u001b[43m_initialize_leave_one_out_train_test_split\u001b[49m\u001b[43m(\u001b[49m\n\u001b[1;32m    163\u001b[0m \u001b[43m            \u001b[49m\u001b[43mdata\u001b[49m\u001b[38;5;241;43m=\u001b[39;49m\u001b[43mdata\u001b[49m\u001b[43m,\u001b[49m\u001b[43m \u001b[49m\u001b[43mmin_samples_test_set\u001b[49m\u001b[38;5;241;43m=\u001b[39;49m\u001b[43mmin_samples_per_user_test_set\u001b[49m\n\u001b[1;32m    164\u001b[0m \u001b[43m        \u001b[49m\u001b[43m)\u001b[49m\n\u001b[1;32m    165\u001b[0m     )\n\u001b[1;32m    167\u001b[0m \u001b[38;5;28;01melif\u001b[39;00m \u001b[38;5;28mself\u001b[39m\u001b[38;5;241m.\u001b[39mtrain_test_split \u001b[38;5;241m==\u001b[39m \u001b[38;5;124m\"\u001b[39m\u001b[38;5;124mstandard\u001b[39m\u001b[38;5;124m\"\u001b[39m:\n\u001b[1;32m    168\u001b[0m     \u001b[38;5;28mself\u001b[39m\u001b[38;5;241m.\u001b[39mtrain_ratings, \u001b[38;5;28mself\u001b[39m\u001b[38;5;241m.\u001b[39mtest_ratings \u001b[38;5;241m=\u001b[39m (\n\u001b[1;32m    169\u001b[0m         \u001b[38;5;28mself\u001b[39m\u001b[38;5;241m.\u001b[39m_initialize_standard_train_test_split(\n\u001b[1;32m    170\u001b[0m             data\u001b[38;5;241m=\u001b[39mdata, test_size\u001b[38;5;241m=\u001b[39m\u001b[38;5;28mself\u001b[39m\u001b[38;5;241m.\u001b[39mtest_size\n\u001b[1;32m    171\u001b[0m         )\n\u001b[1;32m    172\u001b[0m     )\n",
      "File \u001b[0;32m~/recsys/src/data/PreProcessDataContext.py:451\u001b[0m, in \u001b[0;36mPreProcessDataNCFContextual._initialize_leave_one_out_train_test_split\u001b[0;34m(self, data, min_samples_test_set)\u001b[0m\n\u001b[1;32m    447\u001b[0m num_interactions \u001b[38;5;241m=\u001b[39m frequency_interaction[user]\n\u001b[1;32m    448\u001b[0m \u001b[38;5;28;01mif\u001b[39;00m num_interactions \u001b[38;5;241m>\u001b[39m (\n\u001b[1;32m    449\u001b[0m     min_samples_test_set \u001b[38;5;241m+\u001b[39m \u001b[38;5;241m1\u001b[39m\n\u001b[1;32m    450\u001b[0m ):  \u001b[38;5;66;03m# should have at least one for the train test\u001b[39;00m\n\u001b[0;32m--> 451\u001b[0m     element \u001b[38;5;241m=\u001b[39m data[\u001b[43mdata\u001b[49m\u001b[43m[\u001b[49m\u001b[38;5;28;43mself\u001b[39;49m\u001b[38;5;241;43m.\u001b[39;49m\u001b[43muser_column\u001b[49m\u001b[43m]\u001b[49m\u001b[43m \u001b[49m\u001b[38;5;241;43m==\u001b[39;49m\u001b[43m \u001b[49m\u001b[43muser\u001b[49m]\u001b[38;5;241m.\u001b[39msample(\n\u001b[1;32m    452\u001b[0m         n\u001b[38;5;241m=\u001b[39mmin_samples_test_set\n\u001b[1;32m    453\u001b[0m     )\n\u001b[1;32m    454\u001b[0m \u001b[38;5;28;01melif\u001b[39;00m num_interactions \u001b[38;5;241m>\u001b[39m \u001b[38;5;241m2\u001b[39m:\n\u001b[1;32m    455\u001b[0m     element \u001b[38;5;241m=\u001b[39m data[data[\u001b[38;5;28mself\u001b[39m\u001b[38;5;241m.\u001b[39muser_column] \u001b[38;5;241m==\u001b[39m user]\u001b[38;5;241m.\u001b[39msample(n\u001b[38;5;241m=\u001b[39m\u001b[38;5;241m1\u001b[39m)\n",
      "File \u001b[0;32m~/recsys/venv/lib/python3.10/site-packages/pandas/core/ops/common.py:76\u001b[0m, in \u001b[0;36m_unpack_zerodim_and_defer.<locals>.new_method\u001b[0;34m(self, other)\u001b[0m\n\u001b[1;32m     72\u001b[0m             \u001b[38;5;28;01mreturn\u001b[39;00m \u001b[38;5;28mNotImplemented\u001b[39m\n\u001b[1;32m     74\u001b[0m other \u001b[38;5;241m=\u001b[39m item_from_zerodim(other)\n\u001b[0;32m---> 76\u001b[0m \u001b[38;5;28;01mreturn\u001b[39;00m \u001b[43mmethod\u001b[49m\u001b[43m(\u001b[49m\u001b[38;5;28;43mself\u001b[39;49m\u001b[43m,\u001b[49m\u001b[43m \u001b[49m\u001b[43mother\u001b[49m\u001b[43m)\u001b[49m\n",
      "File \u001b[0;32m~/recsys/venv/lib/python3.10/site-packages/pandas/core/arraylike.py:40\u001b[0m, in \u001b[0;36mOpsMixin.__eq__\u001b[0;34m(self, other)\u001b[0m\n\u001b[1;32m     38\u001b[0m \u001b[38;5;129m@unpack_zerodim_and_defer\u001b[39m(\u001b[38;5;124m\"\u001b[39m\u001b[38;5;124m__eq__\u001b[39m\u001b[38;5;124m\"\u001b[39m)\n\u001b[1;32m     39\u001b[0m \u001b[38;5;28;01mdef\u001b[39;00m \u001b[38;5;21m__eq__\u001b[39m(\u001b[38;5;28mself\u001b[39m, other):\n\u001b[0;32m---> 40\u001b[0m     \u001b[38;5;28;01mreturn\u001b[39;00m \u001b[38;5;28;43mself\u001b[39;49m\u001b[38;5;241;43m.\u001b[39;49m\u001b[43m_cmp_method\u001b[49m\u001b[43m(\u001b[49m\u001b[43mother\u001b[49m\u001b[43m,\u001b[49m\u001b[43m \u001b[49m\u001b[43moperator\u001b[49m\u001b[38;5;241;43m.\u001b[39;49m\u001b[43meq\u001b[49m\u001b[43m)\u001b[49m\n",
      "File \u001b[0;32m~/recsys/venv/lib/python3.10/site-packages/pandas/core/series.py:6110\u001b[0m, in \u001b[0;36mSeries._cmp_method\u001b[0;34m(self, other, op)\u001b[0m\n\u001b[1;32m   6107\u001b[0m lvalues \u001b[38;5;241m=\u001b[39m \u001b[38;5;28mself\u001b[39m\u001b[38;5;241m.\u001b[39m_values\n\u001b[1;32m   6108\u001b[0m rvalues \u001b[38;5;241m=\u001b[39m extract_array(other, extract_numpy\u001b[38;5;241m=\u001b[39m\u001b[38;5;28;01mTrue\u001b[39;00m, extract_range\u001b[38;5;241m=\u001b[39m\u001b[38;5;28;01mTrue\u001b[39;00m)\n\u001b[0;32m-> 6110\u001b[0m res_values \u001b[38;5;241m=\u001b[39m \u001b[43mops\u001b[49m\u001b[38;5;241;43m.\u001b[39;49m\u001b[43mcomparison_op\u001b[49m\u001b[43m(\u001b[49m\u001b[43mlvalues\u001b[49m\u001b[43m,\u001b[49m\u001b[43m \u001b[49m\u001b[43mrvalues\u001b[49m\u001b[43m,\u001b[49m\u001b[43m \u001b[49m\u001b[43mop\u001b[49m\u001b[43m)\u001b[49m\n\u001b[1;32m   6112\u001b[0m \u001b[38;5;28;01mreturn\u001b[39;00m \u001b[38;5;28mself\u001b[39m\u001b[38;5;241m.\u001b[39m_construct_result(res_values, name\u001b[38;5;241m=\u001b[39mres_name)\n",
      "File \u001b[0;32m~/recsys/venv/lib/python3.10/site-packages/pandas/core/ops/array_ops.py:347\u001b[0m, in \u001b[0;36mcomparison_op\u001b[0;34m(left, right, op)\u001b[0m\n\u001b[1;32m    344\u001b[0m     res_values \u001b[38;5;241m=\u001b[39m comp_method_OBJECT_ARRAY(op, lvalues, rvalues)\n\u001b[1;32m    346\u001b[0m \u001b[38;5;28;01melse\u001b[39;00m:\n\u001b[0;32m--> 347\u001b[0m     res_values \u001b[38;5;241m=\u001b[39m \u001b[43m_na_arithmetic_op\u001b[49m\u001b[43m(\u001b[49m\u001b[43mlvalues\u001b[49m\u001b[43m,\u001b[49m\u001b[43m \u001b[49m\u001b[43mrvalues\u001b[49m\u001b[43m,\u001b[49m\u001b[43m \u001b[49m\u001b[43mop\u001b[49m\u001b[43m,\u001b[49m\u001b[43m \u001b[49m\u001b[43mis_cmp\u001b[49m\u001b[38;5;241;43m=\u001b[39;49m\u001b[38;5;28;43;01mTrue\u001b[39;49;00m\u001b[43m)\u001b[49m\n\u001b[1;32m    349\u001b[0m \u001b[38;5;28;01mreturn\u001b[39;00m res_values\n",
      "File \u001b[0;32m~/recsys/venv/lib/python3.10/site-packages/pandas/core/ops/array_ops.py:218\u001b[0m, in \u001b[0;36m_na_arithmetic_op\u001b[0;34m(left, right, op, is_cmp)\u001b[0m\n\u001b[1;32m    215\u001b[0m     func \u001b[38;5;241m=\u001b[39m partial(expressions\u001b[38;5;241m.\u001b[39mevaluate, op)\n\u001b[1;32m    217\u001b[0m \u001b[38;5;28;01mtry\u001b[39;00m:\n\u001b[0;32m--> 218\u001b[0m     result \u001b[38;5;241m=\u001b[39m \u001b[43mfunc\u001b[49m\u001b[43m(\u001b[49m\u001b[43mleft\u001b[49m\u001b[43m,\u001b[49m\u001b[43m \u001b[49m\u001b[43mright\u001b[49m\u001b[43m)\u001b[49m\n\u001b[1;32m    219\u001b[0m \u001b[38;5;28;01mexcept\u001b[39;00m \u001b[38;5;167;01mTypeError\u001b[39;00m:\n\u001b[1;32m    220\u001b[0m     \u001b[38;5;28;01mif\u001b[39;00m \u001b[38;5;129;01mnot\u001b[39;00m is_cmp \u001b[38;5;129;01mand\u001b[39;00m (\n\u001b[1;32m    221\u001b[0m         left\u001b[38;5;241m.\u001b[39mdtype \u001b[38;5;241m==\u001b[39m \u001b[38;5;28mobject\u001b[39m \u001b[38;5;129;01mor\u001b[39;00m \u001b[38;5;28mgetattr\u001b[39m(right, \u001b[38;5;124m\"\u001b[39m\u001b[38;5;124mdtype\u001b[39m\u001b[38;5;124m\"\u001b[39m, \u001b[38;5;28;01mNone\u001b[39;00m) \u001b[38;5;241m==\u001b[39m \u001b[38;5;28mobject\u001b[39m\n\u001b[1;32m    222\u001b[0m     ):\n\u001b[0;32m   (...)\u001b[0m\n\u001b[1;32m    225\u001b[0m         \u001b[38;5;66;03m# Don't do this for comparisons, as that will handle complex numbers\u001b[39;00m\n\u001b[1;32m    226\u001b[0m         \u001b[38;5;66;03m#  incorrectly, see GH#32047\u001b[39;00m\n",
      "File \u001b[0;32m~/recsys/venv/lib/python3.10/site-packages/pandas/core/computation/expressions.py:242\u001b[0m, in \u001b[0;36mevaluate\u001b[0;34m(op, a, b, use_numexpr)\u001b[0m\n\u001b[1;32m    239\u001b[0m \u001b[38;5;28;01mif\u001b[39;00m op_str \u001b[38;5;129;01mis\u001b[39;00m \u001b[38;5;129;01mnot\u001b[39;00m \u001b[38;5;28;01mNone\u001b[39;00m:\n\u001b[1;32m    240\u001b[0m     \u001b[38;5;28;01mif\u001b[39;00m use_numexpr:\n\u001b[1;32m    241\u001b[0m         \u001b[38;5;66;03m# error: \"None\" not callable\u001b[39;00m\n\u001b[0;32m--> 242\u001b[0m         \u001b[38;5;28;01mreturn\u001b[39;00m \u001b[43m_evaluate\u001b[49m\u001b[43m(\u001b[49m\u001b[43mop\u001b[49m\u001b[43m,\u001b[49m\u001b[43m \u001b[49m\u001b[43mop_str\u001b[49m\u001b[43m,\u001b[49m\u001b[43m \u001b[49m\u001b[43ma\u001b[49m\u001b[43m,\u001b[49m\u001b[43m \u001b[49m\u001b[43mb\u001b[49m\u001b[43m)\u001b[49m  \u001b[38;5;66;03m# type: ignore[misc]\u001b[39;00m\n\u001b[1;32m    243\u001b[0m \u001b[38;5;28;01mreturn\u001b[39;00m _evaluate_standard(op, op_str, a, b)\n",
      "File \u001b[0;32m~/recsys/venv/lib/python3.10/site-packages/pandas/core/computation/expressions.py:73\u001b[0m, in \u001b[0;36m_evaluate_standard\u001b[0;34m(op, op_str, a, b)\u001b[0m\n\u001b[1;32m     71\u001b[0m \u001b[38;5;28;01mif\u001b[39;00m _TEST_MODE:\n\u001b[1;32m     72\u001b[0m     _store_test_result(\u001b[38;5;28;01mFalse\u001b[39;00m)\n\u001b[0;32m---> 73\u001b[0m \u001b[38;5;28;01mreturn\u001b[39;00m \u001b[43mop\u001b[49m\u001b[43m(\u001b[49m\u001b[43ma\u001b[49m\u001b[43m,\u001b[49m\u001b[43m \u001b[49m\u001b[43mb\u001b[49m\u001b[43m)\u001b[49m\n",
      "\u001b[0;31mKeyboardInterrupt\u001b[0m: "
     ]
    }
   ],
   "source": [
    "data = PreProcessDataNCFContextual(\n",
    "    path=path,\n",
    "    data_file=data_file,\n",
    "    user_column=user_column,\n",
    "    item_column=item_column,\n",
    "    ratings_column=ratings_column,\n",
    "    ctx_categorical_columns=ctx_categorical_columns,\n",
    "    ctx_numerical_columns=ctx_numerical_columns,\n",
    "    columns_to_transform=columns_to_transform,\n",
    "    min_interactions=min_interactions,\n",
    ")"
   ]
  },
  {
   "cell_type": "code",
   "execution_count": 4,
   "metadata": {},
   "outputs": [
    {
     "name": "stdout",
     "output_type": "stream",
     "text": [
      "Saved in:  /home/alexabades/recsys/src/data/processed/yelp_2_ctx/yelp_2_ctx\n"
     ]
    }
   ],
   "source": [
    "data.save_data(folder_name=\"yelp_10_ctx\")"
   ]
  },
  {
   "cell_type": "markdown",
   "metadata": {},
   "source": [
    "FRAPPE\n"
   ]
  },
  {
   "cell_type": "code",
   "execution_count": 1,
   "metadata": {},
   "outputs": [],
   "source": [
    "import pandas as pd\n",
    "\n",
    "# Load preprocessed Data\n",
    "import sys\n",
    "\n",
    "sys.path.append(\"/home/alexabades/recsys\")\n",
    "from src.data.PreProcessDataContext import PreProcessDataNCFContextual"
   ]
  },
  {
   "cell_type": "code",
   "execution_count": 2,
   "metadata": {},
   "outputs": [],
   "source": [
    "path = \"../data/raw/frappe/\"\n",
    "data_file = \"frappe.csv\"\n",
    "meta_file = \"meta.csv\"\n",
    "user_column = \"user\"\n",
    "item_column = \"item\"\n",
    "ratings_colum = \"rating\"\n",
    "ctx_categorical_columns = [\n",
    "    \"daytime\",\n",
    "    \"weather\",\n",
    "    \"isweekend\",\n",
    "    \"homework\",\n",
    "]\n",
    "ctx_numerical_columns = [\"cnt\"]\n",
    "columns_to_transform = {\"log\": \"cnt\"}\n",
    "min_interactions = 5"
   ]
  },
  {
   "cell_type": "code",
   "execution_count": 3,
   "metadata": {},
   "outputs": [
    {
     "name": "stderr",
     "output_type": "stream",
     "text": [
      "/home/alexabades/recsys/src/data/PreProcessDataContext.py:213: UserWarning: No Key Column specified. Using item column as Key column.\n",
      "  warnings.warn(\n",
      "/home/alexabades/recsys/src/data/PreProcessDataContext.py:164: UserWarning: No Columns specified to nomralize...........Normalizing all Numerical Columns\n",
      "  warnings.warn(\n"
     ]
    },
    {
     "name": "stdout",
     "output_type": "stream",
     "text": [
      "log transformation performed on ['cnt'] \n",
      "Iteration 0\n",
      "Iteration 1\n"
     ]
    }
   ],
   "source": [
    "data = PreProcessDataNCFContextual(\n",
    "    path=path,\n",
    "    data_file=data_file,\n",
    "    meta_file=meta_file,\n",
    "    user_column=user_column,\n",
    "    item_column=item_column,\n",
    "    ratings_column=ratings_colum,\n",
    "    ctx_categorical_columns=ctx_categorical_columns,\n",
    "    ctx_numerical_columns=ctx_numerical_columns,\n",
    "    columns_to_transform=columns_to_transform,\n",
    "    min_interactions=min_interactions,\n",
    ")"
   ]
  },
  {
   "cell_type": "code",
   "execution_count": 6,
   "metadata": {},
   "outputs": [
    {
     "data": {
      "text/plain": [
       "1.0"
      ]
     },
     "execution_count": 6,
     "metadata": {},
     "output_type": "execute_result"
    }
   ],
   "source": [
    "data.data[\"cnt\"].max()"
   ]
  },
  {
   "cell_type": "code",
   "execution_count": 7,
   "metadata": {},
   "outputs": [
    {
     "name": "stdout",
     "output_type": "stream",
     "text": [
      "Saved in:  /home/alexabades/recsys/src/data/processed/frappe_ctx/frappe_ctx\n"
     ]
    }
   ],
   "source": [
    "data.save_data(folder_name=\"frappe_ctx\")"
   ]
  },
  {
   "cell_type": "code",
   "execution_count": 2,
   "metadata": {},
   "outputs": [],
   "source": [
    "import pandas as pd\n",
    "path = '../data/processed/YELP/CNCF/yelp_5_ctx/yelp_ctx.train.rating'\n",
    "data = pd.read_csv(path, sep=\"\\t\", index_col=False)"
   ]
  },
  {
   "cell_type": "code",
   "execution_count": 6,
   "metadata": {},
   "outputs": [
    {
     "data": {
      "text/plain": [
       "0.729522728"
      ]
     },
     "execution_count": 6,
     "metadata": {},
     "output_type": "execute_result"
    }
   ],
   "source": [
    "data.memory_usage().sum() / 1000000000"
   ]
  },
  {
   "cell_type": "code",
   "execution_count": 15,
   "metadata": {},
   "outputs": [],
   "source": [
    "T = data.iloc[:,: ]"
   ]
  },
  {
   "cell_type": "code",
   "execution_count": 17,
   "metadata": {},
   "outputs": [],
   "source": [
    "import torch \n",
    "ten = torch.tensor(T.values.astype(float)) "
   ]
  },
  {
   "cell_type": "code",
   "execution_count": 19,
   "metadata": {},
   "outputs": [
    {
     "data": {
      "text/plain": [
       "0.7295226"
      ]
     },
     "execution_count": 19,
     "metadata": {},
     "output_type": "execute_result"
    }
   ],
   "source": [
    "ten.element_size() * ten.nelement() / 1000000000"
   ]
  },
  {
   "cell_type": "code",
   "execution_count": 1,
   "metadata": {},
   "outputs": [],
   "source": [
    "dic = {\n",
    "    \"foldername\": \"frap-no-init_weights\",\n",
    "    \"layers\": [21, 9],\n",
    "    \"processed_data_root\": \"data/processed/frappeCtxA/\",\n",
    "    \"raw_data_root\": \"data/processed/frappe/\",\n",
    "    \"epochs\": 100,\n",
    "    \"batch_size\": 256,\n",
    "    \"lr\": 0.001,\n",
    "    \"optimizer\": \"adam\",\n",
    "    \"dropout\": 0,\n",
    "    \"verbose\": 1,\n",
    "    \"loss\": \"MSE\",\n",
    "    \"name\": \"frappe\",\n",
    "}"
   ]
  },
  {
   "cell_type": "code",
   "execution_count": 7,
   "metadata": {},
   "outputs": [],
   "source": [
    "with open('text.txt', 'w') as f:\n",
    "  for i in dic.keys():\n",
    "    f.write(f'{i}: {dic[i]}\\n')"
   ]
  },
  {
   "cell_type": "code",
   "execution_count": 8,
   "metadata": {},
   "outputs": [],
   "source": [
    "from src.models.contextNFC.context_nfc import DeepNCF\n",
    "\n",
    "\n",
    "model = DeepNCF(\n",
    "        num_users=215366,\n",
    "        num_items=95895,\n",
    "        num_context=22,\n",
    "        mf_dim=8,\n",
    "        layers=[86, 32, 16, 8], \n",
    "    )"
   ]
  },
  {
   "cell_type": "code",
   "execution_count": 10,
   "metadata": {},
   "outputs": [
    {
     "name": "stdout",
     "output_type": "stream",
     "text": [
      "INFO: Model Size: 47.51 MB\n",
      "INFO: Trainable parameter count: 12453905\n"
     ]
    }
   ],
   "source": [
    "from src.utils.model_stats.stats import calculate_model_size\n",
    "\n",
    "\n",
    "calculate_model_size(model)"
   ]
  },
  {
   "cell_type": "code",
   "execution_count": null,
   "metadata": {},
   "outputs": [],
   "source": []
  }
 ],
 "metadata": {
  "kernelspec": {
   "display_name": "venv",
   "language": "python",
   "name": "python3"
  },
  "language_info": {
   "codemirror_mode": {
    "name": "ipython",
    "version": 3
   },
   "file_extension": ".py",
   "mimetype": "text/x-python",
   "name": "python",
   "nbconvert_exporter": "python",
   "pygments_lexer": "ipython3",
   "version": "3.10.12"
  }
 },
 "nbformat": 4,
 "nbformat_minor": 2
}
