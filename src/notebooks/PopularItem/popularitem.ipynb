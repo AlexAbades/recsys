{
 "cells": [
  {
   "cell_type": "code",
   "execution_count": 2,
   "metadata": {},
   "outputs": [],
   "source": [
    "path = '/home/alexabades/recsys/src/logs/logs_yelp-b264-f8'"
   ]
  },
  {
   "cell_type": "code",
   "execution_count": 4,
   "metadata": {},
   "outputs": [],
   "source": [
    "highest_hr = -1\n",
    "metrics_for_highest_hr = {}\n",
    "\n",
    "with open(path, 'r') as file:\n",
    "    for line in file:\n",
    "        if \"HR =\" in line:\n",
    "            # Extract metrics from the line\n",
    "            parts = line.split(',')\n",
    "            hr = float(parts[0].split('=')[1].strip())\n",
    "            mrr = float(parts[1].split('=')[1].strip())\n",
    "            ndcg = float(parts[2].split('=')[1].strip())\n",
    "\n",
    "            # Check if the current HR is the highest we've encountered\n",
    "            if hr > highest_hr:\n",
    "                highest_hr = hr\n",
    "                metrics_for_highest_hr = {\n",
    "                    'HR': hr,\n",
    "                    'MRR': mrr,\n",
    "                    'NDCG': ndcg\n",
    "                }\n",
    "\n"
   ]
  },
  {
   "cell_type": "code",
   "execution_count": 7,
   "metadata": {},
   "outputs": [
    {
     "data": {
      "text/plain": [
       "{'HR': 0.4061, 'MRR': 0.1945, 'NDCG': 0.2438}"
      ]
     },
     "execution_count": 7,
     "metadata": {},
     "output_type": "execute_result"
    }
   ],
   "source": [
    "metrics_for_highest_hr"
   ]
  },
  {
   "cell_type": "code",
   "execution_count": 11,
   "metadata": {},
   "outputs": [],
   "source": [
    "from time import time \n",
    "s1 = time()"
   ]
  },
  {
   "cell_type": "code",
   "execution_count": 14,
   "metadata": {},
   "outputs": [],
   "source": [
    "s2= time()"
   ]
  },
  {
   "cell_type": "code",
   "execution_count": 15,
   "metadata": {},
   "outputs": [
    {
     "name": "stdout",
     "output_type": "stream",
     "text": [
      "68.46067404747009\n"
     ]
    }
   ],
   "source": [
    "elapsed = s2 - s1\n",
    "print(elapsed)"
   ]
  },
  {
   "cell_type": "code",
   "execution_count": 17,
   "metadata": {},
   "outputs": [
    {
     "name": "stdout",
     "output_type": "stream",
     "text": [
      "854514602\n"
     ]
    }
   ],
   "source": [
    "s1 = time()\n",
    "\n",
    "for i in range(1000000000):\n",
    "    s2 = time()\n",
    "    if s2 - s1 > 2 * 60:\n",
    "        print(i)\n",
    "        break\n",
    "    \n",
    "    pass"
   ]
  },
  {
   "cell_type": "code",
   "execution_count": 9,
   "metadata": {},
   "outputs": [],
   "source": [
    "s2 = time()"
   ]
  },
  {
   "cell_type": "code",
   "execution_count": 7,
   "metadata": {},
   "outputs": [
    {
     "data": {
      "text/plain": [
       "1713858272.6668408"
      ]
     },
     "execution_count": 7,
     "metadata": {},
     "output_type": "execute_result"
    }
   ],
   "source": [
    "s2"
   ]
  }
 ],
 "metadata": {
  "kernelspec": {
   "display_name": "venv",
   "language": "python",
   "name": "python3"
  },
  "language_info": {
   "codemirror_mode": {
    "name": "ipython",
    "version": 3
   },
   "file_extension": ".py",
   "mimetype": "text/x-python",
   "name": "python",
   "nbconvert_exporter": "python",
   "pygments_lexer": "ipython3",
   "version": "3.10.12"
  }
 },
 "nbformat": 4,
 "nbformat_minor": 2
}
