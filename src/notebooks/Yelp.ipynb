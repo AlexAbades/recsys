{
 "cells": [
  {
   "cell_type": "markdown",
   "metadata": {},
   "source": [
    "## User\n",
    "\n",
    "- user_id: A unique 22-character identifier string that maps to the user in user.json.\n",
    "- name: A string representing the user's first name.\n",
    "- review_count: An integer denoting the total number of reviews the user has written.\n",
    "- yelping_since: A string indicating the date the user joined Yelp, formatted as YYYY-MM-DD.\n",
    "- friends: An array of strings, each representing a unique user_id of the user's friends.\n",
    "- useful: An integer representing the total number of useful votes the user has received.\n",
    "- funny: An integer denoting the number of funny votes received by the user.\n",
    "- cool: An integer showing the number of cool votes the user has received.\n",
    "- fans: An integer indicating the total number of fans the user has.\n",
    "- elite: An array of integers, each representing a year the user was considered elite on Yelp.\n",
    "- average_stars: A float representing the average rating across all of the user's reviews.\n",
    "- compliment_hot: An integer denoting the number of hot compliments the user has received.\n",
    "- compliment_more: An integer showing the number of more compliments received by the user.\n",
    "- compliment_profile: An integer indicating the number of profile compliments received.\n",
    "- compliment_cute: An integer representing the number of cute compliments the user has received.\n",
    "- compliment_list: An integer denoting the number of list compliments received by the user.\n",
    "- compliment_note: An integer indicating the number of note compliments received.\n",
    "- compliment_plain: An integer showing the number of plain compliments received by the user.\n",
    "- compliment_cool: An integer denoting the number of cool compliments received.\n",
    "- compliment_funny: An integer indicating the number of funny compliments received.\n",
    "- compliment_writer: An integer representing the number of writer compliments received by the user.\n",
    "- compliment_photos: An integer showing the number of photo compliments received.\n",
    "\n",
    "## Business\n",
    "- business_id: A unique 22-character identifier string for the business.\n",
    "- name: A string representing the business's name.\n",
    "- address: A string indicating the full address of the business.\n",
    "- city: A string denoting the city where the business is located.\n",
    "- state: A 2-character string representing the state code, if applicable.\n",
    "- postal code: A string representing the postal code.\n",
    "- latitude: A float indicating the latitude of the business location.\n",
    "- longitude: A float showing the longitude of the business location.\n",
    "- stars: A float for the star rating, rounded to half-stars.\n",
    "- review_count: An integer indicating the number of reviews.\n",
    "- is_open: An integer (0 or 1) indicating whether the business is closed or open, respectively.\n",
    "- attributes: An object mapping business attributes to values, noting that some attribute values might be objects. This includes attributes like RestaurantsTakeOut (boolean) and BusinessParking (an object detailing parking options).\n",
    "- categories: An array of strings representing the business categories.\n",
    "- hours: An object mapping days of the week to the business's operating hours, using a 24-hour clock.\n",
    "\n",
    "## Review\n",
    "\n",
    "- review_id: A unique 22-character identifier string for the review.\n",
    "- user_id: A unique 22-character identifier string that maps to the user in user.json.\n",
    "- business_id: A unique 22-character identifier string that maps to the business in business.json.\n",
    "- stars: An integer indicating the star rating given in the review.\n",
    "- date: A string representing the date the review was posted, formatted as YYYY-MM-DD.\n",
    "- text: A string containing the text of the review itself, detailing the user's experience.\n",
    "- useful: An integer representing the number of useful votes the review has received.\n",
    "- funny: An integer indicating the number of funny votes received by the review.\n",
    "- cool: An integer showing the number of cool votes received by the review.\n"
   ]
  },
  {
   "cell_type": "markdown",
   "metadata": {},
   "source": [
    "### Proposed Context\n",
    "#### User\n",
    "- **Yelping Since:** *Interval*. Dates can be measured relative to each other, but there's no true zero point.\n",
    "- **Review Count & Average Stars**: *Ratio*. These have a true zero point (no reviews, zero stars) and can be compared meaningfully in terms of ratio.\n",
    "- **Friends**: *Nominal*. The IDs of friends are categorical and used for identification.\n",
    "- **Elite Status**: *Ordinal*. Years of elite status could be ranked, but the intervals between them are not necessarily meaningful.\n",
    "- **Compliments**: *Ratio*. The counts of different types of compliments have a true zero and can be compared in ratios.['yelpin]\n",
    "#### Business\n",
    "- **Location (Latitude & Longitude)**: *Interval*. While these are numerical and can be measured relative to each other, the zero point is arbitrary.\n",
    "- **Attributes & Categories**: *Nominal*. These are categorical data describing various qualities or types of businesses.\n",
    "- **Operating Hours**: *Nominal/Interval*. The days of the week are nominal, but the hours can be considered interval data since they have a meaningful order and difference.\n",
    "  We can either try to average the hours or just use them in each day. For example: one column per day and the hours in each column. Can interaval data be transformed into numbers? Can we actually just make cateories ? \n",
    "#### Review\n",
    "- **Date of Review**: *Interval*. Similar to yelping_since, dates can be measured relative to each other, without a true zero. We can Extract:\n",
    "  - isWeekday/isWeekend: If it is a weekday or a weekend\n",
    "  - isHoliday:If it is an international Holiday \n",
    "  - season: Which season it is: Spring, Summer, Autum and Winter.\n",
    "  \n",
    "  We can actually try to obtain as much 2 option context and just create a column, for example if it's weekday; if it's not weekday it must be a weekend and viceversa. Therefore we can \"prescindir\" from one of the options\n",
    "- **Text Sentiment**: *Ordinal*. Sentiment scores, if applied, typically range from negative to positive, implying an order, but the intervals between scores might not be uniform.\n",
    "- **Votes (Useful, Funny, Cool)**: *Ratio*. These are counts of the number of times a review was found useful, funny, or cool, with a true zero and meaningful ratios.\n",
    "  This could be used as relevance of a place? "
   ]
  },
  {
   "cell_type": "code",
   "execution_count": null,
   "metadata": {},
   "outputs": [],
   "source": [
    "import pandas as pd \n",
    "from datetime import datetime\n",
    "import numpy as np \n",
    "context = ['year', 'month', 'weekday', 'week number', 'longitude', 'latitude', 'season', 'isHoliday', 'isWeekend']\n",
    "len(context)"
   ]
  },
  {
   "cell_type": "code",
   "execution_count": null,
   "metadata": {},
   "outputs": [],
   "source": [
    "df_review = pd.read_csv('../data/raw/YELP/yelp_academic_dataset_review.csv')\n",
    "df_user = pd.read_csv('../data/raw/YELP/yelp_academic_dataset_user.csv')\n",
    "df_business = pd.read_csv('../data/raw/YELP/yelp_academic_dataset_business.csv')\n"
   ]
  },
  {
   "cell_type": "code",
   "execution_count": null,
   "metadata": {},
   "outputs": [],
   "source": [
    "df_user.head(1)"
   ]
  },
  {
   "cell_type": "code",
   "execution_count": null,
   "metadata": {},
   "outputs": [],
   "source": [
    "df_review.head(1)"
   ]
  },
  {
   "cell_type": "code",
   "execution_count": null,
   "metadata": {},
   "outputs": [],
   "source": [
    "df_business.head(1)"
   ]
  },
  {
   "cell_type": "markdown",
   "metadata": {},
   "source": [
    "Unique Categories in the Dataset"
   ]
  },
  {
   "cell_type": "code",
   "execution_count": null,
   "metadata": {},
   "outputs": [],
   "source": [
    "business_categories = set()\n",
    "for row in df_business.categories:\n",
    "  if pd.isna(row): \n",
    "    continue\n",
    "  for element in row.split(','):\n",
    "    business_categories.add(element.strip().lower())\n",
    "\n",
    "len(business_categories)"
   ]
  },
  {
   "cell_type": "markdown",
   "metadata": {},
   "source": [
    "Unique Attributes"
   ]
  },
  {
   "cell_type": "code",
   "execution_count": null,
   "metadata": {},
   "outputs": [],
   "source": [
    "import pandas as pd\n",
    "import numpy as np\n",
    "from collections import defaultdict\n",
    "import ast  \n",
    "\n",
    "business_attributes = defaultdict(int)\n",
    "\n",
    "for row in df_business.attributes:\n",
    "    if not pd.isna(row):\n",
    "        try:\n",
    "            attributes_dict = ast.literal_eval(row)\n",
    "            for element in attributes_dict.keys():\n",
    "                business_attributes[element] += 1\n",
    "        except (ValueError, SyntaxError):\n",
    "            print(f\"Skipping row, unable to convert to dictionary: {row}\")\n",
    "\n"
   ]
  },
  {
   "cell_type": "markdown",
   "metadata": {},
   "source": [
    "#### Data Transformation"
   ]
  },
  {
   "cell_type": "code",
   "execution_count": null,
   "metadata": {},
   "outputs": [],
   "source": [
    "# Context of the user\n",
    "user_cols = [\"user_id\", \"elite\", \"yelping_since\", \"friends\"]\n",
    "# Location\n",
    "business_col = [\"business_id\", \"latitude\", \"longitude\", 'state']\n",
    "# Review\n",
    "review_cols = [\"user_id\", \"business_id\", \"date\", 'stars']\n",
    "# Merge \n",
    "merged_df = pd.merge(\n",
    "    df_review[review_cols], df_user[user_cols], on=\"user_id\", how=\"inner\", suffixes=[\"_review\", \"_user\"]\n",
    ")\n",
    "# Merge \n",
    "data = pd.merge(merged_df, df_business[business_col], on='business_id', how='inner')\n",
    "# Transform to date \n",
    "data['date'] = pd.to_datetime(data['date'])\n",
    "data['yelping_since'] = pd.to_datetime(data['yelping_since'])"
   ]
  },
  {
   "cell_type": "markdown",
   "metadata": {},
   "source": [
    "#### Classify into workday/weekend"
   ]
  },
  {
   "cell_type": "code",
   "execution_count": null,
   "metadata": {},
   "outputs": [],
   "source": [
    "def classify_day(day):\n",
    "    if day >= 5:\n",
    "        return 'weekend'\n",
    "    else:\n",
    "        return 'workday'\n",
    "\n",
    "data['isweekend'] = data['date'].dt.dayofweek.apply(classify_day)\n"
   ]
  },
  {
   "cell_type": "markdown",
   "metadata": {},
   "source": [
    "#### Classify on date of time"
   ]
  },
  {
   "cell_type": "code",
   "execution_count": null,
   "metadata": {},
   "outputs": [],
   "source": [
    "def classify_time_of_day(time):\n",
    "    if 5 <= time.hour < 7:\n",
    "        return 'sunrise'\n",
    "    elif 7 <= time.hour < 12:\n",
    "        return 'morning'\n",
    "    elif 12 <= time.hour < 14:\n",
    "        return 'noon'\n",
    "    elif 14 <= time.hour < 17:\n",
    "        return 'afternoon'\n",
    "    elif 17 <= time.hour < 20:\n",
    "        return 'evening'\n",
    "    else:\n",
    "        return 'night'\n",
    "\n",
    "data['daytime'] = data['date'].apply(lambda x: classify_time_of_day(x))\n"
   ]
  },
  {
   "cell_type": "markdown",
   "metadata": {},
   "source": [
    "#### Transform date into calendar number"
   ]
  },
  {
   "cell_type": "code",
   "execution_count": null,
   "metadata": {},
   "outputs": [],
   "source": [
    "data['week_number'] = data['date'].dt.isocalendar().week"
   ]
  },
  {
   "cell_type": "markdown",
   "metadata": {},
   "source": [
    "#### Transfrom the date into a holiday or not"
   ]
  },
  {
   "cell_type": "code",
   "execution_count": null,
   "metadata": {},
   "outputs": [],
   "source": [
    "import holidays\n",
    "# Function modified to return \"isholiday\" or \"isnotholiday\"\n",
    "def is_holiday(row):\n",
    "    ca_provinces = ['AB', 'BC', 'MB', 'NB', 'NL', 'NS', 'NT', 'NU', 'ON', 'PE', 'QC', 'SK', 'YT']\n",
    "    date, state = row['date'], row['state']\n",
    "    if state in ca_provinces:\n",
    "        holiday_list = holidays.Canada(prov=state)\n",
    "    else:  # For US states and other unspecified codes\n",
    "        holiday_list = holidays.UnitedStates(state=state if state in holidays.US.subdivisions else None)\n",
    "    \n",
    "    # Return \"isholiday\" or \"isnotholiday\" based on whether the date is in the holiday list\n",
    "    return \"isholiday\" if date in holiday_list else \"notholiday\""
   ]
  },
  {
   "cell_type": "code",
   "execution_count": null,
   "metadata": {},
   "outputs": [],
   "source": [
    "data['holiday_status'] = data.apply(is_holiday, axis=1)"
   ]
  },
  {
   "cell_type": "markdown",
   "metadata": {},
   "source": [
    "#### Transfrom friends and elite years into number"
   ]
  },
  {
   "cell_type": "code",
   "execution_count": null,
   "metadata": {},
   "outputs": [],
   "source": [
    "data['num_elite'] = data.elite.apply(lambda x: len(x.split(',')) if not pd.isna(x) else 0)\n",
    "data['num_firends'] = data.friends.apply(lambda x: len(x.split(',')) if not pd.isna(x) else 0)"
   ]
  },
  {
   "cell_type": "markdown",
   "metadata": {},
   "source": [
    "#### Transform date into season"
   ]
  },
  {
   "cell_type": "code",
   "execution_count": null,
   "metadata": {},
   "outputs": [],
   "source": [
    "def get_season(date):\n",
    "    # Ensure the input is a datetime object\n",
    "    if not isinstance(date, datetime):\n",
    "        raise ValueError(\"The date must be a datetime object\")\n",
    "    \n",
    "    spring_start = datetime(date.year, 3, 20)\n",
    "    summer_start = datetime(date.year, 6, 21)\n",
    "    fall_start = datetime(date.year, 9, 22)\n",
    "    winter_start = datetime(date.year, 12, 21)\n",
    "\n",
    "    if date >= spring_start and date < summer_start:\n",
    "        return 'spring'\n",
    "    elif date >= summer_start and date < fall_start:\n",
    "        return 'summer'\n",
    "    elif date >= fall_start and date < winter_start:\n",
    "        return 'fall'\n",
    "    else:\n",
    "        return 'winter'\n",
    "\n",
    "data['season'] = data['date'].apply(get_season)"
   ]
  },
  {
   "cell_type": "markdown",
   "metadata": {},
   "source": [
    "#### Get seniority of a user in the app"
   ]
  },
  {
   "cell_type": "code",
   "execution_count": null,
   "metadata": {},
   "outputs": [],
   "source": [
    "max_date = data.date.max().year\n",
    "data['seniority'] = data['yelping_since'].apply(lambda x: max_date - x.year )"
   ]
  },
  {
   "cell_type": "markdown",
   "metadata": {},
   "source": [
    "#### Transform ids to integers"
   ]
  },
  {
   "cell_type": "code",
   "execution_count": null,
   "metadata": {},
   "outputs": [],
   "source": [
    "data['userId'] = pd.factorize(data['user_id'])[0]\n",
    "data['businessId'] = pd.factorize(data['business_id'])[0]"
   ]
  },
  {
   "cell_type": "markdown",
   "metadata": {},
   "source": [
    "#### Filter desired columns"
   ]
  },
  {
   "cell_type": "code",
   "execution_count": null,
   "metadata": {},
   "outputs": [],
   "source": [
    "data.columns"
   ]
  },
  {
   "cell_type": "code",
   "execution_count": null,
   "metadata": {},
   "outputs": [],
   "source": [
    "columns = [\n",
    "    \"userId\",\n",
    "    \"businessId\",\n",
    "    \"stars\",\n",
    "    \"latitude\",\n",
    "    \"longitude\",\n",
    "    \"isweekend\",\n",
    "    \"daytime\",\n",
    "    \"week_number\",\n",
    "    \"season\",\n",
    "    \"holiday_status\",\n",
    "    \"num_firends\",\n",
    "    \"num_elite\",\n",
    "    'seniority',\n",
    "]"
   ]
  },
  {
   "cell_type": "code",
   "execution_count": null,
   "metadata": {},
   "outputs": [],
   "source": [
    "data[columns]"
   ]
  },
  {
   "cell_type": "code",
   "execution_count": null,
   "metadata": {},
   "outputs": [],
   "source": []
  },
  {
   "cell_type": "code",
   "execution_count": null,
   "metadata": {},
   "outputs": [],
   "source": [
    "import pandas as pd\n",
    "import json\n",
    "import sys \n",
    "\n",
    "\n",
    "file_path = \"../data/raw/YELP/yelp_academic_dataset_business.json\"\n",
    "\n",
    "data = []\n",
    "\n",
    "with open(file_path, \"r\") as file:\n",
    "    for i, line in enumerate(file):\n",
    "        if i % 1000 == 0:\n",
    "            print(i)\n",
    "        if i < 999999999999:  \n",
    "            json_obj = json.loads(line)\n",
    "\n",
    "            data.append(json_obj)\n",
    "        else:\n",
    "            break  # Stop reading after the 10th line\n",
    "df = pd.DataFrame(data)\n",
    "# df.to_csv('../data/raw/YELP/yelp_academic_dataset_business.csv')"
   ]
  },
  {
   "cell_type": "code",
   "execution_count": null,
   "metadata": {},
   "outputs": [],
   "source": [
    "df.to_csv('../data/raw/YELP/yelp_academic_dataset_business.csv', index=False)"
   ]
  },
  {
   "cell_type": "code",
   "execution_count": null,
   "metadata": {},
   "outputs": [],
   "source": [
    "business_categories = set()\n",
    "for row in df.categories:\n",
    "  if row == None:\n",
    "    continue\n",
    "  for element in row.split(','):\n",
    "    business_categories.add(element.strip().lower())\n",
    "\n",
    "len(business_categories)"
   ]
  },
  {
   "cell_type": "code",
   "execution_count": null,
   "metadata": {},
   "outputs": [],
   "source": [
    "from collections import defaultdict\n",
    "\n",
    "\n",
    "\n",
    "business_attributes = defaultdict(int)\n",
    "for row in df.attributes:\n",
    "  if row != None:\n",
    "    for element in list(row.keys()):\n",
    "      business_attributes[element] += 1\n",
    "  \n",
    "  "
   ]
  },
  {
   "cell_type": "code",
   "execution_count": null,
   "metadata": {},
   "outputs": [],
   "source": [
    "sorted_attributes = sorted(business_attributes.items(), key=lambda x: x[1], reverse=True)"
   ]
  }
 ],
 "metadata": {
  "kernelspec": {
   "display_name": "venv",
   "language": "python",
   "name": "python3"
  },
  "language_info": {
   "codemirror_mode": {
    "name": "ipython",
    "version": 3
   },
   "file_extension": ".py",
   "mimetype": "text/x-python",
   "name": "python",
   "nbconvert_exporter": "python",
   "pygments_lexer": "ipython3",
   "version": "3.10.12"
  }
 },
 "nbformat": 4,
 "nbformat_minor": 2
}
