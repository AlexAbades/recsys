{
 "cells": [
  {
   "cell_type": "markdown",
   "metadata": {},
   "source": [
    "Exploratory Analysis Cars"
   ]
  },
  {
   "cell_type": "code",
   "execution_count": 1,
   "metadata": {},
   "outputs": [],
   "source": [
    "import pandas as pd\n",
    "import numpy as np \n",
    "import matplotlib.pyplot as plt "
   ]
  },
  {
   "cell_type": "code",
   "execution_count": 4,
   "metadata": {},
   "outputs": [],
   "source": [
    "filename = '../data/raw/CARS/Data_InCarMusic.xlsx'\n",
    "sheetname = 'ContextualRating'\n",
    "contextual_rating = pd.read_excel(filename, sheet_name=sheetname)"
   ]
  },
  {
   "cell_type": "code",
   "execution_count": 5,
   "metadata": {},
   "outputs": [
    {
     "name": "stdout",
     "output_type": "stream",
     "text": [
      "Successfully read 4,012 rows from the \"ContextualRating\" Excel sheet\n",
      "Columns found: ['UserID', 'ItemID', ' Rating', 'DrivingStyle', 'landscape', 'mood', 'naturalphenomena ', 'RoadType', 'sleepiness', 'trafficConditions', 'weather']\n"
     ]
    }
   ],
   "source": [
    "print(f'Successfully read {len(contextual_rating):,} rows from the \"{sheetname}\" Excel sheet')\n",
    "print(f'Columns found: {contextual_rating.columns.tolist()}')"
   ]
  },
  {
   "cell_type": "code",
   "execution_count": 6,
   "metadata": {},
   "outputs": [
    {
     "name": "stdout",
     "output_type": "stream",
     "text": [
      "Successfully read 139 rows from the \"Music Track\" Excel sheet\n",
      "Columns found: ['id', ' album', ' artist', ' title', ' mp3url', ' description', ' imageurl', ' category_id']\n"
     ]
    }
   ],
   "source": [
    "sheetname = 'Music Track'\n",
    "music_track = pd.read_excel(filename, sheet_name=sheetname)\n",
    "print(f'Successfully read {len(music_track):,} rows from the \"{sheetname}\" Excel sheet')\n",
    "print(f'Columns found: {music_track.columns.tolist()}')"
   ]
  },
  {
   "cell_type": "code",
   "execution_count": 43,
   "metadata": {},
   "outputs": [
    {
     "name": "stdout",
     "output_type": "stream",
     "text": [
      "int64 : ['UserID', 'ItemID', 'Rating']\n",
      "object : ['DrivingStyle', 'landscape', 'mood', 'naturalphenomena', 'RoadType', 'sleepiness', 'trafficConditions', 'weather']\n"
     ]
    }
   ],
   "source": [
    "for dtype, columns in contextual_rating.columns.to_series().groupby(contextual_rating.dtypes).groups.items():\n",
    "  print(dtype,':', list(columns))\n"
   ]
  },
  {
   "cell_type": "code",
   "execution_count": 22,
   "metadata": {},
   "outputs": [
    {
     "data": {
      "text/plain": [
       "UserID                int64\n",
       "ItemID                int64\n",
       " Rating               int64\n",
       "DrivingStyle         object\n",
       "landscape            object\n",
       "mood                 object\n",
       "naturalphenomena     object\n",
       "RoadType             object\n",
       "sleepiness           object\n",
       "trafficConditions    object\n",
       "weather              object\n",
       "dtype: object"
      ]
     },
     "execution_count": 22,
     "metadata": {},
     "output_type": "execute_result"
    }
   ],
   "source": [
    "contextual_rating.dtypes"
   ]
  },
  {
   "cell_type": "code",
   "execution_count": 28,
   "metadata": {},
   "outputs": [
    {
     "data": {
      "text/plain": [
       "0       1001\n",
       "1       1001\n",
       "2       1001\n",
       "3       1001\n",
       "4       1001\n",
       "        ... \n",
       "4007    1042\n",
       "4008    1042\n",
       "4009    1042\n",
       "4010    1042\n",
       "4011    1042\n",
       "Name: UserID, Length: 4012, dtype: int64"
      ]
     },
     "execution_count": 28,
     "metadata": {},
     "output_type": "execute_result"
    }
   ],
   "source": [
    "contextual_rating['UserID']"
   ]
  },
  {
   "cell_type": "code",
   "execution_count": 39,
   "metadata": {},
   "outputs": [
    {
     "name": "stdout",
     "output_type": "stream",
     "text": [
      "[1001 1002 1003 1004 1005 1006 1007 1008 1009 1010 1011 1012 1013 1014\n",
      " 1015 1016 1017 1018 1019 1020 1021 1022 1023 1024 1025 1026 1027 1028\n",
      " 1029 1030 1031 1032 1033 1034 1035 1036 1037 1038 1039 1040 1041 1042]\n",
      "[715 267 294 259 674 285 279 754 694 251 250 702 714 762 275 295 757 727\n",
      " 256 726 730 718 745 263 732 683 751 719 716 737 273 676 760 748 744 743\n",
      " 690 736 269 296 711 741 759 257 739 271 266 735 701 747 264 700 721 708\n",
      " 758 687 287 262 707 677 679 270 282 678 286 696 261 272 699 697 253 276\n",
      " 268 691 260 681 689 709 693 252 725 682 280 680 734 729 249 692 723 686\n",
      " 675 248 297 752 728 254 756 278 293 710 703 761 712 277 695 753 717 291\n",
      " 705 740 724 733 704 750 684 281 283 255 274 746 706 292 288 713 749 284\n",
      " 731 289 755 698 720 265 290 258 722 742 685 738 688]\n",
      "[2 4 3 0 1 5]\n",
      "[nan 'relaxed driving' 'sport driving']\n",
      "[nan 'urban' 'mountains' 'country side' 'coast line']\n",
      "[nan 'sad' 'lazy' 'active' 'happy']\n",
      "[nan 'night' 'morning' 'day time' 'afternoon']\n",
      "[nan 'city' 'serpentine' 'highway']\n",
      "[nan 'sleepy' 'awake']\n",
      "[nan 'traffic jam' 'lots of cars' 'free road']\n",
      "['sunny' 'snowing' 'rainy' 'cloudy' nan]\n"
     ]
    }
   ],
   "source": [
    "for column in contextual_rating.columns:\n",
    "    print(contextual_rating[column].unique())"
   ]
  },
  {
   "cell_type": "code",
   "execution_count": 40,
   "metadata": {},
   "outputs": [],
   "source": [
    "contextual_rating.columns = [x.strip() for x in contextual_rating.columns.tolist()]"
   ]
  },
  {
   "cell_type": "code",
   "execution_count": 44,
   "metadata": {},
   "outputs": [
    {
     "name": "stdout",
     "output_type": "stream",
     "text": [
      "int64 : ['id', ' category_id']\n",
      "object : [' album', ' artist', ' title', ' mp3url', ' description', ' imageurl']\n"
     ]
    }
   ],
   "source": [
    "for dtype, columns in music_track.columns.to_series().groupby(music_track.dtypes).groups.items():\n",
    "  print(dtype,':', list(columns))\n"
   ]
  }
 ],
 "metadata": {
  "kernelspec": {
   "display_name": "venv",
   "language": "python",
   "name": "python3"
  },
  "language_info": {
   "codemirror_mode": {
    "name": "ipython",
    "version": 3
   },
   "file_extension": ".py",
   "mimetype": "text/x-python",
   "name": "python",
   "nbconvert_exporter": "python",
   "pygments_lexer": "ipython3",
   "version": "3.10.12"
  }
 },
 "nbformat": 4,
 "nbformat_minor": 2
}
