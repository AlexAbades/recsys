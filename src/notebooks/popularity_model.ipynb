{
 "cells": [
  {
   "cell_type": "code",
   "execution_count": 3,
   "metadata": {},
   "outputs": [],
   "source": [
    "import pandas as pd \n",
    "import numpy as np \n",
    "import sys\n",
    "sys.path.append('/home/alexabades/recsys')"
   ]
  },
  {
   "cell_type": "code",
   "execution_count": 9,
   "metadata": {},
   "outputs": [],
   "source": [
    "dt = pd.read_csv(\"../data/processed/ml-1m/ml-1m.train.rating\", sep=\"\\t\",names=[\"UserID\", \"MovieID\", \"Rating\", \"Timestamp\"])"
   ]
  },
  {
   "cell_type": "code",
   "execution_count": 59,
   "metadata": {},
   "outputs": [
    {
     "data": {
      "text/plain": [
       "[104, 124, 44, 64, 113, 48, 97, 132, 22, 128]"
      ]
     },
     "execution_count": 59,
     "metadata": {},
     "output_type": "execute_result"
    }
   ],
   "source": [
    "# Filter out rows where Rating is 0, then group by MovieID and count non-null Ratings\n",
    "popular_items = list(dt[dt[\"Rating\"] != 0].groupby(\"MovieID\").count()[\"Rating\"].sort_values(ascending=False).head(10).index)\n",
    "popular_items"
   ]
  },
  {
   "cell_type": "code",
   "execution_count": 27,
   "metadata": {},
   "outputs": [],
   "source": [
    "dt_test = pd.read_csv(\"../data/processed/ml-1m/ml-1m.test.rating\", sep=\"\\t\",names=[\"UserID\", \"MovieID\", \"Rating\", \"Timestamp\"])"
   ]
  },
  {
   "cell_type": "code",
   "execution_count": 38,
   "metadata": {},
   "outputs": [
    {
     "data": {
      "text/html": [
       "<div>\n",
       "<style scoped>\n",
       "    .dataframe tbody tr th:only-of-type {\n",
       "        vertical-align: middle;\n",
       "    }\n",
       "\n",
       "    .dataframe tbody tr th {\n",
       "        vertical-align: top;\n",
       "    }\n",
       "\n",
       "    .dataframe thead th {\n",
       "        text-align: right;\n",
       "    }\n",
       "</style>\n",
       "<table border=\"1\" class=\"dataframe\">\n",
       "  <thead>\n",
       "    <tr style=\"text-align: right;\">\n",
       "      <th></th>\n",
       "      <th>UserID</th>\n",
       "      <th>MovieID</th>\n",
       "      <th>Rating</th>\n",
       "      <th>Timestamp</th>\n",
       "    </tr>\n",
       "  </thead>\n",
       "  <tbody>\n",
       "    <tr>\n",
       "      <th>0</th>\n",
       "      <td>0</td>\n",
       "      <td>25</td>\n",
       "      <td>5</td>\n",
       "      <td>978824351</td>\n",
       "    </tr>\n",
       "    <tr>\n",
       "      <th>1</th>\n",
       "      <td>1</td>\n",
       "      <td>133</td>\n",
       "      <td>3</td>\n",
       "      <td>978300174</td>\n",
       "    </tr>\n",
       "    <tr>\n",
       "      <th>2</th>\n",
       "      <td>2</td>\n",
       "      <td>207</td>\n",
       "      <td>4</td>\n",
       "      <td>978298504</td>\n",
       "    </tr>\n",
       "    <tr>\n",
       "      <th>3</th>\n",
       "      <td>3</td>\n",
       "      <td>208</td>\n",
       "      <td>4</td>\n",
       "      <td>978294282</td>\n",
       "    </tr>\n",
       "    <tr>\n",
       "      <th>4</th>\n",
       "      <td>4</td>\n",
       "      <td>222</td>\n",
       "      <td>2</td>\n",
       "      <td>978246585</td>\n",
       "    </tr>\n",
       "  </tbody>\n",
       "</table>\n",
       "</div>"
      ],
      "text/plain": [
       "   UserID  MovieID  Rating  Timestamp\n",
       "0       0       25       5  978824351\n",
       "1       1      133       3  978300174\n",
       "2       2      207       4  978298504\n",
       "3       3      208       4  978294282\n",
       "4       4      222       2  978246585"
      ]
     },
     "execution_count": 38,
     "metadata": {},
     "output_type": "execute_result"
    }
   ],
   "source": [
    "dt_test.head()"
   ]
  },
  {
   "cell_type": "code",
   "execution_count": 34,
   "metadata": {},
   "outputs": [
    {
     "data": {
      "text/plain": [
       "Index([104, 124, 44, 64, 113, 48, 97, 132, 22, 128], dtype='int64', name='MovieID')"
      ]
     },
     "execution_count": 34,
     "metadata": {},
     "output_type": "execute_result"
    }
   ],
   "source": [
    "popular_items"
   ]
  },
  {
   "cell_type": "code",
   "execution_count": 56,
   "metadata": {},
   "outputs": [],
   "source": [
    "hts = []\n",
    "for row in dt_test.iterrows():\n",
    "  if row[1][\"MovieID\"] in popular_items:\n",
    "    hts.append(1)\n",
    "  else:\n",
    "    hts.append(0)\n",
    "  "
   ]
  },
  {
   "cell_type": "code",
   "execution_count": 60,
   "metadata": {},
   "outputs": [
    {
     "data": {
      "text/plain": [
       "0.022019867549668875"
      ]
     },
     "execution_count": 60,
     "metadata": {},
     "output_type": "execute_result"
    }
   ],
   "source": [
    "sum(hts)/len(hts)"
   ]
  },
  {
   "cell_type": "code",
   "execution_count": 64,
   "metadata": {},
   "outputs": [
    {
     "data": {
      "text/plain": [
       "MovieID    0.02202\n",
       "dtype: float64"
      ]
     },
     "execution_count": 64,
     "metadata": {},
     "output_type": "execute_result"
    }
   ],
   "source": [
    "dt_test[[\"MovieID\"]].map(lambda x : 1 if x in list(popular_items) else 0)[\"MovieID\"].mean()"
   ]
  },
  {
   "cell_type": "code",
   "execution_count": 65,
   "metadata": {},
   "outputs": [],
   "source": [
    "# Calculate Hit Ratio using a more streamlined approach\n",
    "average_ht = dt_test[\"MovieID\"].apply(lambda x: 1 if x in popular_items else 0).mean()\n"
   ]
  },
  {
   "cell_type": "code",
   "execution_count": 66,
   "metadata": {},
   "outputs": [
    {
     "data": {
      "text/plain": [
       "0.022019867549668875"
      ]
     },
     "execution_count": 66,
     "metadata": {},
     "output_type": "execute_result"
    }
   ],
   "source": [
    "average_ht"
   ]
  },
  {
   "cell_type": "code",
   "execution_count": 67,
   "metadata": {},
   "outputs": [],
   "source": [
    "def getHitRatio(ranklist, gtItem):\n",
    "    for item in ranklist:\n",
    "        if item == gtItem:\n",
    "            return 1\n",
    "    return 0"
   ]
  },
  {
   "cell_type": "code",
   "execution_count": 69,
   "metadata": {},
   "outputs": [],
   "source": [
    "# Assuming dt_test is your test DataFrame and popular_items is a list of top-K item IDs\n",
    "hts = []\n",
    "for _, row in dt_test.iterrows():\n",
    "    hts.append(getHitRatio(popular_items, row[\"MovieID\"]))"
   ]
  },
  {
   "cell_type": "code",
   "execution_count": 87,
   "metadata": {},
   "outputs": [],
   "source": [
    "import math \n",
    "\n",
    "def getNDCG(ranklist, gtItem):\n",
    "    for i in range(len(ranklist)):\n",
    "        item = ranklist[i]\n",
    "        if item == gtItem:\n",
    "            return math.log(2) / math.log(i+2)\n",
    "    return 0"
   ]
  },
  {
   "cell_type": "code",
   "execution_count": 88,
   "metadata": {},
   "outputs": [],
   "source": [
    "# Assuming dt_test is your test DataFrame and popular_items is a list of top-K item IDs\n",
    "ncdgs = []\n",
    "for _, row in dt_test.iterrows():\n",
    "    ncdgs.append(getNDCG(popular_items, row[\"MovieID\"]))"
   ]
  },
  {
   "cell_type": "code",
   "execution_count": 90,
   "metadata": {},
   "outputs": [
    {
     "data": {
      "text/plain": [
       "0.010542016489001741"
      ]
     },
     "execution_count": 90,
     "metadata": {},
     "output_type": "execute_result"
    }
   ],
   "source": [
    "ncdg = sum(ncdgs)/len(ncdgs)"
   ]
  },
  {
   "cell_type": "code",
   "execution_count": 91,
   "metadata": {},
   "outputs": [],
   "source": [
    "import math\n",
    "\n",
    "def getDCG(ranklist, gtItem):\n",
    "    \"\"\"Calculate DCG based on the position of the ground truth item in the ranked list.\"\"\"\n",
    "    for i, item in enumerate(ranklist):\n",
    "        if item == gtItem:\n",
    "            return math.log(2) / math.log(i + 2)  # Using log base 2\n",
    "    return 0\n",
    "\n",
    "def getIDCG(K):\n",
    "    \"\"\"Calculate Ideal DCG for the top K items. Assuming binary relevance (1 for relevant, 0 for not relevant),\n",
    "    the ideal case would have the relevant item at the top of the list.\"\"\"\n",
    "    # For binary relevance, the best case is having the item at the top, hence K=1\n",
    "    if K > 0:\n",
    "        return math.log(2) / math.log(2)  # First position relevance\n",
    "    else:\n",
    "        return 0\n",
    "\n",
    "# Assume popular_items is sorted by popularity\n",
    "ncdgs = []\n",
    "K = 10  # Assuming we're evaluating top-K items for NDCG\n",
    "idcg = getIDCG(K)  # Calculate IDCG once since it's constant for binary relevance with K=1\n",
    "\n",
    "for _, row in dt_test.iterrows():\n",
    "    dcg = getDCG(popular_items[:K], row[\"MovieID\"])\n",
    "    ncdg = dcg / idcg if idcg > 0 else 0\n",
    "    ncdgs.append(ncdg)\n",
    "\n",
    "average_ncdg = sum(ncdgs) / len(ncdgs)\n"
   ]
  },
  {
   "cell_type": "code",
   "execution_count": 93,
   "metadata": {},
   "outputs": [
    {
     "data": {
      "text/plain": [
       "1.0"
      ]
     },
     "execution_count": 93,
     "metadata": {},
     "output_type": "execute_result"
    }
   ],
   "source": [
    "math.log(2) / math.log(2)"
   ]
  },
  {
   "cell_type": "code",
   "execution_count": 80,
   "metadata": {},
   "outputs": [],
   "source": [
    "filepath = \"../data/processed/ml-1m/ml-1m\""
   ]
  },
  {
   "cell_type": "code",
   "execution_count": 94,
   "metadata": {},
   "outputs": [],
   "source": [
    "import pandas as pd\n",
    "\n",
    "\n",
    "class PopularItem:\n",
    "    def __init__(self, path) -> None:\n",
    "        self.path = path\n",
    "        # Load data as soon as an instance is created\n",
    "        self.dt_train, self.dt_test = self._load_data()\n",
    "\n",
    "    def _load_data(self):\n",
    "        # Private method to load data\n",
    "        train_extension = \".train.rating\"\n",
    "        test_extension = \".test.rating\"\n",
    "\n",
    "        dt_train = pd.read_csv(\n",
    "            f\"{self.path}{train_extension}\",\n",
    "            sep=\"\\t\",\n",
    "            names=[\"UserID\", \"MovieID\", \"Rating\", \"Timestamp\"],\n",
    "        )\n",
    "        dt_test = pd.read_csv(\n",
    "            f\"{self.path}{test_extension}\",\n",
    "            sep=\"\\t\",\n",
    "            names=[\"UserID\", \"MovieID\", \"Rating\", \"Timestamp\"],\n",
    "        )\n",
    "\n",
    "        return dt_train, dt_test\n",
    "\n",
    "    def calculate_hit_ratio(self, K):\n",
    "        # Calculate popular items based on training data\n",
    "        self.popular_items = list(\n",
    "            self.dt_train[self.dt_train[\"Rating\"] != 0]\n",
    "            .groupby(\"MovieID\")\n",
    "            .count()[\"Rating\"]\n",
    "            .sort_values(ascending=False)\n",
    "            .head(K)\n",
    "            .index\n",
    "        )\n",
    "        # Calculate hit ratio based on test data\n",
    "        average_ht = (\n",
    "            self.dt_test[\"MovieID\"]\n",
    "            .apply(lambda x: 1 if x in self.popular_items else 0)\n",
    "            .mean()\n",
    "        )\n",
    "        return average_ht\n",
    "\n",
    "    def getDCG(ranklist, gtItem):\n",
    "        \"\"\"Calculate DCG based on the position of the ground truth item in the ranked list.\"\"\"\n",
    "        for i, item in enumerate(ranklist):\n",
    "            if item == gtItem:\n",
    "                return math.log(2) / math.log(i + 2)  # Using log base 2\n",
    "        return 0\n",
    "    \n",
    "    def calculate_ndcg_ratio_binary(self,K):\n",
    "        ncdgs = []\n",
    "        idcg = 1\n",
    "        for _, row in dt_test.iterrows():\n",
    "            dcg = getDCG(popular_items[:K], row[\"MovieID\"])\n",
    "            ncdg = dcg / idcg  \n",
    "            ncdgs.append(ncdg)\n",
    "        average_ncdg = sum(ncdgs) / len(ncdgs)\n",
    "        return average_ncdg"
   ]
  },
  {
   "cell_type": "code",
   "execution_count": 95,
   "metadata": {},
   "outputs": [],
   "source": [
    "model = PopularItem(path=filepath)"
   ]
  },
  {
   "cell_type": "code",
   "execution_count": 96,
   "metadata": {},
   "outputs": [
    {
     "data": {
      "text/plain": [
       "0.022019867549668875"
      ]
     },
     "execution_count": 96,
     "metadata": {},
     "output_type": "execute_result"
    }
   ],
   "source": [
    "model.calculate_hit_ratio(10)"
   ]
  },
  {
   "cell_type": "code",
   "execution_count": 97,
   "metadata": {},
   "outputs": [
    {
     "data": {
      "text/plain": [
       "0.010542016489001741"
      ]
     },
     "execution_count": 97,
     "metadata": {},
     "output_type": "execute_result"
    }
   ],
   "source": [
    "model.calculate_ndcg_ratio_binary(10)"
   ]
  }
 ],
 "metadata": {
  "kernelspec": {
   "display_name": "venv",
   "language": "python",
   "name": "python3"
  },
  "language_info": {
   "codemirror_mode": {
    "name": "ipython",
    "version": 3
   },
   "file_extension": ".py",
   "mimetype": "text/x-python",
   "name": "python",
   "nbconvert_exporter": "python",
   "pygments_lexer": "ipython3",
   "version": "3.10.12"
  }
 },
 "nbformat": 4,
 "nbformat_minor": 2
}
