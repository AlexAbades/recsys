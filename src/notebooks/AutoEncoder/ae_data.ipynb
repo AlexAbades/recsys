{
 "cells": [
  {
   "cell_type": "code",
   "execution_count": 12,
   "metadata": {},
   "outputs": [],
   "source": [
    "# Load preprocessed Data\n",
    "import sys\n",
    "sys.path.append('/home/alexabades/recsys')\n",
    "import pandas as pd \n",
    "import numpy as np \n",
    "import torch"
   ]
  },
  {
   "cell_type": "code",
   "execution_count": 2,
   "metadata": {},
   "outputs": [],
   "source": [
    "data_path = '../data/raw/frappe/frappe.csv'\n",
    "df = pd.read_csv(data_path, sep='\\t')"
   ]
  },
  {
   "cell_type": "code",
   "execution_count": 3,
   "metadata": {},
   "outputs": [
    {
     "data": {
      "text/html": [
       "<div>\n",
       "<style scoped>\n",
       "    .dataframe tbody tr th:only-of-type {\n",
       "        vertical-align: middle;\n",
       "    }\n",
       "\n",
       "    .dataframe tbody tr th {\n",
       "        vertical-align: top;\n",
       "    }\n",
       "\n",
       "    .dataframe thead th {\n",
       "        text-align: right;\n",
       "    }\n",
       "</style>\n",
       "<table border=\"1\" class=\"dataframe\">\n",
       "  <thead>\n",
       "    <tr style=\"text-align: right;\">\n",
       "      <th></th>\n",
       "      <th>user</th>\n",
       "      <th>item</th>\n",
       "      <th>cnt</th>\n",
       "      <th>daytime</th>\n",
       "      <th>weekday</th>\n",
       "      <th>isweekend</th>\n",
       "      <th>homework</th>\n",
       "      <th>cost</th>\n",
       "      <th>weather</th>\n",
       "      <th>country</th>\n",
       "      <th>city</th>\n",
       "    </tr>\n",
       "  </thead>\n",
       "  <tbody>\n",
       "    <tr>\n",
       "      <th>0</th>\n",
       "      <td>0</td>\n",
       "      <td>0</td>\n",
       "      <td>1</td>\n",
       "      <td>morning</td>\n",
       "      <td>sunday</td>\n",
       "      <td>weekend</td>\n",
       "      <td>unknown</td>\n",
       "      <td>free</td>\n",
       "      <td>sunny</td>\n",
       "      <td>United States</td>\n",
       "      <td>0</td>\n",
       "    </tr>\n",
       "    <tr>\n",
       "      <th>1</th>\n",
       "      <td>1</td>\n",
       "      <td>1</td>\n",
       "      <td>7</td>\n",
       "      <td>afternoon</td>\n",
       "      <td>saturday</td>\n",
       "      <td>weekend</td>\n",
       "      <td>unknown</td>\n",
       "      <td>free</td>\n",
       "      <td>cloudy</td>\n",
       "      <td>Spain</td>\n",
       "      <td>0</td>\n",
       "    </tr>\n",
       "    <tr>\n",
       "      <th>2</th>\n",
       "      <td>2</td>\n",
       "      <td>2</td>\n",
       "      <td>6</td>\n",
       "      <td>evening</td>\n",
       "      <td>monday</td>\n",
       "      <td>workday</td>\n",
       "      <td>unknown</td>\n",
       "      <td>free</td>\n",
       "      <td>cloudy</td>\n",
       "      <td>Spain</td>\n",
       "      <td>369</td>\n",
       "    </tr>\n",
       "    <tr>\n",
       "      <th>3</th>\n",
       "      <td>3</td>\n",
       "      <td>3</td>\n",
       "      <td>1</td>\n",
       "      <td>sunset</td>\n",
       "      <td>thursday</td>\n",
       "      <td>workday</td>\n",
       "      <td>unknown</td>\n",
       "      <td>free</td>\n",
       "      <td>unknown</td>\n",
       "      <td>United States</td>\n",
       "      <td>1028</td>\n",
       "    </tr>\n",
       "    <tr>\n",
       "      <th>4</th>\n",
       "      <td>4</td>\n",
       "      <td>4</td>\n",
       "      <td>428</td>\n",
       "      <td>night</td>\n",
       "      <td>thursday</td>\n",
       "      <td>workday</td>\n",
       "      <td>home</td>\n",
       "      <td>free</td>\n",
       "      <td>sunny</td>\n",
       "      <td>Switzerland</td>\n",
       "      <td>147</td>\n",
       "    </tr>\n",
       "  </tbody>\n",
       "</table>\n",
       "</div>"
      ],
      "text/plain": [
       "   user  item  cnt    daytime   weekday isweekend homework  cost  weather  \\\n",
       "0     0     0    1    morning    sunday   weekend  unknown  free    sunny   \n",
       "1     1     1    7  afternoon  saturday   weekend  unknown  free   cloudy   \n",
       "2     2     2    6    evening    monday   workday  unknown  free   cloudy   \n",
       "3     3     3    1     sunset  thursday   workday  unknown  free  unknown   \n",
       "4     4     4  428      night  thursday   workday     home  free    sunny   \n",
       "\n",
       "         country  city  \n",
       "0  United States     0  \n",
       "1          Spain     0  \n",
       "2          Spain   369  \n",
       "3  United States  1028  \n",
       "4    Switzerland   147  "
      ]
     },
     "execution_count": 3,
     "metadata": {},
     "output_type": "execute_result"
    }
   ],
   "source": [
    "df.head()"
   ]
  },
  {
   "cell_type": "markdown",
   "metadata": {},
   "source": [
    "- 0 - user\n",
    "- 1 - item\n",
    "- 2 - rating\n",
    "- 3 - cnt\n",
    "- 4 - daytime_afternoon\n",
    "- 5 - daytime_evening\n",
    "- 6 - daytime_morning\n",
    "- 7 - daytime_night\n",
    "- 8 - daytime_noon\n",
    "- 9 - daytime_sunrise\n",
    "- 10 - daytime_sunset\n",
    "- 11 - weather_sunny\n",
    "- 12 - weather_cloudy\n",
    "- 13 - weather_unknown\n",
    "- 14 - weather_foggy\n",
    "- 15 - weather_rainy\n",
    "- 16 - weather_stormy\n",
    "- 17 - weather_drizzle\n",
    "- 18 - weather_snowy\n",
    "- 19 - isweekend_weekend\n",
    "- 20 - isweekend_workday\n",
    "- 21 - homework_home\n",
    "- 22 - homework_unknown\n",
    "- 23 - homework_work"
   ]
  },
  {
   "cell_type": "markdown",
   "metadata": {},
   "source": [
    "We have to train the enconder with the frappe dataset. We can use the entire data set, we have to ensure the that the data has the same columns, but we do not need to remove the users/items with less interactions from the data set, or do we?\n",
    "- Try with both. With the train dataset and the test dataset that we will use for the RS. We'll be lossing aprox a 13% of the total interactions. At the end the data that will not be used in the RS could not be good for the AE.\n",
    "Additionally, is the leave one out enogh to test the performance ? \n",
    "- Use the entire dataset to train\n"
   ]
  },
  {
   "cell_type": "code",
   "execution_count": null,
   "metadata": {},
   "outputs": [],
   "source": []
  },
  {
   "cell_type": "code",
   "execution_count": null,
   "metadata": {},
   "outputs": [],
   "source": [
    "ctx_categorical_columns = [\n",
    "    \"daytime\",\n",
    "    \"weather\",\n",
    "    \"isweekend\",\n",
    "    \"homework\",\n",
    "]"
   ]
  },
  {
   "cell_type": "markdown",
   "metadata": {},
   "source": [
    "# Autoencoder dummy data no sparse\n",
    "\n",
    "21 "
   ]
  },
  {
   "cell_type": "markdown",
   "metadata": {},
   "source": []
  },
  {
   "cell_type": "code",
   "execution_count": 7,
   "metadata": {},
   "outputs": [],
   "source": [
    "df = pd.read_csv('../../../data/processed/FRAPPE/CNCF/frapppe5Context/frapppe5Context.train.rating', sep='\\t', header=None)"
   ]
  },
  {
   "cell_type": "code",
   "execution_count": null,
   "metadata": {},
   "outputs": [],
   "source": [
    "def create_noise_tensor(context_input):\n",
    "    noise_tensor = torch.randint(\n",
    "        0, 2, size=context_input.shape, dtype=torch.float32, device=_device\n",
    "    )\n",
    "    noise = torch.rand(context_input.shape[0], 1)\n",
    "    noise_tensor[:, 0] = noise.squeeze()\n",
    "    return noise_tensor"
   ]
  },
  {
   "cell_type": "code",
   "execution_count": 10,
   "metadata": {},
   "outputs": [],
   "source": [
    "df_context = df.iloc[:, 3:].copy()"
   ]
  },
  {
   "cell_type": "code",
   "execution_count": 14,
   "metadata": {},
   "outputs": [
    {
     "data": {
      "text/plain": [
       "torch.Size([83731, 21])"
      ]
     },
     "execution_count": 14,
     "metadata": {},
     "output_type": "execute_result"
    }
   ],
   "source": [
    "torch.randint(0, 2, size=df_context.shape, dtype=torch.float32).shape"
   ]
  },
  {
   "cell_type": "code",
   "execution_count": 15,
   "metadata": {},
   "outputs": [
    {
     "data": {
      "text/plain": [
       "tensor([[0.8244],\n",
       "        [0.7759],\n",
       "        [0.4316],\n",
       "        ...,\n",
       "        [0.6369],\n",
       "        [0.9476],\n",
       "        [0.2737]])"
      ]
     },
     "execution_count": 15,
     "metadata": {},
     "output_type": "execute_result"
    }
   ],
   "source": [
    "torch.rand(df_context.shape[0], 1)"
   ]
  },
  {
   "cell_type": "code",
   "execution_count": 71,
   "metadata": {},
   "outputs": [],
   "source": [
    "data = np.ones((df_context.shape[0]+654, df.shape[1]))\n",
    "# Select at most 2 columns per each row and replace it with 0\n",
    "for i in range(data.shape[0]):\n",
    "    idx = np.random.choice(data.shape[1], 2, replace=False)\n",
    "    data[i, idx] = 0\n",
    "cnt = torch.rand(df_context.shape[0]+654, 1)\n",
    "# mimic user ID\n",
    "data[:, 0] = list(range(data.shape[0]))\n",
    "# mimic item ID\n",
    "data[:, 1] = range(data.shape[0])\n",
    "# update 2nd column with the context\n",
    "data[:, 3] = cnt.squeeze().numpy()"
   ]
  },
  {
   "cell_type": "code",
   "execution_count": 73,
   "metadata": {},
   "outputs": [],
   "source": [
    "data = pd.DataFrame(data, columns=df.columns)\n"
   ]
  },
  {
   "cell_type": "code",
   "execution_count": 75,
   "metadata": {},
   "outputs": [],
   "source": [
    "# train test split\n",
    "from sklearn.model_selection import train_test_split\n"
   ]
  },
  {
   "cell_type": "code",
   "execution_count": 76,
   "metadata": {},
   "outputs": [],
   "source": [
    "train, test = train_test_split(data, test_size=0.2)"
   ]
  },
  {
   "cell_type": "code",
   "execution_count": 79,
   "metadata": {},
   "outputs": [],
   "source": [
    "train.to_csv('../../../data/processed/FRAPPE/AE/frappe5Context/frapppe5Context.train.rating', sep='\\t', index=False, header=False)\n",
    "test.to_csv('../../../data/processed/FRAPPE/AE/frappe5Context/frapppe5Context.test.rating', sep='\\t', index=False, header=False)"
   ]
  },
  {
   "cell_type": "code",
   "execution_count": 27,
   "metadata": {},
   "outputs": [],
   "source": [
    "# data.to_csv('../../../data/processed/FRAPPE/AE/frappe5Context/dummy_no_sparse.csv', sep='\\t', index=False, header=False)\n"
   ]
  }
 ],
 "metadata": {
  "kernelspec": {
   "display_name": "venv",
   "language": "python",
   "name": "python3"
  },
  "language_info": {
   "codemirror_mode": {
    "name": "ipython",
    "version": 3
   },
   "file_extension": ".py",
   "mimetype": "text/x-python",
   "name": "python",
   "nbconvert_exporter": "python",
   "pygments_lexer": "ipython3",
   "version": "3.10.12"
  }
 },
 "nbformat": 4,
 "nbformat_minor": 2
}
