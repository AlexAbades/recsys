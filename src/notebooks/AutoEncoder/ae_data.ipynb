{
 "cells": [
  {
   "cell_type": "code",
   "execution_count": 1,
   "metadata": {},
   "outputs": [],
   "source": [
    "# Load preprocessed Data\n",
    "import sys\n",
    "sys.path.append('/home/alexabades/recsys')\n",
    "import pandas as pd \n",
    "import numpy as np "
   ]
  },
  {
   "cell_type": "code",
   "execution_count": 2,
   "metadata": {},
   "outputs": [],
   "source": [
    "data_path = '../data/raw/frappe/frappe.csv'\n",
    "df = pd.read_csv(data_path, sep='\\t')"
   ]
  },
  {
   "cell_type": "code",
   "execution_count": 3,
   "metadata": {},
   "outputs": [
    {
     "data": {
      "text/html": [
       "<div>\n",
       "<style scoped>\n",
       "    .dataframe tbody tr th:only-of-type {\n",
       "        vertical-align: middle;\n",
       "    }\n",
       "\n",
       "    .dataframe tbody tr th {\n",
       "        vertical-align: top;\n",
       "    }\n",
       "\n",
       "    .dataframe thead th {\n",
       "        text-align: right;\n",
       "    }\n",
       "</style>\n",
       "<table border=\"1\" class=\"dataframe\">\n",
       "  <thead>\n",
       "    <tr style=\"text-align: right;\">\n",
       "      <th></th>\n",
       "      <th>user</th>\n",
       "      <th>item</th>\n",
       "      <th>cnt</th>\n",
       "      <th>daytime</th>\n",
       "      <th>weekday</th>\n",
       "      <th>isweekend</th>\n",
       "      <th>homework</th>\n",
       "      <th>cost</th>\n",
       "      <th>weather</th>\n",
       "      <th>country</th>\n",
       "      <th>city</th>\n",
       "    </tr>\n",
       "  </thead>\n",
       "  <tbody>\n",
       "    <tr>\n",
       "      <th>0</th>\n",
       "      <td>0</td>\n",
       "      <td>0</td>\n",
       "      <td>1</td>\n",
       "      <td>morning</td>\n",
       "      <td>sunday</td>\n",
       "      <td>weekend</td>\n",
       "      <td>unknown</td>\n",
       "      <td>free</td>\n",
       "      <td>sunny</td>\n",
       "      <td>United States</td>\n",
       "      <td>0</td>\n",
       "    </tr>\n",
       "    <tr>\n",
       "      <th>1</th>\n",
       "      <td>1</td>\n",
       "      <td>1</td>\n",
       "      <td>7</td>\n",
       "      <td>afternoon</td>\n",
       "      <td>saturday</td>\n",
       "      <td>weekend</td>\n",
       "      <td>unknown</td>\n",
       "      <td>free</td>\n",
       "      <td>cloudy</td>\n",
       "      <td>Spain</td>\n",
       "      <td>0</td>\n",
       "    </tr>\n",
       "    <tr>\n",
       "      <th>2</th>\n",
       "      <td>2</td>\n",
       "      <td>2</td>\n",
       "      <td>6</td>\n",
       "      <td>evening</td>\n",
       "      <td>monday</td>\n",
       "      <td>workday</td>\n",
       "      <td>unknown</td>\n",
       "      <td>free</td>\n",
       "      <td>cloudy</td>\n",
       "      <td>Spain</td>\n",
       "      <td>369</td>\n",
       "    </tr>\n",
       "    <tr>\n",
       "      <th>3</th>\n",
       "      <td>3</td>\n",
       "      <td>3</td>\n",
       "      <td>1</td>\n",
       "      <td>sunset</td>\n",
       "      <td>thursday</td>\n",
       "      <td>workday</td>\n",
       "      <td>unknown</td>\n",
       "      <td>free</td>\n",
       "      <td>unknown</td>\n",
       "      <td>United States</td>\n",
       "      <td>1028</td>\n",
       "    </tr>\n",
       "    <tr>\n",
       "      <th>4</th>\n",
       "      <td>4</td>\n",
       "      <td>4</td>\n",
       "      <td>428</td>\n",
       "      <td>night</td>\n",
       "      <td>thursday</td>\n",
       "      <td>workday</td>\n",
       "      <td>home</td>\n",
       "      <td>free</td>\n",
       "      <td>sunny</td>\n",
       "      <td>Switzerland</td>\n",
       "      <td>147</td>\n",
       "    </tr>\n",
       "  </tbody>\n",
       "</table>\n",
       "</div>"
      ],
      "text/plain": [
       "   user  item  cnt    daytime   weekday isweekend homework  cost  weather  \\\n",
       "0     0     0    1    morning    sunday   weekend  unknown  free    sunny   \n",
       "1     1     1    7  afternoon  saturday   weekend  unknown  free   cloudy   \n",
       "2     2     2    6    evening    monday   workday  unknown  free   cloudy   \n",
       "3     3     3    1     sunset  thursday   workday  unknown  free  unknown   \n",
       "4     4     4  428      night  thursday   workday     home  free    sunny   \n",
       "\n",
       "         country  city  \n",
       "0  United States     0  \n",
       "1          Spain     0  \n",
       "2          Spain   369  \n",
       "3  United States  1028  \n",
       "4    Switzerland   147  "
      ]
     },
     "execution_count": 3,
     "metadata": {},
     "output_type": "execute_result"
    }
   ],
   "source": [
    "df.head()"
   ]
  },
  {
   "cell_type": "markdown",
   "metadata": {},
   "source": [
    "- 0 - user\n",
    "- 1 - item\n",
    "- 2 - rating\n",
    "- 3 - cnt\n",
    "- 4 - daytime_afternoon\n",
    "- 5 - daytime_evening\n",
    "- 6 - daytime_morning\n",
    "- 7 - daytime_night\n",
    "- 8 - daytime_noon\n",
    "- 9 - daytime_sunrise\n",
    "- 10 - daytime_sunset\n",
    "- 11 - weather_sunny\n",
    "- 12 - weather_cloudy\n",
    "- 13 - weather_unknown\n",
    "- 14 - weather_foggy\n",
    "- 15 - weather_rainy\n",
    "- 16 - weather_stormy\n",
    "- 17 - weather_drizzle\n",
    "- 18 - weather_snowy\n",
    "- 19 - isweekend_weekend\n",
    "- 20 - isweekend_workday\n",
    "- 21 - homework_home\n",
    "- 22 - homework_unknown\n",
    "- 23 - homework_work"
   ]
  },
  {
   "cell_type": "markdown",
   "metadata": {},
   "source": [
    "We have to train the enconder with the frappe dataset. We can use the entire data set, we have to ensure the that the data has the same columns, but we do not need to remove the users/items with less interactions from the data set, or do we?\n",
    "- Try with both. With the train dataset and the test dataset that we will use for the RS. We'll be lossing aprox a 13% of the total interactions. At the end the data that will not be used in the RS could not be good for the AE.\n",
    "Additionally, is the leave one out enogh to test the performance ? \n",
    "- Use the entire dataset to train\n"
   ]
  },
  {
   "cell_type": "code",
   "execution_count": null,
   "metadata": {},
   "outputs": [],
   "source": []
  },
  {
   "cell_type": "code",
   "execution_count": null,
   "metadata": {},
   "outputs": [],
   "source": [
    "ctx_categorical_columns = [\n",
    "    \"daytime\",\n",
    "    \"weather\",\n",
    "    \"isweekend\",\n",
    "    \"homework\",\n",
    "]"
   ]
  }
 ],
 "metadata": {
  "kernelspec": {
   "display_name": "venv",
   "language": "python",
   "name": "python3"
  },
  "language_info": {
   "codemirror_mode": {
    "name": "ipython",
    "version": 3
   },
   "file_extension": ".py",
   "mimetype": "text/x-python",
   "name": "python",
   "nbconvert_exporter": "python",
   "pygments_lexer": "ipython3",
   "version": "3.10.12"
  }
 },
 "nbformat": 4,
 "nbformat_minor": 2
}
