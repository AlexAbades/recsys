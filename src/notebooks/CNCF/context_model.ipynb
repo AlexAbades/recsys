{
 "cells": [
  {
   "cell_type": "code",
   "execution_count": 1,
   "metadata": {},
   "outputs": [],
   "source": [
    "# Load preprocessed Data\n",
    "import sys\n",
    "sys.path.append('/home/alexabades/recsys')\n",
    "\n",
    "import torch\n",
    "from torch import nn, optim\n",
    "from torch.utils.data import DataLoader\n",
    "\n",
    "from src.models.contextNFC.context_nfc import DeepNCF\n",
    "\n",
    "\n",
    "from src.data.BinaryClassifictionDataLoader import \\\n",
    "    ContextDataLoaderBinaryClasifictaion\n",
    "from src.utils.tools.tools import ROOT_PATH"
   ]
  },
  {
   "cell_type": "code",
   "execution_count": 2,
   "metadata": {},
   "outputs": [],
   "source": [
    "batch_size = 100\n",
    "_device = torch.device(\"cuda\" if torch.cuda.is_available() else \"cpu\")\n",
    "\n",
    "train_data = ContextDataLoaderBinaryClasifictaion(\n",
    "    ROOT_PATH + \"/data/processed/frappeCtxA\", split='train'\n",
    ")\n",
    "\n",
    "test_data = ContextDataLoaderBinaryClasifictaion(\n",
    "    ROOT_PATH + \"/data/processed/frappeCtxA\", split='test', num_negative_samples=10,\n",
    ")\n",
    "\n",
    "train_loader = DataLoader(train_data, batch_size)\n",
    "test_loader = DataLoader(test_data, batch_size)\n",
    "\n",
    "num_users = train_data.num_users\n",
    "num_items = train_data.num_items\n",
    "num_context = train_data.num_context\n",
    "\n",
    "model = DeepNCF(\n",
    "        num_users=num_users,\n",
    "        num_items=num_items,\n",
    "        num_context=num_context,\n",
    "        mf_dim=8,\n",
    "        layers=[31, 10, 20],\n",
    "    ).to(_device)\n"
   ]
  },
  {
   "cell_type": "code",
   "execution_count": 3,
   "metadata": {},
   "outputs": [],
   "source": [
    "loss_fn = nn.MSELoss()\n",
    "optimizer = optim.Adam(model.parameters(), lr=0.001)\n",
    "# TODO: We have to be careful, the layers minus the num of contextual features have to give a even number\n",
    "\n",
    "for batch in train_loader:\n",
    "        user_input = batch[\"user\"].to(_device)\n",
    "        item_input = batch[\"item\"].to(_device)\n",
    "        context_input = batch[\"context\"].to(_device)\n",
    "        ratings = batch[\"rating\"].to(_device)\n",
    "        # labels = labels.view(-1, 1)\n",
    "\n",
    "        output = model(user_input, item_input, context_input)\n",
    "        # loss = loss_fn(output, ratings)\n",
    "        # optimizer.zero_grad()\n",
    "        # loss.backward()\n",
    "        # optimizer.step()\n",
    "        break"
   ]
  },
  {
   "cell_type": "code",
   "execution_count": 42,
   "metadata": {},
   "outputs": [],
   "source": [
    "import numpy as np\n",
    "from collections import defaultdict\n",
    "from src.utils.eval import getHR,  getRR, getBinaryIDCG, getBinaryDCG\n",
    "\n",
    "\n",
    "def evaluate_model(model_pos, data_loader, topK: int = 5):\n",
    "    global _device\n",
    "    # Set Model to evaluation\n",
    "    model_pos.eval()\n",
    "\n",
    "    # Initialize containers for users, items, and predictions\n",
    "    all_users = []\n",
    "    all_items = []\n",
    "    all_predictions = []\n",
    "    all_gtItems = []\n",
    "\n",
    "    with torch.no_grad():\n",
    "        for batch in data_loader:\n",
    "            user_input = batch[\"user\"].to(_device)\n",
    "            item_input = batch[\"item\"].to(_device)\n",
    "            gtItems = batch[\"gtItem\"]\n",
    "            context_input = batch[\"context\"].to(_device)\n",
    "            ratings = batch[\"rating\"].to(_device)\n",
    "            ratings = ratings.view(-1, 1)\n",
    "\n",
    "            batch_predictions = model_pos(user_input, item_input, context_input)\n",
    "\n",
    "            all_predictions.append(batch_predictions.cpu().numpy())\n",
    "            all_users.append(user_input.cpu().numpy())\n",
    "            all_items.append(item_input.cpu().numpy())\n",
    "            all_gtItems.append(gtItems.numpy())\n",
    "\n",
    "    # Concatenate all arrays into single NumPy arrays\n",
    "    all_predictions = np.concatenate(all_predictions, axis=0).flatten()\n",
    "    all_users = np.concatenate(all_users, axis=0).flatten()\n",
    "    all_items = np.concatenate(all_items, axis=0).flatten()\n",
    "    all_gtItems = np.concatenate(all_gtItems, axis=0).flatten()\n",
    "\n",
    "    # Initialize a defaultdict to store lists of (item, score) tuples for each user\n",
    "    user_predictions = defaultdict(list)\n",
    "\n",
    "    for user, item, score, gtItem in zip(\n",
    "        all_users, all_items, all_predictions, all_gtItems\n",
    "    ):\n",
    "        user_predictions[user].append((item, score, gtItem))\n",
    "\n",
    "    hrs, rrs, ndcgs = [], [], []\n",
    "    for user, items_scores in user_predictions.items():\n",
    "        # Sort items based on scores in descending order and select top-K\n",
    "        topK_items = sorted(items_scores, key=lambda x: x[1], reverse=True)[:topK]\n",
    "        gtItem = topK_items[0][2]\n",
    "        topK_items = [item for item, score, gt in topK_items]\n",
    "\n",
    "        # Evaluation\n",
    "        hrs.append(getHR(topK_items, [gtItem]))\n",
    "        rrs.append(getRR(topK_items, [gtItem]))\n",
    "        ndcgs.append(getBinaryDCG(topK_items, [gtItem]))\n",
    "\n",
    "        \n",
    "    return np.mean(hrs), np.mean(rrs), np.mean(ndcgs)"
   ]
  },
  {
   "cell_type": "code",
   "execution_count": 43,
   "metadata": {},
   "outputs": [],
   "source": [
    "user_predictions = evaluate_model(model, test_loader)"
   ]
  },
  {
   "cell_type": "code",
   "execution_count": 44,
   "metadata": {},
   "outputs": [
    {
     "data": {
      "text/plain": [
       "(0.434715821812596, 0.18850486431131594, 0.24867970564572153)"
      ]
     },
     "execution_count": 44,
     "metadata": {},
     "output_type": "execute_result"
    }
   ],
   "source": [
    "user_predictions"
   ]
  },
  {
   "cell_type": "code",
   "execution_count": 36,
   "metadata": {},
   "outputs": [
    {
     "data": {
      "text/plain": [
       "0.5"
      ]
     },
     "execution_count": 36,
     "metadata": {},
     "output_type": "execute_result"
    }
   ],
   "source": [
    "from src.utils.eval import getHR,  getRR, getBinaryIDCG, getBinaryDCG\n",
    "\n",
    "\n",
    "# getHR(user_predictions[0], [384])\n",
    "\n",
    "c"
   ]
  },
  {
   "cell_type": "code",
   "execution_count": null,
   "metadata": {},
   "outputs": [
    {
     "data": {
      "text/plain": [
       "3.851875"
      ]
     },
     "execution_count": 48,
     "metadata": {},
     "output_type": "execute_result"
    }
   ],
   "source": [
    "import numpy as np\n",
    "from typing import List\n",
    "\n",
    "from torch import Tensor\n",
    "\n",
    "\n",
    "def rmse(\n",
    "    predictions: List[float | int] | Tensor, ground_truth: List[float | int] | Tensor\n",
    ") -> float:\n",
    "    \"\"\"\n",
    "    Function to calculate the RMSE from 2 lists or tensors\n",
    "\n",
    "    Parameters:\n",
    "        - predictions (List[float | int] or Tensor): Predictions made by the model\n",
    "        - ground_truth (List[float | int] or Tensor): Ground truth values\n",
    "\n",
    "    Returns:\n",
    "        - RMSE (float): The root mean square error between predictions and ground truth\n",
    "    \"\"\"\n",
    "    if len(predictions) != len(ground_truth):\n",
    "        raise ValueError(\"Predictions and ground truth must be of the same length.\")\n",
    "\n",
    "    if isinstance(predictions, Tensor):\n",
    "        if predictions.requires_grad:\n",
    "            predictions = predictions.detach()\n",
    "        if predictions.is_cuda:\n",
    "            predictions = predictions.cpu()\n",
    "        predictions = predictions.numpy()\n",
    "\n",
    "    if isinstance(ground_truth, Tensor):\n",
    "        if ground_truth.requires_grad:\n",
    "            ground_truth = ground_truth.detach()\n",
    "        if ground_truth.is_cuda:\n",
    "            ground_truth = ground_truth.cpu()\n",
    "        ground_truth = ground_truth.numpy()\n",
    "\n",
    "    error = np.array(predictions) - np.array(ground_truth)\n",
    "    squared_error = np.square(error)\n",
    "    mean_squared_error = np.mean(squared_error)\n",
    "    root_mean_squared_error = np.sqrt(mean_squared_error)\n",
    "\n",
    "    return root_mean_squared_error\n",
    "\n",
    "\n",
    "rmse(ratings.view(-1, 1), output)"
   ]
  },
  {
   "cell_type": "code",
   "execution_count": null,
   "metadata": {},
   "outputs": [],
   "source": [
    "rsme_all = []\n",
    "for i in range(10):\n",
    "  rsme_all.append(rmse(ratings.view(-1, 1), output))"
   ]
  },
  {
   "cell_type": "code",
   "execution_count": null,
   "metadata": {},
   "outputs": [
    {
     "data": {
      "text/plain": [
       "3.8518748"
      ]
     },
     "execution_count": 54,
     "metadata": {},
     "output_type": "execute_result"
    }
   ],
   "source": [
    "np.mean(rsme_all)"
   ]
  },
  {
   "cell_type": "code",
   "execution_count": null,
   "metadata": {},
   "outputs": [
    {
     "data": {
      "text/plain": [
       "True"
      ]
     },
     "execution_count": 31,
     "metadata": {},
     "output_type": "execute_result"
    }
   ],
   "source": [
    "from torch import Tensor\n",
    "\n",
    "type(output) == Tensor\n",
    "isinstance(output, Tensor)"
   ]
  },
  {
   "cell_type": "code",
   "execution_count": null,
   "metadata": {},
   "outputs": [],
   "source": [
    "predictions = torch.tensor([1, 2, 3])\n",
    "predictions = [1,2]\n",
    "\n",
    "if isinstance(predictions, Tensor) and predictions.is_cuda:\n",
    "  print('To CP')"
   ]
  },
  {
   "cell_type": "code",
   "execution_count": null,
   "metadata": {},
   "outputs": [
    {
     "name": "stdout",
     "output_type": "stream",
     "text": [
      "aa\n"
     ]
    }
   ],
   "source": [
    "\n",
    "if not 2 % 1:\n",
    "  print('aa')"
   ]
  }
 ],
 "metadata": {
  "kernelspec": {
   "display_name": "venv",
   "language": "python",
   "name": "python3"
  },
  "language_info": {
   "codemirror_mode": {
    "name": "ipython",
    "version": 3
   },
   "file_extension": ".py",
   "mimetype": "text/x-python",
   "name": "python",
   "nbconvert_exporter": "python",
   "pygments_lexer": "ipython3",
   "version": "3.10.12"
  }
 },
 "nbformat": 4,
 "nbformat_minor": 2
}
