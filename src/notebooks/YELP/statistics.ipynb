{
 "cells": [
  {
   "cell_type": "code",
   "execution_count": 69,
   "metadata": {},
   "outputs": [],
   "source": [
    "import pandas as pd \n",
    "import numpy as np \n",
    "import matplotlib.pyplot as plt"
   ]
  },
  {
   "cell_type": "code",
   "execution_count": 70,
   "metadata": {},
   "outputs": [],
   "source": [
    "df = pd.read_csv('../../../data/raw/YELP/yelp.csv', sep='\\t')"
   ]
  },
  {
   "cell_type": "code",
   "execution_count": 75,
   "metadata": {},
   "outputs": [],
   "source": [
    "user_column = \"userId\"\n",
    "item_column = \"businessId\"\n",
    "interaction_column = \"stars\"\n",
    "\n",
    "pd.options.display.float_format = '{:,.3f}'.format\n",
    "\n",
    "\n",
    "user_interactions_sorted = df.groupby(user_column)[interaction_column].count().sort_values(ascending=False)\n",
    "sorted_counts_df_user = user_interactions_sorted.reset_index()\n",
    "sorted_counts_df_user.columns = ['User', 'Count of Items'] \n",
    "sorted_counts_df_user['Log Count of Items'] = (np.round(np.log10(sorted_counts_df_user['Count of Items'] + 1), 3)*1000).astype(int)\n",
    "\n",
    "sorted_counts_df_user.dtypes\n",
    "\n",
    "df_grouby_item_sorted = df.groupby(item_column)[interaction_column].count().sort_values(ascending=False)\n",
    "df_grouby_item_sorted = df_grouby_item_sorted.reset_index()\n",
    "df_grouby_item_sorted.columns = ['Item', 'Count of Users'] \n",
    "df_grouby_item_sorted['Log Count of Users'] = (np.round(np.log10(df_grouby_item_sorted['Count of Users'] + 1),3)*1000).astype(int)"
   ]
  },
  {
   "cell_type": "code",
   "execution_count": 68,
   "metadata": {},
   "outputs": [],
   "source": [
    "df_grouby_item_sorted.iloc[:1048575].to_csv('items_distribution.csv',  sep=';', index=False)"
   ]
  },
  {
   "cell_type": "code",
   "execution_count": 78,
   "metadata": {},
   "outputs": [
    {
     "data": {
      "text/html": [
       "<div>\n",
       "<style scoped>\n",
       "    .dataframe tbody tr th:only-of-type {\n",
       "        vertical-align: middle;\n",
       "    }\n",
       "\n",
       "    .dataframe tbody tr th {\n",
       "        vertical-align: top;\n",
       "    }\n",
       "\n",
       "    .dataframe thead th {\n",
       "        text-align: right;\n",
       "    }\n",
       "</style>\n",
       "<table border=\"1\" class=\"dataframe\">\n",
       "  <thead>\n",
       "    <tr style=\"text-align: right;\">\n",
       "      <th></th>\n",
       "      <th>User</th>\n",
       "      <th>Count of Items</th>\n",
       "      <th>Log Count of Items</th>\n",
       "    </tr>\n",
       "  </thead>\n",
       "  <tbody>\n",
       "    <tr>\n",
       "      <th>0</th>\n",
       "      <td>396</td>\n",
       "      <td>3048</td>\n",
       "      <td>3484</td>\n",
       "    </tr>\n",
       "    <tr>\n",
       "      <th>1</th>\n",
       "      <td>381</td>\n",
       "      <td>1840</td>\n",
       "      <td>3265</td>\n",
       "    </tr>\n",
       "    <tr>\n",
       "      <th>2</th>\n",
       "      <td>123</td>\n",
       "      <td>1747</td>\n",
       "      <td>3243</td>\n",
       "    </tr>\n",
       "    <tr>\n",
       "      <th>3</th>\n",
       "      <td>603</td>\n",
       "      <td>1682</td>\n",
       "      <td>3226</td>\n",
       "    </tr>\n",
       "    <tr>\n",
       "      <th>4</th>\n",
       "      <td>305406</td>\n",
       "      <td>1653</td>\n",
       "      <td>3219</td>\n",
       "    </tr>\n",
       "  </tbody>\n",
       "</table>\n",
       "</div>"
      ],
      "text/plain": [
       "     User  Count of Items  Log Count of Items\n",
       "0     396            3048                3484\n",
       "1     381            1840                3265\n",
       "2     123            1747                3243\n",
       "3     603            1682                3226\n",
       "4  305406            1653                3219"
      ]
     },
     "execution_count": 78,
     "metadata": {},
     "output_type": "execute_result"
    }
   ],
   "source": [
    "sorted_counts_df_user.head()"
   ]
  },
  {
   "cell_type": "code",
   "execution_count": 79,
   "metadata": {},
   "outputs": [],
   "source": [
    "sorted_counts_df_user.iloc[:1048575].to_csv('user_distribution.csv', sep=';', index=False)"
   ]
  },
  {
   "cell_type": "code",
   "execution_count": 66,
   "metadata": {},
   "outputs": [],
   "source": [
    "df_grouby_item_sorted.head().to_clipboard(index=False, sep=',')"
   ]
  },
  {
   "cell_type": "code",
   "execution_count": 30,
   "metadata": {},
   "outputs": [],
   "source": [
    "\n"
   ]
  },
  {
   "cell_type": "code",
   "execution_count": 9,
   "metadata": {},
   "outputs": [],
   "source": [
    "# user_interactions_sorted.iloc[:1048575].to_clipboard()\n",
    "item_interactions_sorted.iloc[:1048575].to_clipboard()"
   ]
  },
  {
   "cell_type": "code",
   "execution_count": null,
   "metadata": {},
   "outputs": [],
   "source": [
    "\n",
    "bins = [1, 2, 3, 4, 5, 6, 7, 8, 9, 10, 20, 30, np.inf]\n",
    "labels = ['1', '2', '3', '4', '5', '6', '7', '8', '9', '10-20', '20-30', '>30']\n",
    "\n",
    "interaction_categories_user = pd.cut(sorted_counts_df_user['Count of Items'], bins=bins, labels=labels)\n",
    "interaction_categories_item = pd.cut(sorted_counts_df_item['Count of Users'], bins=bins, labels=labels)\n",
    "\n",
    "category_counts_user = interaction_categories_user.value_counts().sort_index()\n",
    "category_counts_item = interaction_categories_item.value_counts().sort_index()\n"
   ]
  },
  {
   "cell_type": "code",
   "execution_count": 17,
   "metadata": {},
   "outputs": [],
   "source": [
    "bins = [1, 2, 3, 4, 5, 6, 7, 8, 9, 10, 20, 30, np.inf]\n",
    "labels = ['1', '2', '3', '4', '5', '6', '7', '8', '9', '10-20', '20-30', '>30']\n",
    "\n",
    "df_grouby_item_sorted = df.groupby(item_column)[interaction_column].count().sort_values(ascending=False)\n",
    "df_grouby_item_sorted = df_grouby_item_sorted.reset_index()\n",
    "df_grouby_item_sorted.columns = ['Item', 'Count of Users'] \n",
    "df_grouby_item_sorted['Count of Users'] = np.log10(df_grouby_item_sorted['Count of Users'] + 1)\n",
    "\n",
    "interaction_categories_item = pd.cut(df_grouby_item_sorted['Count of Users'], bins=bins, labels=labels)\n",
    "category_counts_item = interaction_categories_item.value_counts().sort_index()\n"
   ]
  },
  {
   "cell_type": "code",
   "execution_count": 23,
   "metadata": {},
   "outputs": [],
   "source": [
    "# Step 1: Calculate interaction counts per user\n",
    "interaction_counts = df.groupby(item_column)[interaction_column].size()\n",
    "\n",
    "# Step 2: Define the bins and labels for the categories\n",
    "bins = [1, 2, 3, 4, 5, 6, 7, 8, 9, 10, 20, 30, np.inf]\n",
    "labels = ['1', '2', '3', '4', '5', '6', '7', '8', '9', '10-20', '20-30', '>30']\n",
    "\n",
    "# Step 3: Bin the data into the specified categories\n",
    "interaction_categories = pd.cut(interaction_counts, bins=bins, labels=labels, right=False)\n",
    "\n",
    "# Step 4: Count the number of users in each category\n",
    "category_counts = interaction_categories.value_counts().sort_index()\n",
    "\n",
    "# # Step 5: Plot\n",
    "# plt.figure(figsize=(12, 8))\n",
    "# plt.bar(category_counts.index, category_counts.values)\n",
    "# plt.xlabel('Number of Interactions')\n",
    "# plt.ylabel('Number of Users')\n",
    "# plt.title('Number of Users by Interaction Categories')\n",
    "# plt.xticks(rotation=45)  # Improve readability of x-axis labels\n",
    "\n",
    "# plt.show()\n",
    "\n",
    "# category_counts.to_csv(\"frequency_intercation.csv\")"
   ]
  },
  {
   "cell_type": "code",
   "execution_count": 24,
   "metadata": {},
   "outputs": [],
   "source": [
    "category_counts.to_clipboard()"
   ]
  },
  {
   "cell_type": "code",
   "execution_count": null,
   "metadata": {},
   "outputs": [],
   "source": [
    "\n",
    "category_counts_item = interaction_categories_item.value_counts().sort_index()"
   ]
  },
  {
   "cell_type": "code",
   "execution_count": 8,
   "metadata": {},
   "outputs": [
    {
     "data": {
      "text/plain": [
       "(46.494399584957364, 15.0)"
      ]
     },
     "execution_count": 8,
     "metadata": {},
     "output_type": "execute_result"
    }
   ],
   "source": [
    "df_grouby_item_sorted.mean(), df_grouby_item_sorted.median()"
   ]
  },
  {
   "cell_type": "code",
   "execution_count": 11,
   "metadata": {},
   "outputs": [
    {
     "data": {
      "text/plain": [
       "77584"
      ]
     },
     "execution_count": 11,
     "metadata": {},
     "output_type": "execute_result"
    }
   ],
   "source": [
    "sum(df_grouby_item_sorted>=df_grouby_item_sorted.median())"
   ]
  },
  {
   "cell_type": "code",
   "execution_count": 9,
   "metadata": {},
   "outputs": [
    {
     "data": {
      "text/plain": [
       "businessId\n",
       "105296    7673\n",
       "105264    7516\n",
       "90306     6160\n",
       "135405    5778\n",
       "135325    5264\n",
       "          ... \n",
       "54933        5\n",
       "130635       5\n",
       "54944        5\n",
       "130631       5\n",
       "150345       5\n",
       "Name: stars, Length: 150346, dtype: int64"
      ]
     },
     "execution_count": 9,
     "metadata": {},
     "output_type": "execute_result"
    }
   ],
   "source": [
    "df_grouby_item_sorted"
   ]
  },
  {
   "cell_type": "code",
   "execution_count": null,
   "metadata": {},
   "outputs": [],
   "source": [
    "\n",
    "user_interactions_sorted.mean(), user_interactions_sorted.median()"
   ]
  },
  {
   "cell_type": "code",
   "execution_count": 12,
   "metadata": {},
   "outputs": [
    {
     "data": {
      "text/plain": [
       "346"
      ]
     },
     "execution_count": 12,
     "metadata": {},
     "output_type": "execute_result"
    }
   ],
   "source": [
    "sum(user_interactions_sorted >= 1000)"
   ]
  },
  {
   "cell_type": "code",
   "execution_count": 10,
   "metadata": {},
   "outputs": [
    {
     "data": {
      "text/plain": [
       "(46.494399584957364, 15.0)"
      ]
     },
     "execution_count": 10,
     "metadata": {},
     "output_type": "execute_result"
    }
   ],
   "source": [
    "user_interactions_sorted = df.groupby(\"businessId\")[\"stars\"].count().sort_values(ascending=False)\n",
    "user_interactions_sorted.mean(), user_interactions_sorted.median()"
   ]
  },
  {
   "cell_type": "code",
   "execution_count": 5,
   "metadata": {},
   "outputs": [],
   "source": [
    "\n",
    "sorted_counts_df = user_interactions_sorted.reset_index()"
   ]
  },
  {
   "cell_type": "code",
   "execution_count": 6,
   "metadata": {},
   "outputs": [],
   "source": [
    "sorted_counts_df.columns = ['User', 'Count of Items'] "
   ]
  },
  {
   "cell_type": "code",
   "execution_count": 16,
   "metadata": {},
   "outputs": [],
   "source": [
    "sorted_counts_df['Count of Items'] = np.log10(sorted_counts_df['Count of Items'] + 1)\n",
    "# df[feature] = np.log10(df[feature] + 1)"
   ]
  },
  {
   "cell_type": "code",
   "execution_count": 17,
   "metadata": {},
   "outputs": [
    {
     "data": {
      "text/html": [
       "<div>\n",
       "<style scoped>\n",
       "    .dataframe tbody tr th:only-of-type {\n",
       "        vertical-align: middle;\n",
       "    }\n",
       "\n",
       "    .dataframe tbody tr th {\n",
       "        vertical-align: top;\n",
       "    }\n",
       "\n",
       "    .dataframe thead th {\n",
       "        text-align: right;\n",
       "    }\n",
       "</style>\n",
       "<table border=\"1\" class=\"dataframe\">\n",
       "  <thead>\n",
       "    <tr style=\"text-align: right;\">\n",
       "      <th></th>\n",
       "      <th>User</th>\n",
       "      <th>Count of Items</th>\n",
       "    </tr>\n",
       "  </thead>\n",
       "  <tbody>\n",
       "    <tr>\n",
       "      <th>0</th>\n",
       "      <td>396</td>\n",
       "      <td>3.484157</td>\n",
       "    </tr>\n",
       "    <tr>\n",
       "      <th>1</th>\n",
       "      <td>381</td>\n",
       "      <td>3.265054</td>\n",
       "    </tr>\n",
       "    <tr>\n",
       "      <th>2</th>\n",
       "      <td>123</td>\n",
       "      <td>3.242541</td>\n",
       "    </tr>\n",
       "    <tr>\n",
       "      <th>3</th>\n",
       "      <td>603</td>\n",
       "      <td>3.226084</td>\n",
       "    </tr>\n",
       "    <tr>\n",
       "      <th>4</th>\n",
       "      <td>305406</td>\n",
       "      <td>3.218536</td>\n",
       "    </tr>\n",
       "    <tr>\n",
       "      <th>5</th>\n",
       "      <td>2857</td>\n",
       "      <td>3.198382</td>\n",
       "    </tr>\n",
       "    <tr>\n",
       "      <th>6</th>\n",
       "      <td>6456</td>\n",
       "      <td>3.191730</td>\n",
       "    </tr>\n",
       "    <tr>\n",
       "      <th>7</th>\n",
       "      <td>351</td>\n",
       "      <td>3.160769</td>\n",
       "    </tr>\n",
       "    <tr>\n",
       "      <th>8</th>\n",
       "      <td>14187</td>\n",
       "      <td>3.145196</td>\n",
       "    </tr>\n",
       "    <tr>\n",
       "      <th>9</th>\n",
       "      <td>656</td>\n",
       "      <td>3.143639</td>\n",
       "    </tr>\n",
       "  </tbody>\n",
       "</table>\n",
       "</div>"
      ],
      "text/plain": [
       "     User  Count of Items\n",
       "0     396        3.484157\n",
       "1     381        3.265054\n",
       "2     123        3.242541\n",
       "3     603        3.226084\n",
       "4  305406        3.218536\n",
       "5    2857        3.198382\n",
       "6    6456        3.191730\n",
       "7     351        3.160769\n",
       "8   14187        3.145196\n",
       "9     656        3.143639"
      ]
     },
     "execution_count": 17,
     "metadata": {},
     "output_type": "execute_result"
    }
   ],
   "source": [
    "sorted_counts_df.head(10)"
   ]
  },
  {
   "cell_type": "code",
   "execution_count": 15,
   "metadata": {},
   "outputs": [],
   "source": [
    "sorted_counts_df.iloc[:int(len(sorted_counts_df)/2)].to_csv(\"user_interactions_sorted_1.csv\", index=False)\n",
    "sorted_counts_df.iloc[int(len(sorted_counts_df)/2):].to_csv(\"user_interactions_sorted_2.csv\", index=False)"
   ]
  },
  {
   "cell_type": "code",
   "execution_count": 18,
   "metadata": {},
   "outputs": [
    {
     "ename": "",
     "evalue": "",
     "output_type": "error",
     "traceback": [
      "\u001b[1;31mThe Kernel crashed while executing code in the current cell or a previous cell. \n",
      "\u001b[1;31mPlease review the code in the cell(s) to identify a possible cause of the failure. \n",
      "\u001b[1;31mClick <a href='https://aka.ms/vscodeJupyterKernelCrash'>here</a> for more info. \n",
      "\u001b[1;31mView Jupyter <a href='command:jupyter.viewOutput'>log</a> for further details."
     ]
    }
   ],
   "source": [
    "plt.figure(figsize=(10, 6))\n",
    "plt.bar(range(len(sorted_counts_df)), sorted_counts_df['Count of Items'])\n",
    "plt.xlabel('User')\n",
    "plt.ylabel('Count of Items')\n",
    "plt.title('Count of Items per User')\n",
    "plt.xticks(rotation=45)  # Rotate for better label readability\n",
    "plt.show()"
   ]
  },
  {
   "cell_type": "markdown",
   "metadata": {},
   "source": [
    "## Distribution Plots"
   ]
  },
  {
   "cell_type": "code",
   "execution_count": 9,
   "metadata": {},
   "outputs": [
    {
     "ename": "",
     "evalue": "",
     "output_type": "error",
     "traceback": [
      "\u001b[1;31mThe Kernel crashed while executing code in the current cell or a previous cell. \n",
      "\u001b[1;31mPlease review the code in the cell(s) to identify a possible cause of the failure. \n",
      "\u001b[1;31mClick <a href='https://aka.ms/vscodeJupyterKernelCrash'>here</a> for more info. \n",
      "\u001b[1;31mView Jupyter <a href='command:jupyter.viewOutput'>log</a> for further details."
     ]
    }
   ],
   "source": [
    "user_interactions_sorted = df.groupby(\"userId\")[\"stars\"].count().sort_values(ascending=False)\n",
    "sorted_counts_df = user_interactions_sorted.reset_index()\n",
    "sorted_counts_df.columns = ['User', 'Count of Items'] \n",
    "# sorted_counts_df.to_csv(\"user_interactions_count.csv\")\n",
    "\n",
    "\n",
    "plt.figure(figsize=(10, 6))\n",
    "plt.bar(range(len(sorted_counts_df)), sorted_counts_df['Count of Items'])\n",
    "plt.xlabel('User')\n",
    "plt.ylabel('Count of Items')\n",
    "plt.title('Count of Items per User')\n",
    "plt.xticks(rotation=45)  # Rotate for better label readability\n",
    "plt.show()"
   ]
  }
 ],
 "metadata": {
  "kernelspec": {
   "display_name": "venv",
   "language": "python",
   "name": "python3"
  },
  "language_info": {
   "codemirror_mode": {
    "name": "ipython",
    "version": 3
   },
   "file_extension": ".py",
   "mimetype": "text/x-python",
   "name": "python",
   "nbconvert_exporter": "python",
   "pygments_lexer": "ipython3",
   "version": "3.10.12"
  }
 },
 "nbformat": 4,
 "nbformat_minor": 2
}
