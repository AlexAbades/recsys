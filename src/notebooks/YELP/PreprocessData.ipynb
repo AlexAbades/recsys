{
 "cells": [
  {
   "cell_type": "code",
   "execution_count": 1,
   "metadata": {},
   "outputs": [],
   "source": [
    "import pandas as pd\n",
    "\n",
    "# Load preprocessed Data\n",
    "import sys\n",
    "\n",
    "sys.path.append(\"/home/alexabades/recsys\")\n",
    "from src.data.cncf_preprocess import PreProcessDataNCFContextual\n"
   ]
  },
  {
   "cell_type": "markdown",
   "metadata": {},
   "source": [
    "# CONTEXTUAL COLLABORATIVE FILTERING"
   ]
  },
  {
   "cell_type": "code",
   "execution_count": 1,
   "metadata": {},
   "outputs": [],
   "source": [
    "path = \"../data/raw/YELP/\"\n",
    "data_file = \"yelp.csv\"\n",
    "user_column = \"userId\"\n",
    "item_column = \"businessId\"\n",
    "ratings_column = \"stars\"\n",
    "ctx_categorical_columns = [\"isweekend\", \"season\", \"isHoliday\", \"daytime\"]\n",
    "ctx_numerical_columns = [\n",
    "    \"latitude\",\n",
    "    \"longitude\",\n",
    "    \"week_number\",\n",
    "    \"num_firends\",\n",
    "    \"num_elite\",\n",
    "    \"seniority\",\n",
    "]\n",
    "columns_to_transform = {\"cyclical\": [\"week_number\"]}\n",
    "min_interactions = 5"
   ]
  },
  {
   "cell_type": "code",
   "execution_count": null,
   "metadata": {},
   "outputs": [],
   "source": [
    "data = PreProcessDataNCFContextual(\n",
    "    path=path,\n",
    "    data_file=data_file,\n",
    "    user_column=user_column,\n",
    "    item_column=item_column,\n",
    "    ratings_column=ratings_column,\n",
    "    ctx_categorical_columns=ctx_categorical_columns,\n",
    "    ctx_numerical_columns=ctx_numerical_columns,\n",
    "    columns_to_transform=columns_to_transform,\n",
    "    min_interactions=min_interactions,\n",
    ")"
   ]
  },
  {
   "cell_type": "code",
   "execution_count": null,
   "metadata": {},
   "outputs": [],
   "source": [
    "data.save_data('frappe5')"
   ]
  },
  {
   "cell_type": "markdown",
   "metadata": {},
   "source": [
    "# NEURAL COLABORATIVE FILTERING"
   ]
  },
  {
   "cell_type": "code",
   "execution_count": 6,
   "metadata": {},
   "outputs": [],
   "source": [
    "path = \"~/recsys/data/raw/YELP/\"\n",
    "data_file = \"yelp.csv\"\n",
    "user_column = \"userId\"\n",
    "item_column = \"businessId\"\n",
    "rating_column = \"stars\"\n",
    "min_interactions = 5"
   ]
  },
  {
   "cell_type": "code",
   "execution_count": 7,
   "metadata": {},
   "outputs": [
    {
     "name": "stderr",
     "output_type": "stream",
     "text": [
      "/home/alexabades/recsys/src/data/cncf_preprocess.py:174: UserWarning: No Numerical columns have been paseed\n",
      "  warnings.warn(\"No Numerical columns have been paseed\")\n"
     ]
    },
    {
     "name": "stdout",
     "output_type": "stream",
     "text": [
      "Iteration 0\n",
      "Iteration 1\n",
      "Iteration 2\n",
      "Iteration 3\n",
      "Iteration 4\n",
      "Iteration 5\n",
      "K-core cleaning performed with k: 5\n"
     ]
    }
   ],
   "source": [
    "data = PreProcessDataNCFContextual(\n",
    "    path=path,\n",
    "    data_file=data_file,\n",
    "    user_column=user_column,\n",
    "    item_column=item_column,\n",
    "    rating_column=rating_column,\n",
    "    min_interactions=min_interactions,\n",
    ")"
   ]
  },
  {
   "cell_type": "code",
   "execution_count": 8,
   "metadata": {},
   "outputs": [
    {
     "name": "stdout",
     "output_type": "stream",
     "text": [
      "Saved in:  /home/alexabades/recsys/src/data/processed/yelp5/yelp5\n"
     ]
    }
   ],
   "source": [
    "data.save_data('yelp5')"
   ]
  }
 ],
 "metadata": {
  "kernelspec": {
   "display_name": "venv",
   "language": "python",
   "name": "python3"
  },
  "language_info": {
   "codemirror_mode": {
    "name": "ipython",
    "version": 3
   },
   "file_extension": ".py",
   "mimetype": "text/x-python",
   "name": "python",
   "nbconvert_exporter": "python",
   "pygments_lexer": "ipython3",
   "version": "3.10.12"
  }
 },
 "nbformat": 4,
 "nbformat_minor": 2
}
