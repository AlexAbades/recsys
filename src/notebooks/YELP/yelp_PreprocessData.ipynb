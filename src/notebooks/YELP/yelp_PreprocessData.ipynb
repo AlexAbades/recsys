{
 "cells": [
  {
   "cell_type": "code",
   "execution_count": 1,
   "metadata": {},
   "outputs": [],
   "source": [
    "import pandas as pd\n",
    "\n",
    "# Load preprocessed Data\n",
    "import sys\n",
    "\n",
    "sys.path.append(\"/home/alexabades/recsys\")\n",
    "from src.data.cncf_preprocess import PreProcessDataNCFContextual\n"
   ]
  },
  {
   "cell_type": "markdown",
   "metadata": {},
   "source": [
    "# CONTEXTUAL COLLABORATIVE FILTERING"
   ]
  },
  {
   "cell_type": "code",
   "execution_count": 4,
   "metadata": {},
   "outputs": [],
   "source": [
    "path = \"../../../data/raw/YELP/v1/\"\n",
    "data_file = \"yelp.csv\"\n",
    "user_column = \"userId\"\n",
    "item_column = \"businessId\"\n",
    "ratings_column = \"stars\"\n",
    "ctx_categorical_columns = [\"isweekend\", \"season\", \"isHoliday\", \"daytime\"]\n",
    "ctx_numerical_columns = [\n",
    "    \"latitude\",\n",
    "    \"longitude\",\n",
    "    \"num_firends\",\n",
    "    \"num_elite\",\n",
    "    \"seniority\",\n",
    "]\n",
    "columns_to_transform = {\"cyclical\": [\"week_number\"]}\n",
    "min_interactions = 5"
   ]
  },
  {
   "cell_type": "code",
   "execution_count": 5,
   "metadata": {},
   "outputs": [
    {
     "name": "stdout",
     "output_type": "stream",
     "text": [
      "Processed columns: userId, businessId, stars, isweekend, season, isHoliday, daytime, latitude, longitude, num_firends, num_elite, seniority, week_number\n",
      "cyclical transformation performed on ['week_number'] \n"
     ]
    },
    {
     "name": "stderr",
     "output_type": "stream",
     "text": [
      "/home/alexabades/recsys/src/data/cncf_preprocess.py:171: UserWarning: \n",
      "No Columns specified to normalize: Normalizing all Numerical Columns\n",
      "  warnings.warn(\n"
     ]
    },
    {
     "name": "stdout",
     "output_type": "stream",
     "text": [
      "Iteration 0\n",
      "Iteration 1\n",
      "Iteration 2\n",
      "Iteration 3\n",
      "Iteration 4\n",
      "Iteration 5\n",
      "K-core cleaning performed with k: 5\n"
     ]
    }
   ],
   "source": [
    "data = PreProcessDataNCFContextual(\n",
    "    path=path,\n",
    "    data_file=data_file,\n",
    "    user_column=user_column,\n",
    "    item_column=item_column,\n",
    "    rating_column=ratings_column,\n",
    "    ctx_categorical_columns=ctx_categorical_columns,\n",
    "    ctx_numerical_columns=ctx_numerical_columns,\n",
    "    columns_to_transform=columns_to_transform,\n",
    "    min_interactions=min_interactions,\n",
    ")"
   ]
  },
  {
   "cell_type": "code",
   "execution_count": 6,
   "metadata": {},
   "outputs": [
    {
     "name": "stdout",
     "output_type": "stream",
     "text": [
      "Saved in:  /home/alexabades/recsys/src/data/processed/yelp5Context/yelp5Context\n"
     ]
    },
    {
     "ename": "",
     "evalue": "",
     "output_type": "error",
     "traceback": [
      "\u001b[1;31mThe Kernel crashed while executing code in the current cell or a previous cell. \n",
      "\u001b[1;31mPlease review the code in the cell(s) to identify a possible cause of the failure. \n",
      "\u001b[1;31mClick <a href='https://aka.ms/vscodeJupyterKernelCrash'>here</a> for more info. \n",
      "\u001b[1;31mView Jupyter <a href='command:jupyter.viewOutput'>log</a> for further details."
     ]
    }
   ],
   "source": [
    "data.save_data('yelp5Context')"
   ]
  },
  {
   "cell_type": "markdown",
   "metadata": {},
   "source": [
    "# NEURAL COLABORATIVE FILTERING"
   ]
  },
  {
   "cell_type": "code",
   "execution_count": 6,
   "metadata": {},
   "outputs": [],
   "source": [
    "path = \"~/recsys/data/raw/YELP/\"\n",
    "data_file = \"yelp.csv\"\n",
    "user_column = \"userId\"\n",
    "item_column = \"businessId\"\n",
    "rating_column = \"stars\"\n",
    "min_interactions = 5"
   ]
  },
  {
   "cell_type": "code",
   "execution_count": 7,
   "metadata": {},
   "outputs": [
    {
     "name": "stderr",
     "output_type": "stream",
     "text": [
      "/home/alexabades/recsys/src/data/cncf_preprocess.py:174: UserWarning: No Numerical columns have been paseed\n",
      "  warnings.warn(\"No Numerical columns have been paseed\")\n"
     ]
    },
    {
     "name": "stdout",
     "output_type": "stream",
     "text": [
      "Iteration 0\n",
      "Iteration 1\n",
      "Iteration 2\n",
      "Iteration 3\n",
      "Iteration 4\n",
      "Iteration 5\n",
      "K-core cleaning performed with k: 5\n"
     ]
    }
   ],
   "source": [
    "data = PreProcessDataNCFContextual(\n",
    "    path=path,\n",
    "    data_file=data_file,\n",
    "    user_column=user_column,\n",
    "    item_column=item_column,\n",
    "    rating_column=rating_column,\n",
    "    min_interactions=min_interactions,\n",
    ")"
   ]
  },
  {
   "cell_type": "code",
   "execution_count": 8,
   "metadata": {},
   "outputs": [
    {
     "name": "stdout",
     "output_type": "stream",
     "text": [
      "Saved in:  /home/alexabades/recsys/src/data/processed/yelp5/yelp5\n"
     ]
    }
   ],
   "source": [
    "data.save_data('yelp5')"
   ]
  },
  {
   "cell_type": "code",
   "execution_count": 7,
   "metadata": {},
   "outputs": [],
   "source": []
  },
  {
   "cell_type": "code",
   "execution_count": 5,
   "metadata": {},
   "outputs": [
    {
     "data": {
      "text/html": [
       "<div>\n",
       "<style scoped>\n",
       "    .dataframe tbody tr th:only-of-type {\n",
       "        vertical-align: middle;\n",
       "    }\n",
       "\n",
       "    .dataframe tbody tr th {\n",
       "        vertical-align: top;\n",
       "    }\n",
       "\n",
       "    .dataframe thead th {\n",
       "        text-align: right;\n",
       "    }\n",
       "</style>\n",
       "<table border=\"1\" class=\"dataframe\">\n",
       "  <thead>\n",
       "    <tr style=\"text-align: right;\">\n",
       "      <th></th>\n",
       "      <th>0</th>\n",
       "      <th>1</th>\n",
       "      <th>2</th>\n",
       "      <th>3</th>\n",
       "      <th>4</th>\n",
       "      <th>5</th>\n",
       "      <th>6</th>\n",
       "      <th>7</th>\n",
       "      <th>8</th>\n",
       "      <th>9</th>\n",
       "      <th>...</th>\n",
       "      <th>15</th>\n",
       "      <th>16</th>\n",
       "      <th>17</th>\n",
       "      <th>18</th>\n",
       "      <th>19</th>\n",
       "      <th>20</th>\n",
       "      <th>21</th>\n",
       "      <th>22</th>\n",
       "      <th>23</th>\n",
       "      <th>24</th>\n",
       "    </tr>\n",
       "  </thead>\n",
       "  <tbody>\n",
       "    <tr>\n",
       "      <th>0</th>\n",
       "      <td>33</td>\n",
       "      <td>33</td>\n",
       "      <td>1.0</td>\n",
       "      <td>0.474492</td>\n",
       "      <td>0.958030</td>\n",
       "      <td>0.173077</td>\n",
       "      <td>0.004802</td>\n",
       "      <td>0.117647</td>\n",
       "      <td>0.666667</td>\n",
       "      <td>0.926690</td>\n",
       "      <td>...</td>\n",
       "      <td>0</td>\n",
       "      <td>1</td>\n",
       "      <td>1</td>\n",
       "      <td>0</td>\n",
       "      <td>0</td>\n",
       "      <td>0</td>\n",
       "      <td>0</td>\n",
       "      <td>1</td>\n",
       "      <td>0</td>\n",
       "      <td>0</td>\n",
       "    </tr>\n",
       "    <tr>\n",
       "      <th>1</th>\n",
       "      <td>59</td>\n",
       "      <td>59</td>\n",
       "      <td>1.0</td>\n",
       "      <td>0.178664</td>\n",
       "      <td>0.198466</td>\n",
       "      <td>0.557692</td>\n",
       "      <td>0.002334</td>\n",
       "      <td>0.000000</td>\n",
       "      <td>0.611111</td>\n",
       "      <td>-0.403123</td>\n",
       "      <td>...</td>\n",
       "      <td>1</td>\n",
       "      <td>0</td>\n",
       "      <td>1</td>\n",
       "      <td>0</td>\n",
       "      <td>0</td>\n",
       "      <td>1</td>\n",
       "      <td>0</td>\n",
       "      <td>0</td>\n",
       "      <td>0</td>\n",
       "      <td>0</td>\n",
       "    </tr>\n",
       "    <tr>\n",
       "      <th>2</th>\n",
       "      <td>86</td>\n",
       "      <td>85</td>\n",
       "      <td>1.0</td>\n",
       "      <td>0.017925</td>\n",
       "      <td>0.797253</td>\n",
       "      <td>0.769231</td>\n",
       "      <td>0.000200</td>\n",
       "      <td>0.000000</td>\n",
       "      <td>0.388889</td>\n",
       "      <td>-0.989040</td>\n",
       "      <td>...</td>\n",
       "      <td>0</td>\n",
       "      <td>0</td>\n",
       "      <td>1</td>\n",
       "      <td>0</td>\n",
       "      <td>0</td>\n",
       "      <td>0</td>\n",
       "      <td>0</td>\n",
       "      <td>1</td>\n",
       "      <td>0</td>\n",
       "      <td>0</td>\n",
       "    </tr>\n",
       "    <tr>\n",
       "      <th>3</th>\n",
       "      <td>93</td>\n",
       "      <td>91</td>\n",
       "      <td>1.0</td>\n",
       "      <td>0.458274</td>\n",
       "      <td>0.007137</td>\n",
       "      <td>0.884615</td>\n",
       "      <td>0.001000</td>\n",
       "      <td>0.000000</td>\n",
       "      <td>0.722222</td>\n",
       "      <td>-0.652822</td>\n",
       "      <td>...</td>\n",
       "      <td>0</td>\n",
       "      <td>0</td>\n",
       "      <td>1</td>\n",
       "      <td>0</td>\n",
       "      <td>1</td>\n",
       "      <td>0</td>\n",
       "      <td>0</td>\n",
       "      <td>0</td>\n",
       "      <td>0</td>\n",
       "      <td>0</td>\n",
       "    </tr>\n",
       "    <tr>\n",
       "      <th>4</th>\n",
       "      <td>99</td>\n",
       "      <td>97</td>\n",
       "      <td>1.0</td>\n",
       "      <td>0.018180</td>\n",
       "      <td>0.798740</td>\n",
       "      <td>0.153846</td>\n",
       "      <td>0.000000</td>\n",
       "      <td>0.000000</td>\n",
       "      <td>0.444444</td>\n",
       "      <td>0.875735</td>\n",
       "      <td>...</td>\n",
       "      <td>0</td>\n",
       "      <td>1</td>\n",
       "      <td>1</td>\n",
       "      <td>0</td>\n",
       "      <td>0</td>\n",
       "      <td>0</td>\n",
       "      <td>0</td>\n",
       "      <td>1</td>\n",
       "      <td>0</td>\n",
       "      <td>0</td>\n",
       "    </tr>\n",
       "  </tbody>\n",
       "</table>\n",
       "<p>5 rows × 25 columns</p>\n",
       "</div>"
      ],
      "text/plain": [
       "   0   1    2         3         4         5         6         7         8   \\\n",
       "0  33  33  1.0  0.474492  0.958030  0.173077  0.004802  0.117647  0.666667   \n",
       "1  59  59  1.0  0.178664  0.198466  0.557692  0.002334  0.000000  0.611111   \n",
       "2  86  85  1.0  0.017925  0.797253  0.769231  0.000200  0.000000  0.388889   \n",
       "3  93  91  1.0  0.458274  0.007137  0.884615  0.001000  0.000000  0.722222   \n",
       "4  99  97  1.0  0.018180  0.798740  0.153846  0.000000  0.000000  0.444444   \n",
       "\n",
       "         9   ...  15  16  17  18  19  20  21  22  23  24  \n",
       "0  0.926690  ...   0   1   1   0   0   0   0   1   0   0  \n",
       "1 -0.403123  ...   1   0   1   0   0   1   0   0   0   0  \n",
       "2 -0.989040  ...   0   0   1   0   0   0   0   1   0   0  \n",
       "3 -0.652822  ...   0   0   1   0   1   0   0   0   0   0  \n",
       "4  0.875735  ...   0   1   1   0   0   0   0   1   0   0  \n",
       "\n",
       "[5 rows x 25 columns]"
      ]
     },
     "execution_count": 5,
     "metadata": {},
     "output_type": "execute_result"
    }
   ],
   "source": [
    "import pandas as pd \n",
    "df = pd.read_csv('../../../data/processed/YELP/CNCF/yelp_2.1_ctx/yelp_2.1_ctx.test.rating', sep='\\t', header=None)\n",
    "df.head()"
   ]
  },
  {
   "cell_type": "code",
   "execution_count": 8,
   "metadata": {},
   "outputs": [
    {
     "data": {
      "text/html": [
       "<div>\n",
       "<style scoped>\n",
       "    .dataframe tbody tr th:only-of-type {\n",
       "        vertical-align: middle;\n",
       "    }\n",
       "\n",
       "    .dataframe tbody tr th {\n",
       "        vertical-align: top;\n",
       "    }\n",
       "\n",
       "    .dataframe thead th {\n",
       "        text-align: right;\n",
       "    }\n",
       "</style>\n",
       "<table border=\"1\" class=\"dataframe\">\n",
       "  <thead>\n",
       "    <tr style=\"text-align: right;\">\n",
       "      <th></th>\n",
       "      <th>0</th>\n",
       "      <th>1</th>\n",
       "      <th>2</th>\n",
       "      <th>3</th>\n",
       "      <th>4</th>\n",
       "      <th>5</th>\n",
       "      <th>6</th>\n",
       "      <th>7</th>\n",
       "      <th>8</th>\n",
       "      <th>9</th>\n",
       "      <th>...</th>\n",
       "      <th>14</th>\n",
       "      <th>15</th>\n",
       "      <th>16</th>\n",
       "      <th>17</th>\n",
       "      <th>18</th>\n",
       "      <th>19</th>\n",
       "      <th>20</th>\n",
       "      <th>21</th>\n",
       "      <th>22</th>\n",
       "      <th>23</th>\n",
       "    </tr>\n",
       "  </thead>\n",
       "  <tbody>\n",
       "    <tr>\n",
       "      <th>0</th>\n",
       "      <td>10</td>\n",
       "      <td>10</td>\n",
       "      <td>1.0</td>\n",
       "      <td>0.422381</td>\n",
       "      <td>0.635200</td>\n",
       "      <td>0.003334</td>\n",
       "      <td>0.294118</td>\n",
       "      <td>0.888889</td>\n",
       "      <td>-0.964636</td>\n",
       "      <td>0.263587</td>\n",
       "      <td>...</td>\n",
       "      <td>0</td>\n",
       "      <td>0</td>\n",
       "      <td>1</td>\n",
       "      <td>0</td>\n",
       "      <td>0</td>\n",
       "      <td>1</td>\n",
       "      <td>0</td>\n",
       "      <td>0</td>\n",
       "      <td>0</td>\n",
       "      <td>0</td>\n",
       "    </tr>\n",
       "    <tr>\n",
       "      <th>1</th>\n",
       "      <td>37</td>\n",
       "      <td>37</td>\n",
       "      <td>1.0</td>\n",
       "      <td>0.474454</td>\n",
       "      <td>0.958539</td>\n",
       "      <td>0.000000</td>\n",
       "      <td>0.000000</td>\n",
       "      <td>0.388889</td>\n",
       "      <td>-0.652822</td>\n",
       "      <td>0.757511</td>\n",
       "      <td>...</td>\n",
       "      <td>0</td>\n",
       "      <td>0</td>\n",
       "      <td>1</td>\n",
       "      <td>0</td>\n",
       "      <td>0</td>\n",
       "      <td>1</td>\n",
       "      <td>0</td>\n",
       "      <td>0</td>\n",
       "      <td>0</td>\n",
       "      <td>0</td>\n",
       "    </tr>\n",
       "    <tr>\n",
       "      <th>2</th>\n",
       "      <td>70</td>\n",
       "      <td>70</td>\n",
       "      <td>1.0</td>\n",
       "      <td>0.329182</td>\n",
       "      <td>0.710328</td>\n",
       "      <td>0.000067</td>\n",
       "      <td>0.000000</td>\n",
       "      <td>0.277778</td>\n",
       "      <td>0.348202</td>\n",
       "      <td>0.937420</td>\n",
       "      <td>...</td>\n",
       "      <td>0</td>\n",
       "      <td>1</td>\n",
       "      <td>1</td>\n",
       "      <td>0</td>\n",
       "      <td>0</td>\n",
       "      <td>1</td>\n",
       "      <td>0</td>\n",
       "      <td>0</td>\n",
       "      <td>0</td>\n",
       "      <td>0</td>\n",
       "    </tr>\n",
       "    <tr>\n",
       "      <th>3</th>\n",
       "      <td>77</td>\n",
       "      <td>77</td>\n",
       "      <td>1.0</td>\n",
       "      <td>0.091513</td>\n",
       "      <td>0.640240</td>\n",
       "      <td>0.000000</td>\n",
       "      <td>0.000000</td>\n",
       "      <td>0.500000</td>\n",
       "      <td>0.875735</td>\n",
       "      <td>0.482792</td>\n",
       "      <td>...</td>\n",
       "      <td>0</td>\n",
       "      <td>1</td>\n",
       "      <td>1</td>\n",
       "      <td>0</td>\n",
       "      <td>0</td>\n",
       "      <td>0</td>\n",
       "      <td>0</td>\n",
       "      <td>1</td>\n",
       "      <td>0</td>\n",
       "      <td>0</td>\n",
       "    </tr>\n",
       "    <tr>\n",
       "      <th>4</th>\n",
       "      <td>82</td>\n",
       "      <td>82</td>\n",
       "      <td>1.0</td>\n",
       "      <td>0.469833</td>\n",
       "      <td>0.959632</td>\n",
       "      <td>0.007936</td>\n",
       "      <td>0.000000</td>\n",
       "      <td>0.555556</td>\n",
       "      <td>-0.508531</td>\n",
       "      <td>-0.861044</td>\n",
       "      <td>...</td>\n",
       "      <td>1</td>\n",
       "      <td>0</td>\n",
       "      <td>1</td>\n",
       "      <td>0</td>\n",
       "      <td>0</td>\n",
       "      <td>0</td>\n",
       "      <td>0</td>\n",
       "      <td>1</td>\n",
       "      <td>0</td>\n",
       "      <td>0</td>\n",
       "    </tr>\n",
       "  </tbody>\n",
       "</table>\n",
       "<p>5 rows × 24 columns</p>\n",
       "</div>"
      ],
      "text/plain": [
       "   0   1    2         3         4         5         6         7         8   \\\n",
       "0  10  10  1.0  0.422381  0.635200  0.003334  0.294118  0.888889 -0.964636   \n",
       "1  37  37  1.0  0.474454  0.958539  0.000000  0.000000  0.388889 -0.652822   \n",
       "2  70  70  1.0  0.329182  0.710328  0.000067  0.000000  0.277778  0.348202   \n",
       "3  77  77  1.0  0.091513  0.640240  0.000000  0.000000  0.500000  0.875735   \n",
       "4  82  82  1.0  0.469833  0.959632  0.007936  0.000000  0.555556 -0.508531   \n",
       "\n",
       "         9   ...  14  15  16  17  18  19  20  21  22  23  \n",
       "0  0.263587  ...   0   0   1   0   0   1   0   0   0   0  \n",
       "1  0.757511  ...   0   0   1   0   0   1   0   0   0   0  \n",
       "2  0.937420  ...   0   1   1   0   0   1   0   0   0   0  \n",
       "3  0.482792  ...   0   1   1   0   0   0   0   1   0   0  \n",
       "4 -0.861044  ...   1   0   1   0   0   0   0   1   0   0  \n",
       "\n",
       "[5 rows x 24 columns]"
      ]
     },
     "execution_count": 8,
     "metadata": {},
     "output_type": "execute_result"
    }
   ],
   "source": [
    "import pandas as pd \n",
    "df = pd.read_csv('../../../data/processed/YELP/CNCF/yelp5Context/yelp5Context.test.rating', sep='\\t', header=None)\n",
    "df.head()"
   ]
  },
  {
   "cell_type": "markdown",
   "metadata": {},
   "source": [
    "## PreProcess 2"
   ]
  },
  {
   "cell_type": "markdown",
   "metadata": {},
   "source": [
    "### 5 - Core"
   ]
  },
  {
   "cell_type": "code",
   "execution_count": 1,
   "metadata": {},
   "outputs": [],
   "source": [
    "import sys\n",
    "\n",
    "import pandas as pd\n",
    "\n",
    "sys.path.append(\"/home/alexabades/recsys\")\n",
    "from src.data.cncf_preprocess import PreProcessDataNCFContextual"
   ]
  },
  {
   "cell_type": "code",
   "execution_count": 2,
   "metadata": {},
   "outputs": [],
   "source": [
    "path = \"../../../data/raw/YELP/\"\n",
    "data_file = \"yelp_data_V2.csv\"\n",
    "user_column = \"userId\"\n",
    "item_column = \"businessId\"\n",
    "ratings_column = \"stars\"\n",
    "ctx_categorical_columns = [\"season\"]\n",
    "ctx_numerical_columns = [\n",
    "    \"latitude\",\n",
    "    \"longitude\",\n",
    "    \"seniority\",\n",
    "    # \"week_number\",\n",
    "    # \"hour\",\n",
    "]\n",
    "columns_to_transform = {\n",
    "    \"cyclical\": [\"week_number\", \"hour\"],\n",
    "    \"binary\": [\"isweekend\", \"isHoliday\"],\n",
    "}\n",
    "min_interactions = 5"
   ]
  },
  {
   "cell_type": "code",
   "execution_count": 3,
   "metadata": {},
   "outputs": [
    {
     "name": "stdout",
     "output_type": "stream",
     "text": [
      "Processed columns: userId, businessId, stars, season, latitude, longitude, seniority, week_number, hour, isweekend, isHoliday\n",
      "cyclical transformation performed on ['week_number', 'hour'] \n",
      "binary transformation performed on ['isweekend', 'isHoliday'] \n"
     ]
    },
    {
     "name": "stderr",
     "output_type": "stream",
     "text": [
      "/home/alexabades/recsys/src/data/cncf_preprocess.py:175: UserWarning: \n",
      "No Columns specified to normalize: Normalizing all Numerical Columns\n",
      "  warnings.warn(\n"
     ]
    },
    {
     "name": "stdout",
     "output_type": "stream",
     "text": [
      "Iteration 0\n",
      "Iteration 1\n",
      "Iteration 2\n",
      "Iteration 3\n",
      "Iteration 4\n",
      "Iteration 5\n",
      "K-core cleaning performed with k: 5\n"
     ]
    }
   ],
   "source": [
    "data = PreProcessDataNCFContextual(\n",
    "    path=path,\n",
    "    data_file=data_file,\n",
    "    user_column=user_column,\n",
    "    item_column=item_column,\n",
    "    rating_column=ratings_column,\n",
    "    ctx_categorical_columns=ctx_categorical_columns,\n",
    "    ctx_numerical_columns=ctx_numerical_columns,\n",
    "    columns_to_transform=columns_to_transform,\n",
    "    min_interactions=min_interactions,\n",
    ")"
   ]
  },
  {
   "cell_type": "code",
   "execution_count": 4,
   "metadata": {},
   "outputs": [
    {
     "name": "stdout",
     "output_type": "stream",
     "text": [
      "Saved in:  /home/alexabades/recsys/src/data/processed/yelp5Context/yelp5Context\n"
     ]
    }
   ],
   "source": [
    "data.save_data('yelp5Context')"
   ]
  },
  {
   "cell_type": "code",
   "execution_count": null,
   "metadata": {},
   "outputs": [],
   "source": []
  }
 ],
 "metadata": {
  "kernelspec": {
   "display_name": "venv",
   "language": "python",
   "name": "python3"
  },
  "language_info": {
   "codemirror_mode": {
    "name": "ipython",
    "version": 3
   },
   "file_extension": ".py",
   "mimetype": "text/x-python",
   "name": "python",
   "nbconvert_exporter": "python",
   "pygments_lexer": "ipython3",
   "version": "3.10.12"
  }
 },
 "nbformat": 4,
 "nbformat_minor": 2
}
