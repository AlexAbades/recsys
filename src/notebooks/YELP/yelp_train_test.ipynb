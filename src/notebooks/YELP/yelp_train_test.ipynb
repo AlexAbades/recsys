{
 "cells": [
  {
   "cell_type": "markdown",
   "metadata": {},
   "source": [
    "### Check missing items on the YELP Datasets"
   ]
  },
  {
   "cell_type": "code",
   "execution_count": 1,
   "metadata": {},
   "outputs": [],
   "source": [
    "import pandas as pd"
   ]
  },
  {
   "cell_type": "code",
   "execution_count": 16,
   "metadata": {},
   "outputs": [],
   "source": [
    "train_path = \"../../../data/processed/YELP/NCF/yelp5/yelp5.train.rating\"\n",
    "test_path= \"../../../data/processed/YELP/NCF/yelp5/yelp5.test.rating\"\n",
    "\n",
    "df_train = pd.read_csv(train_path, sep=\"\\t\", header=None, names=[\"user\", \"item\", \"rating\"])\n",
    "df_test = pd.read_csv(test_path, sep=\"\\t\", header=None, names=[\"user\", \"item\", \"rating\"])\n",
    "\n",
    "df = pd.concat([df_train, df_test])"
   ]
  },
  {
   "cell_type": "code",
   "execution_count": 19,
   "metadata": {},
   "outputs": [],
   "source": [
    "total_unique_users = df['user'].nunique()\n",
    "total_unique_items = df['item'].nunique()"
   ]
  },
  {
   "cell_type": "code",
   "execution_count": 22,
   "metadata": {},
   "outputs": [],
   "source": [
    "unique_items_in_test = set(df_test['item'].unique())\n",
    "unique_items_in_train = set(df_train['item'].unique())\n",
    "\n",
    "\n",
    "missing_items_test = [item for item in range(total_unique_items) if item not in unique_items_in_test]\n",
    "missing_items_train = [item for item in range(total_unique_items) if item not in unique_items_in_train]\n"
   ]
  },
  {
   "cell_type": "code",
   "execution_count": 24,
   "metadata": {},
   "outputs": [
    {
     "name": "stdout",
     "output_type": "stream",
     "text": [
      "Total items: 95895\n",
      "Total items missing train set: 0\n",
      "Total items missing test set: 35830\n"
     ]
    }
   ],
   "source": [
    "print('Total items:', total_unique_items)\n",
    "print(f\"Total items missing train set: {len(missing_items_train)}\")\n",
    "print(f\"Total items missing test set: {len(missing_items_test)}\")"
   ]
  },
  {
   "cell_type": "markdown",
   "metadata": {},
   "source": [
    "### 2-Core"
   ]
  },
  {
   "cell_type": "code",
   "execution_count": 29,
   "metadata": {},
   "outputs": [],
   "source": [
    "train_path = \"../../../data/processed/YELP/CNCF/yelp_2.1_ctx/yelp_2.1_ctx.train.rating\"\n",
    "test_path = \"../../../data/processed/YELP/CNCF/yelp_2.1_ctx/yelp_2.1_ctx.test.rating\"\n",
    "\n",
    "df_train = pd.read_csv(train_path, sep=\"\\t\", header=None, names=[\"user\", \"item\", \"rating\"], usecols=[0, 1, 2])\n",
    "df_test = pd.read_csv(test_path, sep=\"\\t\", header=None, names=[\"user\", \"item\", \"rating\"], usecols=[0, 1, 2])\n",
    "\n",
    "df = pd.concat([df_train, df_test])"
   ]
  },
  {
   "cell_type": "code",
   "execution_count": 32,
   "metadata": {},
   "outputs": [],
   "source": [
    "total_unique_users = df['user'].nunique()\n",
    "total_unique_items = df['item'].nunique()"
   ]
  },
  {
   "cell_type": "code",
   "execution_count": 30,
   "metadata": {},
   "outputs": [],
   "source": [
    "unique_items_in_test = set(df_test['item'].unique())\n",
    "unique_items_in_train = set(df_train['item'].unique())\n",
    "\n",
    "\n",
    "missing_items_test = [item for item in range(total_unique_items) if item not in unique_items_in_test]\n",
    "missing_items_train = [item for item in range(total_unique_items) if item not in unique_items_in_train]\n"
   ]
  },
  {
   "cell_type": "code",
   "execution_count": 33,
   "metadata": {},
   "outputs": [
    {
     "name": "stdout",
     "output_type": "stream",
     "text": [
      "Total items: 143711\n",
      "Total items missing train set: 20\n",
      "Total items missing test set: 27817\n"
     ]
    }
   ],
   "source": [
    "print('Total items:', total_unique_items)\n",
    "print(f\"Total items missing train set: {len(missing_items_train)}\")\n",
    "print(f\"Total items missing test set: {len(missing_items_test)}\")"
   ]
  }
 ],
 "metadata": {
  "kernelspec": {
   "display_name": "venv",
   "language": "python",
   "name": "python3"
  },
  "language_info": {
   "codemirror_mode": {
    "name": "ipython",
    "version": 3
   },
   "file_extension": ".py",
   "mimetype": "text/x-python",
   "name": "python",
   "nbconvert_exporter": "python",
   "pygments_lexer": "ipython3",
   "version": "3.10.12"
  }
 },
 "nbformat": 4,
 "nbformat_minor": 2
}
