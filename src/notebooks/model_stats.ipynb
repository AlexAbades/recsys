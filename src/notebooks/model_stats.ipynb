{
 "cells": [
  {
   "cell_type": "code",
   "execution_count": null,
   "metadata": {},
   "outputs": [],
   "source": [
    "import torch\n",
    "import sys\n",
    "sys.path.append('/home/alexabades/recsys')\n",
    "from src.models.CNCF.cncf import ContextualNeuralCollavorativeFiltering\n",
    "from src.models.NCF.nfc import NeuralCollaborativeFiltering\n",
    "\n",
    "def print_model_memory_usage(model, input_example):\n",
    "    total_params = 0\n",
    "    for name, param in model.named_parameters():\n",
    "        if param.requires_grad:\n",
    "            num_params = param.numel()\n",
    "            total_params += num_params\n",
    "            print(f\"{name} has {num_params} parameters\")\n",
    "    \n",
    "    model_size_bytes = total_params * 4  # each parameter is a 32-bit float\n",
    "    model_size_mb = model_size_bytes / (1024 ** 2)\n",
    "    print(f'Total parameters count: {total_params}')\n",
    "    print(f\"Total model size: {model_size_mb:.2f} MB\")\n",
    "\n",
    "    # Forward pass to deermine peak memory usage\n",
    "    with torch.no_grad():\n",
    "        model(*input_example)  # Assuming input_example is a tuple of inputs (user_input, item_input)\n",
    "        peak_memory = torch.cuda.max_memory_allocated() / (1024 ** 2)  # Convert bytes to MB\n",
    "        print(f\"Peak memory usage during forward pass: {peak_memory:.2f} MB\")\n",
    "\n",
    "# Example usage\n",
    "# model = NeuralCollaborativeFiltering(num_users=215366, num_items=95895, mf_dim=8, layers=[32, 16, 8]).to('cuda')\n",
    "model = ContextualNeuralCollavorativeFiltering(num_users=215366, num_items=95895, num_context=22, mf_dim=8, layers=[86, 32, 16, 8]).to('cuda')\n",
    "user_input = torch.randint(0, 215366, (1,), device='cuda')\n",
    "item_input = torch.randint(0, 95895, (1,), device='cuda')\n",
    "context_input = torch.randint(0, 95895, (1, 22), device='cuda')\n",
    "print_model_memory_usage(model, (user_input, item_input, context_input))"
   ]
  }
 ],
 "metadata": {
  "language_info": {
   "name": "python"
  }
 },
 "nbformat": 4,
 "nbformat_minor": 2
}
