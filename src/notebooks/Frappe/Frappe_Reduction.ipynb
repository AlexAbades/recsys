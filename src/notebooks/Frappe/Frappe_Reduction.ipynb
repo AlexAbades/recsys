{
 "cells": [
  {
   "cell_type": "code",
   "execution_count": 1,
   "metadata": {},
   "outputs": [],
   "source": [
    "import sys\n",
    "sys.path.append('/home/alexabades/recsys')\n",
    "import pandas as pd \n",
    "import numpy as np \n",
    "import os"
   ]
  },
  {
   "cell_type": "code",
   "execution_count": 2,
   "metadata": {},
   "outputs": [],
   "source": [
    "from src.data.Contextual import PreProcessDataNCFContextual\n",
    "\n",
    "frappe_raw_path = '../data/raw/frappe/'\n",
    "data = PreProcessDataNCFContextual(frappe_raw_path)"
   ]
  },
  {
   "cell_type": "code",
   "execution_count": 3,
   "metadata": {},
   "outputs": [
    {
     "name": "stdout",
     "output_type": "stream",
     "text": [
      "Saved in:  /home/alexabades/recsys/src/data/processed/frappe2/frappe2\n"
     ]
    }
   ],
   "source": [
    "data.save_data(folder_name='frappe2')"
   ]
  },
  {
   "cell_type": "code",
   "execution_count": 8,
   "metadata": {},
   "outputs": [],
   "source": [
    "data2 = PreProcessDataNCFContextual(frappe_raw_path, min_interactions=2)"
   ]
  },
  {
   "cell_type": "code",
   "execution_count": 9,
   "metadata": {},
   "outputs": [
    {
     "name": "stdout",
     "output_type": "stream",
     "text": [
      "Saved in:  /home/alexabades/recsys/src/data/processed/frappe5/frappe5\n"
     ]
    }
   ],
   "source": [
    "data2.save_data(folder_name='frappe5')"
   ]
  },
  {
   "cell_type": "code",
   "execution_count": 15,
   "metadata": {},
   "outputs": [],
   "source": [
    "frappe_raw_path = '../data/raw/frappe/frappe.csv'\n",
    "frappe_processed_path = '../data/processed/frappeCtxA/frappeCtxA.train.rating'\n",
    "df_raw = pd.read_csv(frappe_raw_path, sep='\\t')\n",
    "df_pro = pd.read_csv(frappe_processed_path, sep='\\t', header=None)"
   ]
  },
  {
   "cell_type": "code",
   "execution_count": 16,
   "metadata": {},
   "outputs": [],
   "source": [
    "num_users_raw = len(df_raw['user'].unique())\n",
    "num_items_raw = len(df_raw['item'].unique())"
   ]
  },
  {
   "cell_type": "code",
   "execution_count": 25,
   "metadata": {},
   "outputs": [
    {
     "data": {
      "text/plain": [
       "(651, 1127)"
      ]
     },
     "execution_count": 25,
     "metadata": {},
     "output_type": "execute_result"
    }
   ],
   "source": [
    "num_users_pro = len(df_pro[0].unique())\n",
    "num_items_pro = len(df_pro[1].unique())\n",
    "num_users_pro,num_items_pro "
   ]
  },
  {
   "cell_type": "code",
   "execution_count": 30,
   "metadata": {},
   "outputs": [
    {
     "data": {
      "text/plain": [
       "72.39098481136698"
      ]
     },
     "execution_count": 30,
     "metadata": {},
     "output_type": "execute_result"
    }
   ],
   "source": [
    "(num_users_raw - num_users_pro)/num_users_raw * 100\n",
    "(num_items_raw - num_items_pro) / num_items_raw * 100"
   ]
  },
  {
   "cell_type": "code",
   "execution_count": 62,
   "metadata": {},
   "outputs": [
    {
     "data": {
      "text/plain": [
       "(96203, 83722)"
      ]
     },
     "execution_count": 62,
     "metadata": {},
     "output_type": "execute_result"
    }
   ],
   "source": [
    "df_raw.shape[0], df_pro.shape[0]"
   ]
  },
  {
   "cell_type": "code",
   "execution_count": 57,
   "metadata": {},
   "outputs": [
    {
     "data": {
      "text/plain": [
       "Index([207], dtype='int64')"
      ]
     },
     "execution_count": 57,
     "metadata": {},
     "output_type": "execute_result"
    }
   ],
   "source": [
    "elements = df_raw[df_raw['user'] == 1].sample(1)\n",
    "\n",
    "elements.index"
   ]
  },
  {
   "cell_type": "code",
   "execution_count": 58,
   "metadata": {},
   "outputs": [],
   "source": [
    "idx = []\n",
    "idx.extend(elements.index)\n"
   ]
  },
  {
   "cell_type": "code",
   "execution_count": 59,
   "metadata": {},
   "outputs": [
    {
     "data": {
      "text/plain": [
       "[207]"
      ]
     },
     "execution_count": 59,
     "metadata": {},
     "output_type": "execute_result"
    }
   ],
   "source": [
    "idx"
   ]
  },
  {
   "cell_type": "code",
   "execution_count": 43,
   "metadata": {},
   "outputs": [
    {
     "data": {
      "text/plain": [
       "user\n",
       "0     25\n",
       "1    360\n",
       "2    363\n",
       "3    166\n",
       "4    920\n",
       "Name: item, dtype: int64"
      ]
     },
     "execution_count": 43,
     "metadata": {},
     "output_type": "execute_result"
    }
   ],
   "source": [
    "grouped = df_raw.groupby('user')['item'].count()\n",
    "grouped.head()"
   ]
  },
  {
   "cell_type": "code",
   "execution_count": 44,
   "metadata": {},
   "outputs": [
    {
     "data": {
      "text/plain": [
       "25"
      ]
     },
     "execution_count": 44,
     "metadata": {},
     "output_type": "execute_result"
    }
   ],
   "source": [
    "grouped[0]"
   ]
  },
  {
   "cell_type": "code",
   "execution_count": null,
   "metadata": {},
   "outputs": [],
   "source": []
  },
  {
   "cell_type": "code",
   "execution_count": null,
   "metadata": {},
   "outputs": [],
   "source": []
  },
  {
   "cell_type": "code",
   "execution_count": null,
   "metadata": {},
   "outputs": [],
   "source": []
  },
  {
   "cell_type": "code",
   "execution_count": null,
   "metadata": {},
   "outputs": [],
   "source": []
  },
  {
   "cell_type": "code",
   "execution_count": null,
   "metadata": {},
   "outputs": [],
   "source": [
    "    def _initialize_train_test(self, data: DataFrame, min_samples_test_set: int):\n",
    "        \"\"\"\n",
    "        Funtion that splits the dataser into train/test.\n",
    "        Following the strategy of Leave one out - test set 1 interaction per user\n",
    "\n",
    "\n",
    "        TODO: Update, we have the prefilter.\n",
    "        \"\"\"\n",
    "        frequency_interaction = data.groupby(self.user_column)[\n",
    "            [self.item_column, self.ratings_column]\n",
    "        ].count()\n",
    "        users_one_interaction = frequency_interaction[\n",
    "            frequency_interaction[self.ratings_column] == 1\n",
    "        ].index\n",
    "        list_of_users = data[self.user_column].unique()\n",
    "        users_more_one_interaction = list(\n",
    "            set(list_of_users) - set(users_one_interaction)\n",
    "        )\n",
    "        idx = []\n",
    "        for i in users_more_one_interaction:\n",
    "            element = data[data[\"user\"] == i].sample(n=min_samples_test_set)\n",
    "            idx.append(element.index[0])\n",
    "\n",
    "        test_idx = np.isin(data.index, np.array(idx))\n",
    "\n",
    "        train_ratings, test_ratings = (\n",
    "            data[~test_idx],\n",
    "            data[test_idx],\n",
    "        )\n",
    "        return train_ratings, test_ratings"
   ]
  }
 ],
 "metadata": {
  "kernelspec": {
   "display_name": "venv",
   "language": "python",
   "name": "python3"
  },
  "language_info": {
   "codemirror_mode": {
    "name": "ipython",
    "version": 3
   },
   "file_extension": ".py",
   "mimetype": "text/x-python",
   "name": "python",
   "nbconvert_exporter": "python",
   "pygments_lexer": "ipython3",
   "version": "3.10.12"
  }
 },
 "nbformat": 4,
 "nbformat_minor": 2
}
