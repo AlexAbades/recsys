{
 "cells": [
  {
   "cell_type": "markdown",
   "metadata": {},
   "source": [
    "# NEURAL COLLAVORATIVE FILTERING "
   ]
  },
  {
   "cell_type": "code",
   "execution_count": 1,
   "metadata": {},
   "outputs": [],
   "source": [
    "import pandas as pd\n",
    "\n",
    "# Load preprocessed Data\n",
    "import sys\n",
    "\n",
    "sys.path.append(\"/home/alexabades/recsys\")\n",
    "from src.data.cncf_preprocess import PreProcessDataNCFContextual"
   ]
  },
  {
   "cell_type": "code",
   "execution_count": 3,
   "metadata": {},
   "outputs": [],
   "source": [
    "path = \"../../data/raw/frappe/\"\n",
    "data_file = \"frappe.csv\"\n",
    "meta_file = \"meta.csv\"\n",
    "\n",
    "key_column = 'item'\n",
    "user_column = \"user\"\n",
    "item_column = \"item\"\n",
    "rating_column = \"rating\"\n",
    "min_interaction = 5"
   ]
  },
  {
   "cell_type": "code",
   "execution_count": null,
   "metadata": {},
   "outputs": [],
   "source": [
    "data = PreProcessDataNCFContextual(\n",
    "    path=path,\n",
    "    data_file=data_file,\n",
    "    meta_file=meta_file,\n",
    "    key_column=key_column,\n",
    "    user_column=user_column,\n",
    "    item_column=item_column,\n",
    "    rating_column=rating_column,\n",
    "    min_interactions=min_interaction,\n",
    ")"
   ]
  },
  {
   "cell_type": "code",
   "execution_count": 5,
   "metadata": {},
   "outputs": [
    {
     "name": "stdout",
     "output_type": "stream",
     "text": [
      "Saved in:  /home/alexabades/recsys/src/data/processed/frappe_ncf/frappe_ncf\n"
     ]
    }
   ],
   "source": [
    "data.save_data('frapppe5')"
   ]
  },
  {
   "cell_type": "markdown",
   "metadata": {},
   "source": [
    "# CONTEXT AWARE NEURAL COLLAVORATIVE FILTERING"
   ]
  },
  {
   "cell_type": "code",
   "execution_count": 12,
   "metadata": {},
   "outputs": [],
   "source": [
    "path = \"~/recsys/data/raw/frappe/\"\n",
    "data_file = \"frappe.csv\"\n",
    "meta_file = \"meta.csv\"\n",
    "key_column = 'item'\n",
    "user_column = \"user\"\n",
    "item_column = \"item\"\n",
    "rating_column = \"rating\"\n",
    "ctx_categorical_columns = [\n",
    "    \"daytime\",\n",
    "    \"weather\",\n",
    "    \"isweekend\",\n",
    "    \"homework\",\n",
    "]\n",
    "ctx_numerical_columns = [\"cnt\"]\n",
    "columns_to_transform = {\"log\": \"cnt\"}\n",
    "min_interactions = 5"
   ]
  },
  {
   "cell_type": "code",
   "execution_count": 13,
   "metadata": {},
   "outputs": [
    {
     "name": "stdout",
     "output_type": "stream",
     "text": [
      "log transformation performed on ['cnt'] \n",
      "Iteration 0\n",
      "Iteration 1\n",
      "K-core cleaning performed with k: 5\n"
     ]
    },
    {
     "name": "stderr",
     "output_type": "stream",
     "text": [
      "/home/alexabades/recsys/src/data/cncf_preprocess.py:128: UserWarning: \n",
      "No Columns specified to normalize: Normalizing all Numerical Columns\n",
      "  warnings.warn(\n"
     ]
    }
   ],
   "source": [
    "data = PreProcessDataNCFContextual(\n",
    "    path=path,\n",
    "    data_file=data_file,\n",
    "    meta_file=meta_file,\n",
    "    key_column=key_column,\n",
    "    user_column=user_column,\n",
    "    item_column=item_column,\n",
    "    rating_column=rating_column,\n",
    "    min_interactions=min_interactions,\n",
    "    ctx_categorical_columns=ctx_categorical_columns,\n",
    "    ctx_numerical_columns=ctx_numerical_columns,\n",
    "    columns_to_transform=columns_to_transform,\n",
    ")"
   ]
  },
  {
   "cell_type": "code",
   "execution_count": 14,
   "metadata": {},
   "outputs": [
    {
     "name": "stdout",
     "output_type": "stream",
     "text": [
      "Saved in:  /home/alexabades/recsys/src/data/processed/frapppe5Context/frapppe5Context\n"
     ]
    }
   ],
   "source": [
    "data.save_data('frapppe5Context')"
   ]
  },
  {
   "cell_type": "markdown",
   "metadata": {},
   "source": [
    "# Preproces 2"
   ]
  },
  {
   "cell_type": "markdown",
   "metadata": {},
   "source": [
    "## Data Investigation"
   ]
  },
  {
   "cell_type": "code",
   "execution_count": 5,
   "metadata": {},
   "outputs": [],
   "source": [
    "# Load raw Frappe data \n",
    "path = \"../../../data/raw/frappe/frappe.csv\"\n",
    "df = pd.read_csv(path, sep=\"\\t\")"
   ]
  },
  {
   "cell_type": "code",
   "execution_count": 8,
   "metadata": {},
   "outputs": [
    {
     "data": {
      "text/plain": [
       "0.1302350238558049"
      ]
     },
     "execution_count": 8,
     "metadata": {},
     "output_type": "execute_result"
    }
   ],
   "source": [
    "df['weather'].unique()\n",
    "sum(df['weather'] == 'unknown')/len(df)"
   ]
  },
  {
   "cell_type": "code",
   "execution_count": 8,
   "metadata": {},
   "outputs": [
    {
     "data": {
      "text/plain": [
       "Index(['user', 'item', 'cnt', 'daytime', 'weekday', 'isweekend', 'homework',\n",
       "       'cost', 'weather', 'country', 'city'],\n",
       "      dtype='object')"
      ]
     },
     "execution_count": 8,
     "metadata": {},
     "output_type": "execute_result"
    }
   ],
   "source": [
    "df.columns"
   ]
  },
  {
   "cell_type": "code",
   "execution_count": 27,
   "metadata": {},
   "outputs": [
    {
     "data": {
      "text/plain": [
       "Index(['user', 'item', 'cnt', 'daytime', 'weekday', 'isweekend', 'homework',\n",
       "       'cost', 'weather', 'country', 'city', 'time_of_day'],\n",
       "      dtype='object')"
      ]
     },
     "execution_count": 27,
     "metadata": {},
     "output_type": "execute_result"
    }
   ],
   "source": [
    "# Mapping from nominal time to hours\n",
    "time_to_hour = {\n",
    "    'sunrise': 6,\n",
    "    'morning': 9,  \n",
    "    'noon': 12,\n",
    "    'afternoon': 15,\n",
    "    'evening': 18,\n",
    "    'sunset': 18,\n",
    "    'night': 21\n",
    "}\n",
    "\n",
    "# Apply the mapping\n",
    "df['time_of_day'] = df['daytime'].map(time_to_hour)\n",
    "\n",
    "\n"
   ]
  },
  {
   "cell_type": "code",
   "execution_count": 28,
   "metadata": {},
   "outputs": [],
   "source": [
    "save_path = \"../../../data/raw/frappe/frappe_v2.csv\"\n",
    "df.to_csv(save_path, index=False, sep=\"\\t\")"
   ]
  },
  {
   "cell_type": "code",
   "execution_count": 23,
   "metadata": {},
   "outputs": [
    {
     "name": "stdout",
     "output_type": "stream",
     "text": [
      "Unkown: 75670\n",
      "Home: 15771\n",
      "Work: 4762\n",
      "Unkown: 0.79\n",
      "Home & Work: 0.21\n"
     ]
    }
   ],
   "source": [
    "unknown = sum(df.homework == df.homework.unique()[0])\n",
    "home  =sum(df.homework == df.homework.unique()[1])\n",
    "work = sum(df.homework == df.homework.unique()[2])\n",
    "\n",
    "print(f'Unkown: {unknown}')\n",
    "print(f'Home: {home}')\n",
    "print(f'Work: {work}')\n",
    "\n",
    "print(f'Unkown: {unknown/len(df):.2f}')\n",
    "print(f'Home & Work: {(home+work)/len(df):.2f}')"
   ]
  },
  {
   "cell_type": "markdown",
   "metadata": {},
   "source": [
    "Decided to not use homework as roughly 80% of the instances are unkown and will not add extra information"
   ]
  },
  {
   "cell_type": "markdown",
   "metadata": {},
   "source": [
    "## Prpreprocess the data"
   ]
  },
  {
   "cell_type": "code",
   "execution_count": 1,
   "metadata": {},
   "outputs": [],
   "source": [
    "import pandas as pd\n",
    "\n",
    "# Load preprocessed Data\n",
    "import sys\n",
    "\n",
    "sys.path.append(\"/home/alexabades/recsys\")\n",
    "from src.data.cncf_preprocess import PreProcessDataNCFContextual"
   ]
  },
  {
   "cell_type": "code",
   "execution_count": 2,
   "metadata": {},
   "outputs": [],
   "source": [
    "path = \"~/recsys/data/raw/frappe/\"\n",
    "data_file = \"frappe_v2.csv\"\n",
    "meta_file = \"meta.csv\"\n",
    "key_column = 'item'\n",
    "user_column = \"user\"\n",
    "item_column = \"item\"\n",
    "rating_column = \"rating\"\n",
    "ctx_categorical_columns = [\n",
    "    \"weather\",\n",
    "]\n",
    "ctx_numerical_columns = [\"cnt\"]\n",
    "columns_to_transform = {\"log\": \"cnt\", \"binary\":\"isweekend\", \"cyclical\": \"time_of_day\"}\n",
    "min_interactions = 5\n"
   ]
  },
  {
   "cell_type": "code",
   "execution_count": 3,
   "metadata": {},
   "outputs": [
    {
     "name": "stdout",
     "output_type": "stream",
     "text": [
      "Processed columns: user, item, rating, weather, cnt, isweekend, time_of_day\n",
      "log transformation performed on ['cnt'] \n",
      "binary transformation performed on ['isweekend'] \n",
      "cyclical transformation performed on ['time_of_day'] \n",
      "Iteration 0\n",
      "Iteration 1\n",
      "K-core cleaning performed with k: 5\n"
     ]
    },
    {
     "name": "stderr",
     "output_type": "stream",
     "text": [
      "/home/alexabades/recsys/src/data/cncf_preprocess.py:171: UserWarning: \n",
      "No Columns specified to normalize: Normalizing all Numerical Columns\n",
      "  warnings.warn(\n"
     ]
    }
   ],
   "source": [
    "data = PreProcessDataNCFContextual(\n",
    "    path=path,\n",
    "    data_file=data_file,\n",
    "    meta_file=meta_file,\n",
    "    key_column=key_column,\n",
    "    user_column=user_column,\n",
    "    item_column=item_column,\n",
    "    rating_column=rating_column,\n",
    "    min_interactions=min_interactions,\n",
    "    ctx_categorical_columns=ctx_categorical_columns,\n",
    "    ctx_numerical_columns=ctx_numerical_columns,\n",
    "    columns_to_transform=columns_to_transform,\n",
    ")"
   ]
  },
  {
   "cell_type": "code",
   "execution_count": 4,
   "metadata": {},
   "outputs": [
    {
     "name": "stdout",
     "output_type": "stream",
     "text": [
      "Saved in:  /home/alexabades/recsys/src/data/processed/frapppe5ContextV2/frapppe5ContextV2\n"
     ]
    }
   ],
   "source": [
    "data.save_data('frapppe5ContextV2')"
   ]
  }
 ],
 "metadata": {
  "kernelspec": {
   "display_name": "venv",
   "language": "python",
   "name": "python3"
  },
  "language_info": {
   "codemirror_mode": {
    "name": "ipython",
    "version": 3
   },
   "file_extension": ".py",
   "mimetype": "text/x-python",
   "name": "python",
   "nbconvert_exporter": "python",
   "pygments_lexer": "ipython3",
   "version": "3.10.12"
  }
 },
 "nbformat": 4,
 "nbformat_minor": 2
}
