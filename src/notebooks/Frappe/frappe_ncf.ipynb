{
 "cells": [
  {
   "cell_type": "code",
   "execution_count": 1,
   "metadata": {},
   "outputs": [],
   "source": [
    "import pandas as pd\n",
    "\n",
    "# Load preprocessed Data\n",
    "import sys\n",
    "\n",
    "sys.path.append(\"/home/alexabades/recsys\")\n",
    "from src.data.cncf_preprocess import PreProcessDataNCFContextual"
   ]
  },
  {
   "cell_type": "code",
   "execution_count": 2,
   "metadata": {},
   "outputs": [],
   "source": [
    "path = \"../../data/raw/frappe/\"\n",
    "data_file = \"frappe.csv\"\n",
    "meta_file = \"meta.csv\"\n",
    "key_column = 'item'\n",
    "user_column = \"user\"\n",
    "item_column = \"item\"\n",
    "rating_column = \"rating\"\n",
    "min_interaction = 5"
   ]
  },
  {
   "cell_type": "code",
   "execution_count": 4,
   "metadata": {},
   "outputs": [
    {
     "name": "stderr",
     "output_type": "stream",
     "text": [
      "/home/alexabades/recsys/src/data/cncf_preprocess.py:133: UserWarning: No Numerical columns have been paseed\n",
      "  warnings.warn(\"No Numerical columns have been paseed\")\n"
     ]
    },
    {
     "name": "stdout",
     "output_type": "stream",
     "text": [
      "Iteration 0\n",
      "Iteration 1\n",
      "K-core cleaning performed with k: 5\n"
     ]
    }
   ],
   "source": [
    "data = PreProcessDataNCFContextual(\n",
    "    path=path,\n",
    "    data_file=data_file,\n",
    "    meta_file=meta_file,\n",
    "    key_column=key_column,\n",
    "    user_column=user_column,\n",
    "    item_column=item_column,\n",
    "    rating_column=rating_column,\n",
    "    min_interactions=min_interaction,\n",
    ")"
   ]
  },
  {
   "cell_type": "code",
   "execution_count": 5,
   "metadata": {},
   "outputs": [
    {
     "name": "stdout",
     "output_type": "stream",
     "text": [
      "Saved in:  /home/alexabades/recsys/src/data/processed/frappe_ncf/frappe_ncf\n"
     ]
    }
   ],
   "source": [
    "data.save_data('frapppe5')"
   ]
  }
 ],
 "metadata": {
  "kernelspec": {
   "display_name": "venv",
   "language": "python",
   "name": "python3"
  },
  "language_info": {
   "codemirror_mode": {
    "name": "ipython",
    "version": 3
   },
   "file_extension": ".py",
   "mimetype": "text/x-python",
   "name": "python",
   "nbconvert_exporter": "python",
   "pygments_lexer": "ipython3",
   "version": "3.10.12"
  }
 },
 "nbformat": 4,
 "nbformat_minor": 2
}
