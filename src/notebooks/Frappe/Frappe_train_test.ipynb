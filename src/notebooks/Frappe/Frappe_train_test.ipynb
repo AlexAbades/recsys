{
 "cells": [
  {
   "cell_type": "markdown",
   "metadata": {},
   "source": [
    "# Check the number of items that is missing in the train and test split"
   ]
  },
  {
   "cell_type": "markdown",
   "metadata": {},
   "source": [
    "### 5-Core"
   ]
  },
  {
   "cell_type": "code",
   "execution_count": 22,
   "metadata": {},
   "outputs": [],
   "source": [
    "import pandas as pd "
   ]
  },
  {
   "cell_type": "code",
   "execution_count": 23,
   "metadata": {},
   "outputs": [],
   "source": [
    "path_train = '../../../data/processed/FRAPPE/NCF/frappe5/frappe5.train.rating'\n",
    "path_test = '../../../data/processed/FRAPPE/NCF/frappe5/frappe5.test.rating'\n",
    "df_train = pd.read_csv(path_train, sep= '\\t', header=None, names=['user', 'item', 'rating'])\n",
    "df_test = pd.read_csv(path_test, sep= '\\t', header=None, names=['user', 'item', 'rating'])\n",
    "# concat \n",
    "df = pd.concat([df_train, df_test])\n"
   ]
  },
  {
   "cell_type": "code",
   "execution_count": 24,
   "metadata": {},
   "outputs": [],
   "source": [
    "total_unique_users = df['user'].nunique()\n",
    "total_unique_items = df['item'].nunique()"
   ]
  },
  {
   "cell_type": "code",
   "execution_count": 25,
   "metadata": {},
   "outputs": [],
   "source": [
    "missing_items_test = []\n",
    "for item in range(total_unique_items):\n",
    "    if item not in sorted(df_test[\"item\"].unique()):\n",
    "        missing_items_test.append(item)\n",
    "\n",
    "missing_items_train = []\n",
    "for item in range(total_unique_items):\n",
    "    if item not in sorted(df_train[\"item\"].unique()):\n",
    "        missing_items_train.append(item)"
   ]
  },
  {
   "cell_type": "code",
   "execution_count": 28,
   "metadata": {},
   "outputs": [
    {
     "name": "stdout",
     "output_type": "stream",
     "text": [
      "Total items: 1127\n",
      "Total items missing train set: 0\n",
      "Total items missing test set: 869\n"
     ]
    }
   ],
   "source": [
    "print('Total items:', total_unique_items)\n",
    "print(f\"Total items missing train set: {len(missing_items_train)}\")\n",
    "print(f\"Total items missing test set: {len(missing_items_test)}\")"
   ]
  },
  {
   "cell_type": "markdown",
   "metadata": {},
   "source": [
    "### 2-core"
   ]
  },
  {
   "cell_type": "code",
   "execution_count": 29,
   "metadata": {},
   "outputs": [],
   "source": [
    "path_train = '../../../data/processed/FRAPPE/CNCF/frappe2Context/frappe2Context.train.rating'\n",
    "path_test = '../../../data/processed/FRAPPE/CNCF/frappe2Context/frappe2Context.test.rating'\n",
    "\n",
    "df_train = pd.read_csv(path_train, sep= '\\t', header=None, names=['user', 'item', 'rating'], usecols=[0,1,2])\n",
    "df_test = pd.read_csv(path_test, sep= '\\t', header=None, names=['user', 'item', 'rating'], usecols=[0,1,2])\n",
    "# concat \n",
    "df = pd.concat([df_train, df_test])\n"
   ]
  },
  {
   "cell_type": "code",
   "execution_count": 30,
   "metadata": {},
   "outputs": [],
   "source": [
    "total_unique_users = df['user'].nunique()\n",
    "total_unique_items = df['item'].nunique()"
   ]
  },
  {
   "cell_type": "code",
   "execution_count": 31,
   "metadata": {},
   "outputs": [],
   "source": [
    "missing_items_test = []\n",
    "for item in range(total_unique_items):\n",
    "    if item not in sorted(df_test[\"item\"].unique()):\n",
    "        missing_items_test.append(item)\n",
    "\n",
    "missing_items_train = []\n",
    "for item in range(total_unique_items):\n",
    "    if item not in sorted(df_train[\"item\"].unique()):\n",
    "        missing_items_train.append(item)"
   ]
  },
  {
   "cell_type": "code",
   "execution_count": 32,
   "metadata": {},
   "outputs": [
    {
     "name": "stdout",
     "output_type": "stream",
     "text": [
      "Total items: 1837\n",
      "Total items missing train set: 0\n",
      "Total items missing test set: 1538\n"
     ]
    }
   ],
   "source": [
    "print('Total items:', total_unique_items)\n",
    "print(f\"Total items missing train set: {len(missing_items_train)}\")\n",
    "print(f\"Total items missing test set: {len(missing_items_test)}\")"
   ]
  }
 ],
 "metadata": {
  "kernelspec": {
   "display_name": "venv",
   "language": "python",
   "name": "python3"
  },
  "language_info": {
   "codemirror_mode": {
    "name": "ipython",
    "version": 3
   },
   "file_extension": ".py",
   "mimetype": "text/x-python",
   "name": "python",
   "nbconvert_exporter": "python",
   "pygments_lexer": "ipython3",
   "version": "3.10.12"
  }
 },
 "nbformat": 4,
 "nbformat_minor": 2
}
