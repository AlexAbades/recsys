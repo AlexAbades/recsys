{
 "cells": [
  {
   "cell_type": "code",
   "execution_count": 1,
   "metadata": {},
   "outputs": [],
   "source": [
    "import pandas as pd\n",
    "import matplotlib.pyplot as plt\n",
    "import sys \n",
    "import numpy as np\n",
    "sys.path.append('/home/alexabades/recsys')"
   ]
  },
  {
   "cell_type": "code",
   "execution_count": 3,
   "metadata": {},
   "outputs": [],
   "source": [
    "datapath = \"~/recsys/data/raw/frappe/\"\n",
    "df = pd.read_csv(datapath + \"frappe.csv\", sep=\"\\t\")\n",
    "meta_app = pd.read_csv(datapath +'meta.csv', sep=\"\\t\")\n",
    "df_meta = df.merge(meta_app, on='item')"
   ]
  },
  {
   "cell_type": "code",
   "execution_count": 4,
   "metadata": {},
   "outputs": [
    {
     "data": {
      "text/html": [
       "<div>\n",
       "<style scoped>\n",
       "    .dataframe tbody tr th:only-of-type {\n",
       "        vertical-align: middle;\n",
       "    }\n",
       "\n",
       "    .dataframe tbody tr th {\n",
       "        vertical-align: top;\n",
       "    }\n",
       "\n",
       "    .dataframe thead th {\n",
       "        text-align: right;\n",
       "    }\n",
       "</style>\n",
       "<table border=\"1\" class=\"dataframe\">\n",
       "  <thead>\n",
       "    <tr style=\"text-align: right;\">\n",
       "      <th></th>\n",
       "      <th>user</th>\n",
       "      <th>item</th>\n",
       "      <th>cnt</th>\n",
       "      <th>daytime</th>\n",
       "      <th>weekday</th>\n",
       "      <th>isweekend</th>\n",
       "      <th>homework</th>\n",
       "      <th>cost</th>\n",
       "      <th>weather</th>\n",
       "      <th>country</th>\n",
       "      <th>...</th>\n",
       "      <th>category</th>\n",
       "      <th>downloads</th>\n",
       "      <th>developer</th>\n",
       "      <th>icon</th>\n",
       "      <th>language</th>\n",
       "      <th>description</th>\n",
       "      <th>name</th>\n",
       "      <th>price</th>\n",
       "      <th>rating</th>\n",
       "      <th>short desc</th>\n",
       "    </tr>\n",
       "  </thead>\n",
       "  <tbody>\n",
       "    <tr>\n",
       "      <th>0</th>\n",
       "      <td>0</td>\n",
       "      <td>0</td>\n",
       "      <td>1</td>\n",
       "      <td>morning</td>\n",
       "      <td>sunday</td>\n",
       "      <td>weekend</td>\n",
       "      <td>unknown</td>\n",
       "      <td>free</td>\n",
       "      <td>sunny</td>\n",
       "      <td>United States</td>\n",
       "      <td>...</td>\n",
       "      <td>Productivity</td>\n",
       "      <td>1,000,000 - 5,000,000</td>\n",
       "      <td>Any.DO</td>\n",
       "      <td>http://d2lh3rxs7crswz.cloudfront.net/com.anydo...</td>\n",
       "      <td>en</td>\n",
       "      <td>Meet Any.DO, the best way to-do To-do's on And...</td>\n",
       "      <td>Any.DO To-do &amp; Tasks List</td>\n",
       "      <td>Free</td>\n",
       "      <td>4.5</td>\n",
       "      <td>Any.DO helps you remember everything you have ...</td>\n",
       "    </tr>\n",
       "  </tbody>\n",
       "</table>\n",
       "<p>1 rows × 22 columns</p>\n",
       "</div>"
      ],
      "text/plain": [
       "   user  item  cnt  daytime weekday isweekend homework  cost weather  \\\n",
       "0     0     0    1  morning  sunday   weekend  unknown  free   sunny   \n",
       "\n",
       "         country  ...      category              downloads developer  \\\n",
       "0  United States  ...  Productivity  1,000,000 - 5,000,000    Any.DO   \n",
       "\n",
       "                                                icon language  \\\n",
       "0  http://d2lh3rxs7crswz.cloudfront.net/com.anydo...       en   \n",
       "\n",
       "                                         description  \\\n",
       "0  Meet Any.DO, the best way to-do To-do's on And...   \n",
       "\n",
       "                        name price rating  \\\n",
       "0  Any.DO To-do & Tasks List  Free    4.5   \n",
       "\n",
       "                                          short desc  \n",
       "0  Any.DO helps you remember everything you have ...  \n",
       "\n",
       "[1 rows x 22 columns]"
      ]
     },
     "execution_count": 4,
     "metadata": {},
     "output_type": "execute_result"
    }
   ],
   "source": [
    "df_meta.head(1)"
   ]
  },
  {
   "cell_type": "markdown",
   "metadata": {},
   "source": [
    "- user: Nominal, unique identifier\n",
    "- item: Nominal, unique identifier\n",
    "- cnt: Ratio: number of times the app has been used by user\n",
    "- daytime: Nominal, time of app usage\n",
    "- weekday: Nominal, day of the week\n",
    "- isweekend: Nominal, weekend or a workday\n",
    "- homework: Nominal, user's location\n",
    "- cost: Nominal, free or paid\n",
    "- weather: Nomianal, weather conditions at the time of app usage\n",
    "- country: Nominal, user's country\n",
    "- city: Nominal, user's city identifier\n",
    "- package: Nominal, unique identifier Android application\n",
    "- category: Nominal, genre or category by application\n",
    "- downloads: Ordinal, number of download ranges\n",
    "- developer: Nominal, the developer or publisher\n",
    "- icon: Textual data, associated URL icon\n",
    "- language: Nominal, , ISO 639-1 standard language codes\n",
    "- description: Textual data, detailed description of the app\n",
    "- name: Textual, name of the application\n",
    "- price: Nominal/Ratio, price of the application\n",
    "- rating: Ratio, ratings on a scale from 1-5\n",
    "- short desc: Textual data, shorter description of the app\n",
    "\n",
    "If we include cost which is nominal we can set Price to ratio, transofrimng to numerical all categories."
   ]
  },
  {
   "cell_type": "code",
   "execution_count": 44,
   "metadata": {},
   "outputs": [
    {
     "name": "stdout",
     "output_type": "stream",
     "text": [
      "User has 957 values, sample values: \n",
      " [0 1 2]\n",
      "Item has 4082 values, sample values: \n",
      " [0 1 2]\n",
      "Cnt has 1981 values, sample values: \n",
      " [1 7 6]\n",
      "Daytime has 7 values, sample values: \n",
      " ['morning' 'afternoon' 'evening' 'sunset' 'night']\n",
      "Weekday has 7 values, sample values: \n",
      " ['sunday' 'saturday' 'monday' 'thursday' 'wednesday']\n",
      "Isweekend has 2 values, sample values: \n",
      " ['weekend' 'workday']\n",
      "Homework has 3 values, sample values: \n",
      " ['unknown' 'home' 'work']\n",
      "Cost has 2 values, sample values: \n",
      " ['free' 'paid']\n",
      "Weather has 9 values, sample values: \n",
      " ['sunny' 'cloudy' 'unknown' 'foggy' 'rainy']\n",
      "Country has 80 values, sample values: \n",
      " ['United States' 'Spain' 'Switzerland']\n",
      "City has 233 values, sample values: \n",
      " [   0  369 1028]\n"
     ]
    }
   ],
   "source": [
    "for i in df.columns:\n",
    "  print(f\"{i.capitalize()} has {len(df[i].unique())} values, sample values: \\n {df[i].unique()[:5] if len(df[i].unique()) < 50  else df[i].unique()[:3] }\")"
   ]
  },
  {
   "cell_type": "code",
   "execution_count": 39,
   "metadata": {},
   "outputs": [
    {
     "name": "stdout",
     "output_type": "stream",
     "text": [
      "Item has 4082 values, sample values: \n",
      " [0] \n",
      "\n",
      "Package has 3533 values, sample values: \n",
      " ['com.anydo'] \n",
      "\n",
      "Category has 32 values, sample values: \n",
      " ['Productivity' 'News & Magazines' 'Tools' 'Social' 'Shopping'] \n",
      "\n",
      "Downloads has 16 values, sample values: \n",
      " ['1,000,000 - 5,000,000' '50,000,000 - 100,000,000' '10,000 - 50,000'\n",
      " '100,000,000 - 500,000,000' 'unknown'] \n",
      "\n",
      "Developer has 2809 values, sample values: \n",
      " ['Any.DO'] \n",
      "\n",
      "Icon has 3533 values, sample values: \n",
      " ['http://d2lh3rxs7crswz.cloudfront.net/com.anydo.png'] \n",
      "\n",
      "Language has 29 values, sample values: \n",
      " ['en' 'unknown' 'he' 'zh' 'es'] \n",
      "\n",
      "Description has 3520 values, sample values: \n",
      " [\"Meet Any.DO, the best way to-do To-do's on Android. It's simple, beautiful & fun Millions use Any.DO every day to remember all the tasks they want to-do and make sure they get them done. Key benefits: Seamless cloud sync, Speech recognition, Alerts, Snooze tasks, Google Task Sync, Notes, Sub tasks, Amazing Widgets, Repeating / Recurring Tasks, Missed call, Auto complete, In app actions, Gesture support & much more! ☞ Get the most out of Any.DO:■ Beautiful & Functional - Any.DO is beautifully designed, simple to use and user friendly.■ Always there when you need it - Any.DO syncs seamlessly with the cloud so you can stay on top of just about anything across all your devices.■ Any.DO puts the power in your hands - Drag & drop to plan your agenda, swipe off a task to mark it as complete & shake your android to clear your completed tasks. It just feels right.■ Speak your mind - Instead of typing just tap the microphone icon and say what you want to do. Any.DO will automatically convert your words into text in almost any language.■ Type less, DO more - Mobile typing can be a hassle; Any.DO’s auto-suggest predicts what you want to do as you type it.■ Any.DO works for you - Simply add a time based reminder for the things you want to do and Any.DO will remind you just at the right time. You can even try some repeat options.■ Better together - Share lists with your friends, family, and colleagues to accomplish even more. Here are some ideas: A shared grocery list with your spouse, plan an event with your friends or just make sure you’re on top of an office project.■ Any. DO is available in different languages: English, French, German, Italian, Japanese, Korean, Dutch, Swedish, Spanish, German, Portuguese, Chinese (simplified & traditional), Russian, Arabic & Hebrew.☞ What makes our app so hot:✔ Just like real life - Swipe a task with your finger to mark it as complete. ✔ Shake it away - Shake your device to remove all completed tasks. ✔ Powerful widgets - Add a widget to your home screen to see all the things you need to do - just when you need them. ✔ Don't miss another call - Turn missed calls into reminders. ✔ Take actions - With Any.DO you can easily make calls, text, emails and even schedule meetings from within the app ✔ Make it personal - Choose your favorite app theme (white or black). ✔ Do it your own way - You can easily customize your folders, so you can organize your tasks to best suit your needs (for example: Work, Home, Errands). Plus, you can have as many folders as you wish. ✔ Your tasks, Your choice - You can switch between Date view (Today, Tomorrow, Upcoming & Someday) and Folder view, it's up to you.♥ Our Customers Say ♥“I want to say that I absolutely love this app and that's an understatement! I love the modern look, ease of use and how much it has helped me already. I just wanted to let you know how awesome this app is and that I have downloaded the Chrome extension as well. Thank you so much!” (Sarah L.)“What you've developed is awesome and fills a real need in the busy Professionals daily life. Thank you so much for your hard work and I'm so excited to start using any.do frequently. Keep up the awesome work!” (Max N.)“You have tapped into the awesome.” (Erick T.)Any.DO plans to sync with: Taskos to do list, Todo list, Todo, Task List, Remember The Milk, gTasks, RTM, Producteev, Springpad, Catch, ColorNote Notepad Notes, Google Calendar, Astrid, Outlook, Microsoft Exchange, Any DO and more.We ♥ to stay connected with our users! If you have any feedback, questions or concerns, please email us at: android@any.do or visit: www.any.do/faqFor news and updates you can follow us on Twitter and Facebook: http://twitter.com/any.do http://www.facebook.com/Any.DONOTE: We are asking for permissions to access your personal information and read contacts. We ask this to enable you to collaborate with your friends. Read more about our permissions requirements on our FAQ page - http://www.any.do/faq and our privacy policy http://www.any.do/privacy\"] \n",
      "\n",
      "Name has 3509 values, sample values: \n",
      " ['Any.DO To-do & Tasks List'] \n",
      "\n",
      "Price has 141 values, sample values: \n",
      " ['Free'] \n",
      "\n",
      "Rating has 197 values, sample values: \n",
      " ['4.5'] \n",
      "\n",
      "Short desc has 2549 values, sample values: \n",
      " [\"Any.DO helps you remember everything you have to do. It's free, simple & fun.\"] \n",
      "\n"
     ]
    }
   ],
   "source": [
    "for i in meta_app.columns:\n",
    "  print(f\"{i.capitalize()} has {len(meta_app[i].unique())} values, sample values: \\n {meta_app[i].unique()[:5] if len(meta_app[i].unique()) < 50  else meta_app[i].unique()[:1] } \\n\")"
   ]
  },
  {
   "cell_type": "markdown",
   "metadata": {},
   "source": [
    "#### We used 22 contextual features derived by four contextual dimensions, including time of the day, day of the week, location, and weather\n",
    "- time of the day: **daytime**: 7 contextual Features\n",
    "- day of the week: **weekday** or **isweekend**\n",
    "- day of the week: **city** or **country**\n",
    "- weather: **weather**"
   ]
  },
  {
   "cell_type": "code",
   "execution_count": 60,
   "metadata": {},
   "outputs": [
    {
     "name": "stdout",
     "output_type": "stream",
     "text": [
      "Daytime has 7 values \n",
      " ['morning' 'afternoon' 'evening' 'sunset' 'night' 'noon' 'sunrise']\n",
      "Weekday has 7 values \n",
      " ['sunday' 'saturday' 'monday' 'thursday' 'wednesday' 'tuesday' 'friday']\n",
      "Weather has 9 values \n",
      " ['sunny' 'cloudy' 'unknown' 'foggy' 'rainy' 'stormy' 'drizzle' 'snowy'\n",
      " 'sleet']\n",
      "Isweekend has 2 values \n",
      " ['weekend' 'workday']\n",
      "Homework has 3 values \n",
      " ['unknown' 'home' 'work']\n",
      "City has 233 values \n",
      " [   0  369 1028  147  514  373  799  133  136 1007  401  356  128 1000\n",
      " 1031  374  661  378  390  331]\n",
      "Country has 80 values \n",
      " ['United States' 'Spain' 'Switzerland' 'India' 'Canada' 'unknown'\n",
      " 'United Kingdom' 'Greece' 'Peru' 'Lithuania' 'Poland' 'Israel' 'Belgium'\n",
      " 'Slovenia' 'Palestine' 'Ecuador' 'Mexico' 'Netherlands' 'Australia'\n",
      " 'Germany']\n"
     ]
    }
   ],
   "source": [
    "contextual = [\"daytime\", \"weekday\", \"weather\", \"isweekend\", \"homework\", \"city\", \"country\"]\n",
    "for i in contextual:\n",
    "  print(f\"{i.capitalize()} has {len(df[i].unique())} values \\n {df[i].unique() if len(df[i].unique())<50 else df[i].unique()[:20]}\")"
   ]
  },
  {
   "cell_type": "code",
   "execution_count": 58,
   "metadata": {},
   "outputs": [
    {
     "name": "stdout",
     "output_type": "stream",
     "text": [
      "The number of contextual Features driven by daytime, weekday and weather is 23\n"
     ]
    }
   ],
   "source": [
    "contextual = [\"daytime\", \"weekday\", \"weather\"]\n",
    "num_context = 0 \n",
    "for i in contextual:\n",
    "  num_context += len(df[i].unique())\n",
    "\n",
    "print(f\"The number of contextual Features driven by daytime, weekday and weather is {num_context}\")"
   ]
  },
  {
   "cell_type": "markdown",
   "metadata": {},
   "source": [
    "##### For the location we have 3 posibilities: City, country and homework. \n",
    "- City identifiers are nominal data, meaning they represent categories without any intrinsic order or distance metric between them. Therefore, we cannot treat this as ordinal or interval data. In order to use this to train the model "
   ]
  },
  {
   "cell_type": "code",
   "execution_count": 79,
   "metadata": {},
   "outputs": [
    {
     "name": "stdout",
     "output_type": "stream",
     "text": [
      "7\n",
      "9\n",
      "2\n",
      "3\n"
     ]
    }
   ],
   "source": [
    "contextual = [\"daytime\",  \"weather\", \"isweekend\", \"homework\"]\n",
    "num_context = 0 \n",
    "for i in contextual:\n",
    "  print(len(df[i].unique()))"
   ]
  },
  {
   "cell_type": "code",
   "execution_count": 76,
   "metadata": {},
   "outputs": [
    {
     "name": "stdout",
     "output_type": "stream",
     "text": [
      "The number of contextual Features driven by daytime, weather, isweekend and homework is 21\n"
     ]
    }
   ],
   "source": [
    "contextual = [\"daytime\",  \"weather\", \"isweekend\", \"homework\"]\n",
    "num_context = 0 \n",
    "for i in contextual:\n",
    "  num_context += len(df[i].unique())\n",
    "\n",
    "print(f\"The number of contextual Features driven by daytime, weather, isweekend and homework is {num_context}\")"
   ]
  },
  {
   "cell_type": "markdown",
   "metadata": {},
   "source": [
    "#### We can add the cnt feature as the goal is the rating and achieve the 22 features, additionally they say: \n",
    "- To estimate the usage frequencies of each user, we employ a log transformation on the raw frequency numbers represents the application usage rating scale of 0 to 4.46\n",
    "#### Therefore, cnt feature is indeed used in the model"
   ]
  },
  {
   "cell_type": "code",
   "execution_count": 78,
   "metadata": {},
   "outputs": [
    {
     "name": "stdout",
     "output_type": "stream",
     "text": [
      "Number of unkowns: 1\n"
     ]
    }
   ],
   "source": [
    "ratings = []\n",
    "unkowns = 0\n",
    "for i in df_meta.rating.unique():\n",
    "  if i != 'unknown':\n",
    "    ratings.append(float(i))\n",
    "  else: unkowns += 1\n",
    "  pass\n",
    "print(f\"Number of unkowns: {unkowns}\")"
   ]
  },
  {
   "cell_type": "code",
   "execution_count": 6,
   "metadata": {},
   "outputs": [],
   "source": [
    "\n",
    "df = df_meta[['user', 'item', 'rating', 'cnt', \"daytime\",  \"weather\", \"isweekend\", \"homework\" ]]"
   ]
  },
  {
   "cell_type": "code",
   "execution_count": 7,
   "metadata": {},
   "outputs": [
    {
     "data": {
      "text/html": [
       "<div>\n",
       "<style scoped>\n",
       "    .dataframe tbody tr th:only-of-type {\n",
       "        vertical-align: middle;\n",
       "    }\n",
       "\n",
       "    .dataframe tbody tr th {\n",
       "        vertical-align: top;\n",
       "    }\n",
       "\n",
       "    .dataframe thead th {\n",
       "        text-align: right;\n",
       "    }\n",
       "</style>\n",
       "<table border=\"1\" class=\"dataframe\">\n",
       "  <thead>\n",
       "    <tr style=\"text-align: right;\">\n",
       "      <th></th>\n",
       "      <th>user</th>\n",
       "      <th>item</th>\n",
       "      <th>rating</th>\n",
       "      <th>cnt</th>\n",
       "      <th>daytime</th>\n",
       "      <th>weather</th>\n",
       "      <th>isweekend</th>\n",
       "      <th>homework</th>\n",
       "    </tr>\n",
       "  </thead>\n",
       "  <tbody>\n",
       "    <tr>\n",
       "      <th>0</th>\n",
       "      <td>0</td>\n",
       "      <td>0</td>\n",
       "      <td>4.5</td>\n",
       "      <td>1</td>\n",
       "      <td>morning</td>\n",
       "      <td>sunny</td>\n",
       "      <td>weekend</td>\n",
       "      <td>unknown</td>\n",
       "    </tr>\n",
       "  </tbody>\n",
       "</table>\n",
       "</div>"
      ],
      "text/plain": [
       "   user  item rating  cnt  daytime weather isweekend homework\n",
       "0     0     0    4.5    1  morning   sunny   weekend  unknown"
      ]
     },
     "execution_count": 7,
     "metadata": {},
     "output_type": "execute_result"
    }
   ],
   "source": [
    "df.head(1)"
   ]
  },
  {
   "cell_type": "code",
   "execution_count": 9,
   "metadata": {},
   "outputs": [
    {
     "data": {
      "text/html": [
       "<div>\n",
       "<style scoped>\n",
       "    .dataframe tbody tr th:only-of-type {\n",
       "        vertical-align: middle;\n",
       "    }\n",
       "\n",
       "    .dataframe tbody tr th {\n",
       "        vertical-align: top;\n",
       "    }\n",
       "\n",
       "    .dataframe thead th {\n",
       "        text-align: right;\n",
       "    }\n",
       "</style>\n",
       "<table border=\"1\" class=\"dataframe\">\n",
       "  <thead>\n",
       "    <tr style=\"text-align: right;\">\n",
       "      <th></th>\n",
       "      <th>user</th>\n",
       "      <th>item</th>\n",
       "      <th>rating</th>\n",
       "      <th>cnt</th>\n",
       "      <th>daytime_afternoon</th>\n",
       "      <th>daytime_evening</th>\n",
       "      <th>daytime_morning</th>\n",
       "      <th>daytime_night</th>\n",
       "      <th>daytime_noon</th>\n",
       "      <th>daytime_sunrise</th>\n",
       "      <th>...</th>\n",
       "      <th>weather_sleet</th>\n",
       "      <th>weather_snowy</th>\n",
       "      <th>weather_stormy</th>\n",
       "      <th>weather_sunny</th>\n",
       "      <th>weather_unknown</th>\n",
       "      <th>isweekend_weekend</th>\n",
       "      <th>isweekend_workday</th>\n",
       "      <th>homework_home</th>\n",
       "      <th>homework_unknown</th>\n",
       "      <th>homework_work</th>\n",
       "    </tr>\n",
       "  </thead>\n",
       "  <tbody>\n",
       "    <tr>\n",
       "      <th>0</th>\n",
       "      <td>0</td>\n",
       "      <td>0</td>\n",
       "      <td>4.5</td>\n",
       "      <td>1</td>\n",
       "      <td>0</td>\n",
       "      <td>0</td>\n",
       "      <td>1</td>\n",
       "      <td>0</td>\n",
       "      <td>0</td>\n",
       "      <td>0</td>\n",
       "      <td>...</td>\n",
       "      <td>0</td>\n",
       "      <td>0</td>\n",
       "      <td>0</td>\n",
       "      <td>1</td>\n",
       "      <td>0</td>\n",
       "      <td>1</td>\n",
       "      <td>0</td>\n",
       "      <td>0</td>\n",
       "      <td>1</td>\n",
       "      <td>0</td>\n",
       "    </tr>\n",
       "  </tbody>\n",
       "</table>\n",
       "<p>1 rows × 25 columns</p>\n",
       "</div>"
      ],
      "text/plain": [
       "   user  item rating  cnt  daytime_afternoon  daytime_evening  \\\n",
       "0     0     0    4.5    1                  0                0   \n",
       "\n",
       "   daytime_morning  daytime_night  daytime_noon  daytime_sunrise  ...  \\\n",
       "0                1              0             0                0  ...   \n",
       "\n",
       "   weather_sleet  weather_snowy  weather_stormy  weather_sunny  \\\n",
       "0              0              0               0              1   \n",
       "\n",
       "   weather_unknown  isweekend_weekend  isweekend_workday  homework_home  \\\n",
       "0                0                  1                  0              0   \n",
       "\n",
       "   homework_unknown  homework_work  \n",
       "0                 1              0  \n",
       "\n",
       "[1 rows x 25 columns]"
      ]
     },
     "execution_count": 9,
     "metadata": {},
     "output_type": "execute_result"
    }
   ],
   "source": [
    "contextual = [\"daytime\",  \"weather\", \"isweekend\", \"homework\"]\n",
    "df_bin = pd.get_dummies(df, columns=contextual, dtype=int)\n",
    "df_bin.head(1)"
   ]
  },
  {
   "cell_type": "code",
   "execution_count": 10,
   "metadata": {},
   "outputs": [
    {
     "name": "stdout",
     "output_type": "stream",
     "text": [
      "['morning' 'afternoon' 'evening' 'sunset' 'night' 'noon' 'sunrise']\n",
      "['sunny' 'cloudy' 'unknown' 'foggy' 'rainy' 'stormy' 'drizzle' 'snowy'\n",
      " 'sleet']\n",
      "['weekend' 'workday']\n",
      "['unknown' 'home' 'work']\n"
     ]
    }
   ],
   "source": [
    "for i in contextual:\n",
    "  print(df[i].unique())"
   ]
  },
  {
   "cell_type": "code",
   "execution_count": 39,
   "metadata": {},
   "outputs": [],
   "source": [
    "user_interactions_sorted = df.groupby(\"item\")[\"cnt\"].count().sort_values(ascending=False)"
   ]
  },
  {
   "cell_type": "code",
   "execution_count": 40,
   "metadata": {},
   "outputs": [
    {
     "data": {
      "text/plain": [
       "(23.56761391474767, 3.0)"
      ]
     },
     "execution_count": 40,
     "metadata": {},
     "output_type": "execute_result"
    }
   ],
   "source": [
    "user_interactions_sorted.mean(), user_interactions_sorted.median()"
   ]
  },
  {
   "cell_type": "code",
   "execution_count": 44,
   "metadata": {},
   "outputs": [
    {
     "data": {
      "text/plain": [
       "2360"
      ]
     },
     "execution_count": 44,
     "metadata": {},
     "output_type": "execute_result"
    }
   ],
   "source": [
    "sum(user_interactions_sorted <= 3) "
   ]
  },
  {
   "cell_type": "code",
   "execution_count": 29,
   "metadata": {},
   "outputs": [
    {
     "data": {
      "text/plain": [
       "(100.52560083594567, 21.0)"
      ]
     },
     "execution_count": 29,
     "metadata": {},
     "output_type": "execute_result"
    }
   ],
   "source": [
    "# average interaction \n"
   ]
  },
  {
   "cell_type": "markdown",
   "metadata": {},
   "source": [
    "## Distribution Plots"
   ]
  },
  {
   "cell_type": "code",
   "execution_count": 3,
   "metadata": {},
   "outputs": [
    {
     "data": {
      "image/png": "[encoded data removed]",
      "text/plain": [
       "<Figure size 1000x600 with 1 Axes>"
      ]
     },
     "metadata": {},
     "output_type": "display_data"
    }
   ],
   "source": [
    "user_interactions_sorted = df.groupby(\"user\")[\"cnt\"].count().sort_values(ascending=False)\n",
    "sorted_counts_df = user_interactions_sorted.reset_index()\n",
    "sorted_counts_df.columns = ['User', 'Count of Items'] \n",
    "# sorted_counts_df.to_csv(\"user_interactions_count.csv\")\n",
    "\n",
    "\n",
    "plt.figure(figsize=(10, 6))\n",
    "plt.bar(range(len(sorted_counts_df)), sorted_counts_df['Count of Items'])\n",
    "plt.xlabel('User')\n",
    "plt.ylabel('Count of Items')\n",
    "plt.title('Count of Items per User')\n",
    "plt.xticks(rotation=45)  # Rotate for better label readability\n",
    "plt.show()"
   ]
  },
  {
   "cell_type": "code",
   "execution_count": 4,
   "metadata": {},
   "outputs": [
    {
     "data": {
      "image/png": "[encoded data removed]",
      "text/plain": [
       "<Figure size 1200x800 with 1 Axes>"
      ]
     },
     "metadata": {},
     "output_type": "display_data"
    }
   ],
   "source": [
    "# Step 1: Calculate interaction counts per user\n",
    "interaction_counts = df.groupby('user')['cnt'].size()\n",
    "\n",
    "# Step 2: Define the bins and labels for the categories\n",
    "bins = [1, 2, 3, 4, 5, 6, 7, 8, 9, 10, 20, 30, np.inf]\n",
    "labels = ['1', '2', '3', '4', '5', '6', '7', '8', '9', '10-20', '20-30', '>30']\n",
    "\n",
    "# Step 3: Bin the data into the specified categories\n",
    "interaction_categories = pd.cut(interaction_counts, bins=bins, labels=labels, right=False)\n",
    "\n",
    "# Step 4: Count the number of users in each category\n",
    "category_counts = interaction_categories.value_counts().sort_index()\n",
    "\n",
    "# Step 5: Plot\n",
    "plt.figure(figsize=(12, 8))\n",
    "plt.bar(category_counts.index, category_counts.values)\n",
    "plt.xlabel('Number of Interactions')\n",
    "plt.ylabel('Number of Users')\n",
    "plt.title('Number of Users by Interaction Categories')\n",
    "plt.xticks(rotation=45)  # Improve readability of x-axis labels\n",
    "\n",
    "plt.show()\n",
    "\n",
    "# category_counts.to_csv(\"frequency_intercation.csv\")"
   ]
  },
  {
   "cell_type": "code",
   "execution_count": 45,
   "metadata": {},
   "outputs": [
    {
     "data": {
      "image/png": "[encoded data removed]",
      "text/plain": [
       "<Figure size 1200x800 with 1 Axes>"
      ]
     },
     "metadata": {},
     "output_type": "display_data"
    }
   ],
   "source": [
    "# Step 1: Calculate interaction counts per user\n",
    "interaction_counts_items = df.groupby('item')['cnt'].size()\n",
    "\n",
    "# Step 2: Define the bins and labels for the categories\n",
    "bins = [1, 2, 3, 4, 5, 6, 7, 8, 9, 10, 20, 30, np.inf]\n",
    "labels = ['1', '2', '3', '4', '5', '6', '7', '8', '9', '10-20', '20-30', '>30']\n",
    "\n",
    "# Step 3: Bin the data into the specified categories\n",
    "interaction_categories = pd.cut(interaction_counts_items, bins=bins, labels=labels, right=False)\n",
    "\n",
    "# Step 4: Count the number of users in each category\n",
    "category_counts = interaction_categories.value_counts().sort_index()\n",
    "\n",
    "# Step 5: Plot\n",
    "plt.figure(figsize=(12, 8))\n",
    "plt.bar(category_counts.index, category_counts.values)\n",
    "plt.xlabel('Number of Interactions')\n",
    "plt.ylabel('Number of interacted times')\n",
    "plt.title('Number of Items by Interaction Categories')\n",
    "plt.xticks(rotation=45)  # Improve readability of x-axis labels\n",
    "\n",
    "plt.show()\n",
    "\n",
    "category_counts.to_csv(\"frequency_intercation.csv\")"
   ]
  },
  {
   "cell_type": "code",
   "execution_count": 5,
   "metadata": {},
   "outputs": [
    {
     "data": {
      "image/png": "[encoded data removed]",
      "text/plain": [
       "<Figure size 1000x600 with 1 Axes>"
      ]
     },
     "metadata": {},
     "output_type": "display_data"
    }
   ],
   "source": [
    "item_interactions_sorted = df.groupby(\"item\")[\"cnt\"].count().sort_values(ascending=False)\n",
    "sorted_counts_df = item_interactions_sorted.reset_index()\n",
    "sorted_counts_df.columns = ['Item', 'Count of users'] \n",
    "# sorted_counts_df.to_csv(\"item_interactions_count.csv\")\n",
    "\n",
    "\n",
    "plt.figure(figsize=(10, 6))\n",
    "plt.bar(range(len(sorted_counts_df)), sorted_counts_df['Count of users'])\n",
    "plt.xlabel('User')\n",
    "plt.ylabel('Count of Items')\n",
    "plt.title('Count of Items per User')\n",
    "plt.xticks(rotation=45)  # Rotate for better label readability\n",
    "plt.show()"
   ]
  }
 ],
 "metadata": {
  "kernelspec": {
   "display_name": "venv",
   "language": "python",
   "name": "python3"
  },
  "language_info": {
   "codemirror_mode": {
    "name": "ipython",
    "version": 3
   },
   "file_extension": ".py",
   "mimetype": "text/x-python",
   "name": "python",
   "nbconvert_exporter": "python",
   "pygments_lexer": "ipython3",
   "version": "3.10.12"
  }
 },
 "nbformat": 4,
 "nbformat_minor": 2
}
