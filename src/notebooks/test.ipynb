{
 "cells": [
  {
   "cell_type": "code",
   "execution_count": 6,
   "metadata": {},
   "outputs": [],
   "source": [
    "path = \"logs_yelp-b264-f8-GPUV100\"\n",
    "elapsed_time = []\n",
    "with open(path, \"r\") as f:\n",
    "  for line in f:\n",
    "    if \"[\" in line:\n",
    "      with open(\"yelp-b264-f8-GPUV100\", \"a\") as f2:\n",
    "        f2.write(line)\n",
    "      # [0] Elapsed time: 99.98m - Train time: 93.42m - Test time: 6.56\n",
    "      el_time = float(line.split(\" \")[3].split(\"m\")[0])\n",
    "      elapsed_time.append(el_time)"
   ]
  },
  {
   "cell_type": "code",
   "execution_count": 21,
   "metadata": {},
   "outputs": [
    {
     "name": "stdout",
     "output_type": "stream",
     "text": [
      "improvement on time 25.12852840232542\n",
      "Total time cpu for 100 epochs 14277.00 -  min 237.95 hours\n",
      "Total time gpu for 100 epochs 10689.40 -  min 178.16 hours\n",
      "Improved time 3587.60 -  min 59.79 hours\n"
     ]
    }
   ],
   "source": [
    "gpu_time = sum(elapsed_time)/len(elapsed_time)\n",
    "cpu_time = 142.77\n",
    "improvement = (cpu_time-gpu_time)/cpu_time*100\n",
    "print('improvement on time', improvement)\n",
    "print(f'Total time cpu for 100 epochs {cpu_time*100:.2f} -  min {cpu_time*100/60:.2f} hours')\n",
    "print(f'Total time gpu for 100 epochs {gpu_time*100:.2f} -  min {gpu_time*100/60:.2f} hours')\n",
    "print(f'Improved time {cpu_time*100-gpu_time*100:.2f} -  min {(cpu_time*100-gpu_time*100)/60:.2f} hours')\n"
   ]
  },
  {
   "cell_type": "code",
   "execution_count": 10,
   "metadata": {},
   "outputs": [
    {
     "data": {
      "text/plain": [
       "0.33562220517522035"
      ]
     },
     "execution_count": 10,
     "metadata": {},
     "output_type": "execute_result"
    }
   ],
   "source": [
    "abs((cpu_time - gpu_time))/gpu_time"
   ]
  },
  {
   "cell_type": "code",
   "execution_count": 1,
   "metadata": {},
   "outputs": [
    {
     "name": "stdout",
     "output_type": "stream",
     "text": [
      "Number of CPU cores available: 12\n"
     ]
    }
   ],
   "source": [
    "import os\n",
    "\n",
    "cpu_cores = os.cpu_count()\n",
    "print(\"Number of CPU cores available:\", cpu_cores)"
   ]
  },
  {
   "cell_type": "code",
   "execution_count": 35,
   "metadata": {},
   "outputs": [],
   "source": [
    "import torch\n",
    "\n",
    "\n",
    "device = torch.device(\"cpu: \")\n",
    "# device = torch.device(\"cuda\" if torch.cuda.is_available() else \"cpu\")"
   ]
  },
  {
   "cell_type": "code",
   "execution_count": 40,
   "metadata": {},
   "outputs": [],
   "source": [
    "local_hr = 0.5\n",
    "local_rr = 0.5\n",
    "local_ndcg = 0.5\n",
    "\n",
    "local_metrics = torch.tensor([local_hr, local_rr, local_ndcg], dtype=torch.float32)\n",
    "# Gather metrics on rank 0\n",
    "gathered_metrics = [torch.zeros_like(local_metrics) for _ in range(4)]"
   ]
  },
  {
   "cell_type": "code",
   "execution_count": 42,
   "metadata": {},
   "outputs": [
    {
     "data": {
      "text/plain": [
       "tensor([0.5000, 0.5000, 0.5000])"
      ]
     },
     "execution_count": 42,
     "metadata": {},
     "output_type": "execute_result"
    }
   ],
   "source": [
    "local_metrics"
   ]
  },
  {
   "cell_type": "code",
   "execution_count": 48,
   "metadata": {},
   "outputs": [],
   "source": [
    "gathered_metrics = [local_metrics, local_metrics*2, local_metrics*3, local_metrics*4]"
   ]
  },
  {
   "cell_type": "code",
   "execution_count": 51,
   "metadata": {},
   "outputs": [
    {
     "data": {
      "text/plain": [
       "[tensor([0.1000, 0.2000, 0.1000]),\n",
       " tensor([0.2000, 0.3000, 0.2000]),\n",
       " tensor([0.1500, 0.2500, 0.1500]),\n",
       " tensor([0.0500, 0.1500, 0.0500])]"
      ]
     },
     "execution_count": 51,
     "metadata": {},
     "output_type": "execute_result"
    }
   ],
   "source": [
    "gathered_metrics = [\n",
    "    torch.tensor([0.1, 0.2, 0.1]),\n",
    "    torch.tensor([0.2, 0.3, 0.2]),\n",
    "    torch.tensor([0.15, 0.25, 0.15]),\n",
    "    torch.tensor([0.05, 0.15, 0.05])\n",
    "]\n",
    "gathered_metrics"
   ]
  },
  {
   "cell_type": "code",
   "execution_count": 53,
   "metadata": {},
   "outputs": [
    {
     "data": {
      "text/plain": [
       "tensor([[0.1000, 0.2000, 0.1000],\n",
       "        [0.2000, 0.3000, 0.2000],\n",
       "        [0.1500, 0.2500, 0.1500],\n",
       "        [0.0500, 0.1500, 0.0500]])"
      ]
     },
     "execution_count": 53,
     "metadata": {},
     "output_type": "execute_result"
    }
   ],
   "source": [
    "metrics_tensor = torch.stack(gathered_metrics)\n",
    "metrics_tensor"
   ]
  },
  {
   "cell_type": "code",
   "execution_count": 56,
   "metadata": {},
   "outputs": [
    {
     "data": {
      "text/plain": [
       "tensor([0.1250, 0.2250, 0.1250])"
      ]
     },
     "execution_count": 56,
     "metadata": {},
     "output_type": "execute_result"
    }
   ],
   "source": [
    "average_metrics = torch.mean(metrics_tensor, dim=0)\n",
    "average_metrics"
   ]
  },
  {
   "cell_type": "code",
   "execution_count": 59,
   "metadata": {},
   "outputs": [
    {
     "name": "stdout",
     "output_type": "stream",
     "text": [
      "Average HR: 0.1250\n"
     ]
    }
   ],
   "source": [
    "print(f\"Average HR: {average_metrics[0]:.4f}\")"
   ]
  },
  {
   "cell_type": "code",
   "execution_count": 55,
   "metadata": {},
   "outputs": [
    {
     "name": "stdout",
     "output_type": "stream",
     "text": [
      "Average HR: 0.1250\n",
      "Average MRR: 0.2250\n",
      "Average NDCG: 0.1250\n"
     ]
    }
   ],
   "source": [
    "print(f\"Average HR: {average_metrics[0]:.4f}\")\n",
    "print(f\"Average MRR: {average_metrics[1]:.4f}\")\n",
    "print(f\"Average NDCG: {average_metrics[2]:.4f}\")"
   ]
  },
  {
   "cell_type": "code",
   "execution_count": 5,
   "metadata": {},
   "outputs": [
    {
     "name": "stdout",
     "output_type": "stream",
     "text": [
      "0.268662691116333\n"
     ]
    }
   ],
   "source": [
    "from time import time\n",
    "\n",
    "s1 = time()\n",
    "for i in range(10000000):\n",
    "  pass\n",
    "s2 = time()\n",
    "print(s2-s1)"
   ]
  },
  {
   "cell_type": "code",
   "execution_count": 66,
   "metadata": {},
   "outputs": [
    {
     "data": {
      "text/plain": [
       "False"
      ]
     },
     "execution_count": 66,
     "metadata": {},
     "output_type": "execute_result"
    }
   ],
   "source": [
    "d = dict()\n",
    "# access last elemento on dictionry\n",
    "bool(d.items())\n"
   ]
  }
 ],
 "metadata": {
  "kernelspec": {
   "display_name": "venv",
   "language": "python",
   "name": "python3"
  },
  "language_info": {
   "codemirror_mode": {
    "name": "ipython",
    "version": 3
   },
   "file_extension": ".py",
   "mimetype": "text/x-python",
   "name": "python",
   "nbconvert_exporter": "python",
   "pygments_lexer": "ipython3",
   "version": "3.10.12"
  }
 },
 "nbformat": 4,
 "nbformat_minor": 2
}
