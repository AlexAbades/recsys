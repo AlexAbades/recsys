{
 "cells": [
  {
   "cell_type": "code",
   "execution_count": 1,
   "metadata": {},
   "outputs": [],
   "source": [
    "import torch \n",
    "from torch import nn\n",
    "import sys \n",
    "from torch.utils.data import DataLoader\n",
    "\n",
    "sys.path.append('/home/alexabades/recsys')\n",
    "\n",
    "from src.data.ContextDataLoader import ContextDataLoader\n",
    "from src.utils.tools.tools import ROOT_PATH"
   ]
  },
  {
   "cell_type": "code",
   "execution_count": 2,
   "metadata": {},
   "outputs": [],
   "source": [
    "ROOT_PATH\n",
    "batch_size = 100"
   ]
  },
  {
   "cell_type": "code",
   "execution_count": 5,
   "metadata": {},
   "outputs": [],
   "source": [
    "# Load preprocessed Data\n",
    "from src.data.ContextDataLoader import ContextDataLoader\n",
    "from src.utils.tools.tools import ROOT_PATH\n",
    "\n",
    "\n",
    "train_data = ContextDataLoader(\n",
    "    ROOT_PATH + \"/data/processed/frappeCtxA/frappeCtxA\" + \".train.rating\"\n",
    ")\n",
    "test_data = ContextDataLoader(\n",
    "    ROOT_PATH + \"/data/processed/frappeCtxA/frappeCtxA\" + \".test.rating\"\n",
    ")\n",
    "\n",
    "# Dataloader\n",
    "train_loader = DataLoader(train_data, batch_size)\n",
    "test_loader = DataLoader(test_data, batch_size)\n",
    "\n",
    "# Num User, Items Context Features\n",
    "num_users = train_data.num_users\n",
    "num_items = train_data.num_items\n",
    "num_context = train_data.num_context\n"
   ]
  },
  {
   "cell_type": "code",
   "execution_count": null,
   "metadata": {},
   "outputs": [],
   "source": [
    "from src.models.contextNFC.context_nfc import DeepNCF\n",
    "from torch import nn, optim\n",
    "\n",
    "_device = torch.device(\"cuda\" if torch.cuda.is_available() else \"cpu\")\n"
   ]
  },
  {
   "cell_type": "code",
   "execution_count": 47,
   "metadata": {},
   "outputs": [],
   "source": [
    "model = DeepNCF(\n",
    "        num_users=num_users,\n",
    "        num_items=num_items,\n",
    "        num_context=num_context,\n",
    "        mf_dim=8,\n",
    "        layers=[31, 10, 20],\n",
    "    ).to(_device)\n",
    "\n",
    "loss_fn = nn.MSELoss()\n",
    "optimizer = optim.Adam(model.parameters(), lr=0.001)\n",
    "# TODO: We have to be careful, the layers minus the num of contextual features have to give a even number\n",
    "\n",
    "for batch in train_loader:\n",
    "        user_input = batch[\"user\"].to(_device)\n",
    "        item_input = batch[\"item\"].to(_device)\n",
    "        context_input = batch[\"context\"].to(_device)\n",
    "        ratings = batch[\"rating\"].to(_device)\n",
    "        # labels = labels.view(-1, 1)\n",
    "\n",
    "        output = model(user_input, item_input, context_input)\n",
    "        # loss = loss_fn(output, ratings)\n",
    "        # optimizer.zero_grad()\n",
    "        # loss.backward()\n",
    "        # optimizer.step()\n",
    "        break"
   ]
  },
  {
   "cell_type": "code",
   "execution_count": 40,
   "metadata": {},
   "outputs": [
    {
     "data": {
      "text/plain": [
       "torch.Size([100, 1])"
      ]
     },
     "execution_count": 40,
     "metadata": {},
     "output_type": "execute_result"
    }
   ],
   "source": [
    "output.shape"
   ]
  },
  {
   "cell_type": "code",
   "execution_count": 48,
   "metadata": {},
   "outputs": [
    {
     "data": {
      "text/plain": [
       "3.851875"
      ]
     },
     "execution_count": 48,
     "metadata": {},
     "output_type": "execute_result"
    }
   ],
   "source": [
    "import numpy as np\n",
    "from typing import List\n",
    "\n",
    "from torch import Tensor\n",
    "\n",
    "\n",
    "def rmse(\n",
    "    predictions: List[float | int] | Tensor, ground_truth: List[float | int] | Tensor\n",
    ") -> float:\n",
    "    \"\"\"\n",
    "    Function to calculate the RMSE from 2 lists or tensors\n",
    "\n",
    "    Parameters:\n",
    "        - predictions (List[float | int] or Tensor): Predictions made by the model\n",
    "        - ground_truth (List[float | int] or Tensor): Ground truth values\n",
    "\n",
    "    Returns:\n",
    "        - RMSE (float): The root mean square error between predictions and ground truth\n",
    "    \"\"\"\n",
    "    if len(predictions) != len(ground_truth):\n",
    "        raise ValueError(\"Predictions and ground truth must be of the same length.\")\n",
    "\n",
    "    if isinstance(predictions, Tensor):\n",
    "        if predictions.requires_grad:\n",
    "            predictions = predictions.detach()\n",
    "        if predictions.is_cuda:\n",
    "            predictions = predictions.cpu()\n",
    "        predictions = predictions.numpy()\n",
    "\n",
    "    if isinstance(ground_truth, Tensor):\n",
    "        if ground_truth.requires_grad:\n",
    "            ground_truth = ground_truth.detach()\n",
    "        if ground_truth.is_cuda:\n",
    "            ground_truth = ground_truth.cpu()\n",
    "        ground_truth = ground_truth.numpy()\n",
    "\n",
    "    error = np.array(predictions) - np.array(ground_truth)\n",
    "    squared_error = np.square(error)\n",
    "    mean_squared_error = np.mean(squared_error)\n",
    "    root_mean_squared_error = np.sqrt(mean_squared_error)\n",
    "\n",
    "    return root_mean_squared_error\n",
    "\n",
    "\n",
    "rmse(ratings.view(-1, 1), output)"
   ]
  },
  {
   "cell_type": "code",
   "execution_count": 52,
   "metadata": {},
   "outputs": [],
   "source": [
    "rsme_all = []\n",
    "for i in range(10):\n",
    "  rsme_all.append(rmse(ratings.view(-1, 1), output))"
   ]
  },
  {
   "cell_type": "code",
   "execution_count": 54,
   "metadata": {},
   "outputs": [
    {
     "data": {
      "text/plain": [
       "3.8518748"
      ]
     },
     "execution_count": 54,
     "metadata": {},
     "output_type": "execute_result"
    }
   ],
   "source": [
    "np.mean(rsme_all)"
   ]
  },
  {
   "cell_type": "code",
   "execution_count": 31,
   "metadata": {},
   "outputs": [
    {
     "data": {
      "text/plain": [
       "True"
      ]
     },
     "execution_count": 31,
     "metadata": {},
     "output_type": "execute_result"
    }
   ],
   "source": [
    "from torch import Tensor\n",
    "\n",
    "type(output) == Tensor\n",
    "isinstance(output, Tensor)"
   ]
  },
  {
   "cell_type": "code",
   "execution_count": 33,
   "metadata": {},
   "outputs": [],
   "source": [
    "predictions = torch.tensor([1, 2, 3])\n",
    "predictions = [1,2]\n",
    "\n",
    "if isinstance(predictions, Tensor) and predictions.is_cuda:\n",
    "  print('To CP')"
   ]
  },
  {
   "cell_type": "code",
   "execution_count": 60,
   "metadata": {},
   "outputs": [
    {
     "name": "stdout",
     "output_type": "stream",
     "text": [
      "aa\n"
     ]
    }
   ],
   "source": [
    "\n",
    "if not 2 % 1:\n",
    "  print('aa')"
   ]
  }
 ],
 "metadata": {
  "kernelspec": {
   "display_name": "venv",
   "language": "python",
   "name": "python3"
  },
  "language_info": {
   "codemirror_mode": {
    "name": "ipython",
    "version": 3
   },
   "file_extension": ".py",
   "mimetype": "text/x-python",
   "name": "python",
   "nbconvert_exporter": "python",
   "pygments_lexer": "ipython3",
   "version": "3.10.12"
  }
 },
 "nbformat": 4,
 "nbformat_minor": 2
}
